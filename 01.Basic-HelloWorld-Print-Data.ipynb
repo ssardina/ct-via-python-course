{
 "cells": [
  {
   "cell_type": "markdown",
   "metadata": {},
   "source": [
    "Notebook 01: \"Hello world\" & Printing Data\n",
    "===\n",
    "\n",
    "--------------------------------\n",
    "A [\"Hello, World!\"](https://en.wikipedia.org/wiki/%22Hello,_World!%22_program) program is a computer program that outputs or displays the message _\"Hello, World!\"_. \n",
    "\n",
    "Because it is very simple in most programming languages, it is often used to illustrate the basic syntax of a programming language and is often the first program people write.\n",
    "\n",
    "This simple program also shows how to print things in the screen."
   ]
  },
  {
   "cell_type": "code",
   "execution_count": 3,
   "metadata": {},
   "outputs": [
    {
     "name": "stdout",
     "output_type": "stream",
     "text": [
      "Hello, World!\n"
     ]
    }
   ],
   "source": [
    "print(\"Hello, World!\")"
   ]
  },
  {
   "cell_type": "markdown",
   "metadata": {},
   "source": [
    "**[EXERCISE]** Now, try yourself by printing _\"Goodbye, world!\"_. Remember you execute the piece of code by pressing Shift+Enter in the corresponding box."
   ]
  },
  {
   "cell_type": "code",
   "execution_count": 5,
   "metadata": {},
   "outputs": [
    {
     "name": "stdout",
     "output_type": "stream",
     "text": [
      "Hello, World!\n"
     ]
    }
   ],
   "source": [
    "# Example, do not modify!\n",
    "print(\"Hello, World!\")\n",
    "\n",
    "# Write your code below this line to print \"Goodby, world!\"\n",
    "\n",
    "\n"
   ]
  },
  {
   "cell_type": "markdown",
   "metadata": {},
   "source": [
    "## Data Types and Numbers"
   ]
  },
  {
   "cell_type": "markdown",
   "metadata": {},
   "source": [
    "OK, what we used above was the `print` statement to show outputs in the screen. The statement took data, in this case the `String` to show. Python, and most programming languages, allow the manipulation of various sort of _basic_ data types such as:\n",
    "\n",
    "|      Name      \t|  Type \t|                               Description                              \t|\n",
    "|:--------------:\t|:-----:\t|:----------------------------------------------------------------------\t|\n",
    "|    Integers    \t|  `int`  \t| Whole numbers like 2, 32, -212, and 0                                  \t|\n",
    "| Floating point \t| `float` \t| Numbers with a decimal point:    91.33     3.33    200.0               \t|\n",
    "|     Strings    \t|  `str`  \t| Ordered sequence of characters:   \"hello\"   'Sammy'   \"2000\"  \"楽しい\" \t  |\n",
    "| Booleans       \t| `bool`  \t| Logical value indicating `True` or `False`                                |\n",
    "\n",
    "\n",
    "So, let's print some examples of each...."
   ]
  },
  {
   "cell_type": "code",
   "execution_count": 9,
   "metadata": {},
   "outputs": [
    {
     "name": "stdout",
     "output_type": "stream",
     "text": [
      "23\n",
      "-23\n",
      "0\n",
      "91.33\n",
      "100.0\n",
      "-3.333\n",
      "Hello, world!\n",
      "Goodbye, world!\n",
      "True\n",
      "False\n"
     ]
    }
   ],
   "source": [
    "# Show some int data\n",
    "print(23)\n",
    "print(-23)\n",
    "print(0)\n",
    "\n",
    "# Show some float data\n",
    "print(91.33)\n",
    "print(100.0)\n",
    "print(-3.333)\n",
    "\n",
    "# Show some str data\n",
    "print(\"Hello, world!\")\n",
    "print(\"Goodbye, world!\")\n",
    "\n",
    "# Show both Boolean data\n",
    "print(True)\n",
    "print(False)\n"
   ]
  },
  {
   "cell_type": "markdown",
   "metadata": {},
   "source": [
    "Python is very convenient to do math calculations. One can use it to do addition (`+`), subtraction (`-`), multiplication (`*`) and division (`/`), as well as more advanced math operations such as:\n",
    "\n",
    "* **Exponentiation**: `**`. For example 4 to the power of 3 is written `3**7`.\n",
    "* **Floor division**: `//`. For example, 7 // 4 equals 1.\n",
    "* **Modulo/Reminder**: `%`. For example, example 7 % 4 equals 3.\n",
    "\n",
    "Check some examples:"
   ]
  },
  {
   "cell_type": "code",
   "execution_count": 10,
   "metadata": {},
   "outputs": [
    {
     "name": "stdout",
     "output_type": "stream",
     "text": [
      "15\n",
      "-5\n",
      "12\n",
      "3.3333333333333335\n",
      "3\n",
      "1\n",
      "125\n"
     ]
    }
   ],
   "source": [
    "# Addition, subtraction\n",
    "print(10 + 5)\n",
    "print(5 - 10)\n",
    "\n",
    "# Multiplication and division, and floor division\n",
    "print(3 * 4)\n",
    "print(10 / 3)\n",
    "\n",
    "print(10 // 3)\n",
    "print(10 % 3)\n",
    "print(5 ** 3)\n",
    "\n"
   ]
  },
  {
   "cell_type": "markdown",
   "metadata": {},
   "source": [
    "**[EXERCISE]** You have two jobs, in which you have earnt \\\\$12,734 and \\\\$87,621 respectively over the year. You need to pay 26.5\\% tax after the first \\\\$18,000 dollars earnt. How much tax do you have to pay?"
   ]
  },
  {
   "cell_type": "code",
   "execution_count": 12,
   "metadata": {},
   "outputs": [],
   "source": [
    "# Produce one statement to show how much tax you have to pay (remember, press Shift+Enter to see the result)\n"
   ]
  },
  {
   "cell_type": "markdown",
   "metadata": {},
   "source": [
    "**[EXERCISE]** Suppose you have $95, which you can invest with a 15% return each year. After one year, it's 95×1.15=110 dollars, and after two years it's 95×1.15×1.15=121. Add code on the right to calculate how much money you end up with after 9 years."
   ]
  },
  {
   "cell_type": "code",
   "execution_count": 16,
   "metadata": {},
   "outputs": [
    {
     "name": "stdout",
     "output_type": "stream",
     "text": [
      "109.24999999999999\n",
      "125.63749999999997\n"
     ]
    }
   ],
   "source": [
    "# This calculates how much is your $100 worth after 1 and 2 years\n",
    "print(95*1.15)\n",
    "print(95*1.15*1.15)\n",
    "\n",
    "# Enter your code below to calculate how much is your $95 worth after 6 years?\n"
   ]
  },
  {
   "cell_type": "markdown",
   "metadata": {},
   "source": [
    "## Comments and Errors"
   ]
  },
  {
   "cell_type": "markdown",
   "metadata": {},
   "source": [
    "As you can see above, we have used the tag `#` at the tsart of a line to signal Python that the line is just a **comment**. Comments are useful to make sure that others, and even you later, can understand what your code is about. Good programmers write good comments!\n",
    "\n",
    "Comments are not run as Python code, so they will not affect the result of the program. All programming languages have some kind of symbol to tag comments, such as `//` in Java, `/* .. */` in C, or `%` in Prolog.\n",
    "\n",
    "\n",
    "### What makes a good comment?\n",
    "\n",
    "* It is short and to the point, but a complete thought. Most comments should be written in complete sentences.\n",
    "* It explains your thinking, so that when you return to the code later you will understand how you were * approaching the problem.\n",
    "* It explains your thinking, so that others who work with your code will understand your overall approach to a problem.\n",
    "* It explains particularly difficult sections of code in detail.\n",
    "\n",
    "### When should you write comments?\n",
    "\n",
    "* When you have to think about code before writing it.\n",
    "* When you are likely to forget later exactly how you were approaching a problem.\n",
    "* When there is more than one way to solve a problem.\n",
    "* When others are unlikely to anticipate your way of thinking about a problem.\n",
    "\n",
    "Writing good comments is one of the clear signs of a good programmer. If you have any real interest in taking programming seriously, start using comments now. You will see them throughout the examples in these notebooks."
   ]
  },
  {
   "cell_type": "markdown",
   "metadata": {},
   "source": [
    "**[EXERCISE]** Above we forgot to comment the last three print statements, can you help us complete the code by adding one comment line before them to explain what those three lines are meant to print? Thanks! (Check that the output does not change at all!)"
   ]
  },
  {
   "cell_type": "code",
   "execution_count": 36,
   "metadata": {},
   "outputs": [
    {
     "name": "stdout",
     "output_type": "stream",
     "text": [
      "15\n",
      "-5\n",
      "12\n",
      "3.3333333333333335\n",
      "3\n",
      "1\n",
      "125\n"
     ]
    }
   ],
   "source": [
    "# Addition, subtraction\n",
    "print(10 + 5)\n",
    "print(5 - 10)\n",
    "\n",
    "# Multiplication and division, and floor division\n",
    "print(3 * 4)\n",
    "print(10 / 3)\n",
    "\n",
    "print(10 // 3)\n",
    "print(10 % 3)\n",
    "print(5 ** 3)"
   ]
  },
  {
   "cell_type": "markdown",
   "metadata": {},
   "source": [
    "### Sorry to bug you...\n",
    "\n",
    "Finally, we should note that sometimes when we program, we make mistakes, sometimes very silly mistakes. When that happens, Python (or whatever language you are using) will complain and will give you a message (sometimes a bit cryptic) that something went wrong. \n",
    "\n",
    "**[EXERCISE]** For example, this program has two errors, can you spot them and fix them?"
   ]
  },
  {
   "cell_type": "code",
   "execution_count": 29,
   "metadata": {},
   "outputs": [
    {
     "ename": "SyntaxError",
     "evalue": "invalid syntax (<ipython-input-29-37d6ce90dd67>, line 1)",
     "output_type": "error",
     "traceback": [
      "\u001b[0;36m  File \u001b[0;32m\"<ipython-input-29-37d6ce90dd67>\"\u001b[0;36m, line \u001b[0;32m1\u001b[0m\n\u001b[0;31m    print(45 + (3 * 23)))\u001b[0m\n\u001b[0m                        ^\u001b[0m\n\u001b[0;31mSyntaxError\u001b[0m\u001b[0;31m:\u001b[0m invalid syntax\n"
     ]
    }
   ],
   "source": [
    "print(45 + (3 * 23)))\n",
    "\n",
    "prin(45 * 9)"
   ]
  },
  {
   "cell_type": "markdown",
   "metadata": {},
   "source": [
    "An error in a program is often called a **\"bug\"** and the task of finding an error in a program, and removing it, is usually referred to as **\"debugging\"**. Do you know who coined that term and why? Give you a hint: it was a woman and one of the greatest Computer Scientists ever! \n",
    "\n",
    "**[EXERCISE]:** write a program that prints _\"Check for moths, XXXXXXXX, check for moths\"_ where _XXXXXXXX_ should be replaced by the name of the Computer Scientist who found the first bug ever! \n",
    "\n",
    "Check the answer in page 12 of [cs4fun issue](https://cs4fndownloads.files.wordpress.com/2016/02/womenarehere.pdf)"
   ]
  },
  {
   "cell_type": "code",
   "execution_count": 30,
   "metadata": {},
   "outputs": [],
   "source": [
    "# Write your print statement here"
   ]
  },
  {
   "cell_type": "markdown",
   "metadata": {},
   "source": [
    "**ALL DONE!** You have finished the first notebook module, **congratulations!** In the next module, we will learn how to _abstract_ data by giving names to useful information! \n",
    "\n",
    "**[FINAL EXERCISE]** To end, can you make Python print five things you learnt in this notebook? (we already give you the first one!)"
   ]
  },
  {
   "cell_type": "code",
   "execution_count": 37,
   "metadata": {},
   "outputs": [
    {
     "name": "stdout",
     "output_type": "stream",
     "text": [
      "1. What is a Hello World program.\n"
     ]
    }
   ],
   "source": [
    "# Recap of what I learnt in this module\n",
    "print(\"1. What is a Hello World program.\")"
   ]
  },
  {
   "cell_type": "markdown",
   "metadata": {},
   "source": [
    "---------------------------\n",
    "[HOME](HOME.ipynb) | [Variables & Data](02.Var-and-Data.ipynb)"
   ]
  }
 ],
 "metadata": {
  "kernelspec": {
   "display_name": "Python 3",
   "language": "python",
   "name": "python3"
  },
  "language_info": {
   "codemirror_mode": {
    "name": "ipython",
    "version": 3
   },
   "file_extension": ".py",
   "mimetype": "text/x-python",
   "name": "python",
   "nbconvert_exporter": "python",
   "pygments_lexer": "ipython3",
   "version": "3.6.6"
  }
 },
 "nbformat": 4,
 "nbformat_minor": 2
}
