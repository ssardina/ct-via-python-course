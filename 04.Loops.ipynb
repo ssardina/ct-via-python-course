{
 "cells": [
  {
   "cell_type": "markdown",
   "metadata": {},
   "source": [
    "<font size=\"6\" color=\"#0047b2\"  face=\"verdana\"> <B>Notebook 04: Repeating code over and over...</B></font>\n",
    "------------------------------------"
   ]
  },
  {
   "cell_type": "markdown",
   "metadata": {},
   "source": [
    "<font size=\"5\" color=\"#b21200\"  face=\"verdana\"> <B>While Loops</B></font>\n",
    "\n",
    "We have learnt how to run different pieces of program depending on some condition. The other control flow mechanism is _**repeatition**_: doing something over and over... \n",
    "\n",
    "At the end of this notebook, we will have everything we need (print, variables, conditionals, and repetitions) to build our first game! Let's do it!"
   ]
  },
  {
   "cell_type": "markdown",
   "metadata": {},
   "source": [
    "So, how would you print all the positive single-digit numbers (i.e., numbers from 1 to 9)? \n",
    "Well, with your knowledge of `print` you can do:"
   ]
  },
  {
   "cell_type": "code",
   "execution_count": null,
   "metadata": {},
   "outputs": [],
   "source": [
    "print(1, end=\" \")\n",
    "print(2, end=\" \")\n",
    "print(3, end=\" \")\n",
    "print(4, end=\" \")\n",
    "print(5, end=\" \")\n",
    "print(6, end=\" \")\n",
    "print(7, end=\" \")\n",
    "print(8, end=\" \")\n",
    "print(9)\n",
    "print('done!')"
   ]
  },
  {
   "cell_type": "markdown",
   "metadata": {},
   "source": [
    "Notice the second argument part in the print statement: it tells the print to finish the printing with a space. By default, if no end is stated explicitely, Python will finish a `print` statement with an `end-of-line` code, which makes the current position to jump to the new next line (that is what happens in line 9, and text \"done\" appears in the new line)."
   ]
  },
  {
   "cell_type": "markdown",
   "metadata": {},
   "source": [
    "Perfect, but what if you want to print all the double digit numbers (i.e., all numbers between 10 and 99)? **_Can you do it?_** Yes you can, but do you \"want\" to write so many `print` statements...? I doubt...\n",
    "\n",
    "Luckly, most programming languages, including Python, have some way of expressing that some code needs to be repeated over and over _\"while some condition is true\"_. \n",
    "\n",
    "```\n",
    "while <condition>:\n",
    "    <BODY TO EXECUTE>\n",
    "``` \n",
    "\n",
    "Here is the flowchart:\n",
    "\n",
    "![loop-flowchart](imgs/flowchart-while.png)"
   ]
  },
  {
   "cell_type": "markdown",
   "metadata": {},
   "source": [
    "The keyword for this repetition control flow mechanism is `while`\n",
    "So, how do we use this construct to print all doble digits? We will make use of variables, conditions, assignment, and repetition. The idea is just to \"count\", one by one, as we would do manually until we reach the last one:"
   ]
  },
  {
   "cell_type": "code",
   "execution_count": null,
   "metadata": {},
   "outputs": [],
   "source": [
    "# variable to keep the current number to print, start with 10\n",
    "n = 10\n",
    "\n",
    "while n <= 99:\n",
    "    print(n, end=\" \")\n",
    "    n = n + 1 # advance counter to the next number\n",
    "print()    \n",
    "print('---------')"
   ]
  },
  {
   "cell_type": "markdown",
   "metadata": {},
   "source": [
    "**Let's analyze this simple code:**\n",
    "\n",
    "1. A variable `n` is used to store the \"current\" number to be printed, it will be used as a \"counter\".\n",
    "2. We will repeat lines 5 and 6, the body of the `while`-loop, as long as the value of `n` is below 100.\n",
    "3. In line 5, we just print the current value of variable `n`. \n",
    "    * The first time ine 5 is reached, `n == 10` (variable `n` has the value 10), and that is why the first number printed is 10.\n",
    "4. In line 6, we _increment_ the value of variable `n` by assigning it `n + 1`, that is, whatever the current value of `n` is plus one. \n",
    "    * The first time line 6 is executed, `n` will be assigned the new value 11.\n",
    "5. After all the body of the `while` loop is finished (lines 5 and 6), the condition of the `while` (line 4) is checked again. If it is still true, the body will be run again, and so on... \n",
    "    * After the first execution of lines 5 and 6 (the body), `n == 11`, which is less than 99, so lines 5 and 6 will be executed again.\n",
    "    * After the second execution, `n == 12`, which is still less than 99 and so the body is executed again.\n",
    "6. Eventually, after many iterations, variable `n` will take the value of 99, which is still less or equal than 99, so the body lines 5 and 6 will run again:\n",
    "    * in line 5, the number 99 will be printed\n",
    "    * then, in line 6, `n` will be assigned 99 (its current value) plus 1, giving `n` the new value of 100.\n",
    "    * since the body is finished, the `while` conditional will be checked: is 100 less or equal than 99? NO, so the `while` loop is finished and the program continues in line 7, thus printing a new line and then \"done\"."
   ]
  },
  {
   "cell_type": "markdown",
   "metadata": {},
   "source": [
    "**[EXERCISE]** How do you need to change the code above to print all even numbers from 1 to 99? Hint: you need to do _two small changes_ to the above program. Do the changes here:"
   ]
  },
  {
   "cell_type": "code",
   "execution_count": null,
   "metadata": {},
   "outputs": [],
   "source": [
    "# counter\n",
    "n = 10\n",
    "\n",
    "while n <= 99:\n",
    "    print(n, end=\" \")\n",
    "    n = n + 1 # advance counter to the next number\n",
    "print()    \n",
    "print('---------')"
   ]
  },
  {
   "cell_type": "markdown",
   "metadata": {},
   "source": [
    "<font size=\"5\" color=\"#b21200\"  face=\"verdana\"> <B>Loops and Conditionals Together</B></font>\n",
    "\n",
    "Knowing how to use conditionals and loops can be very effective when used in combination. In the above examples, we knew what was the first number. _What if that is given by the user?_"
   ]
  },
  {
   "cell_type": "markdown",
   "metadata": {},
   "source": [
    "## Checking input validity\n",
    "\n",
    "One of the most common practices is to make sure the input given by the user is \"legal\" for the problem. If we ask for an integer between 0 and 100, and the user enters -30 (too small!) or 120 (too large!), we can warn the user and ask again! This makes our solutions much more roboust! Here is such code:"
   ]
  },
  {
   "cell_type": "code",
   "execution_count": null,
   "metadata": {},
   "outputs": [],
   "source": [
    "n = -1\n",
    "while (n < 0 or n > 100):\n",
    "    n = int(input(\"Enter a number between 0 and 100: \"))\n",
    "    if n < 0:\n",
    "        print(\"The number was too small, number has to be greater or equal than 0\")\n",
    "    elif n > 100:\n",
    "        print(\"The number was too big, number has to be smaller or equal than 100\")\n",
    "    \n",
    "print(\"Success! The number entered is:\", n)\n",
    "print('---------')"
   ]
  },
  {
   "cell_type": "markdown",
   "metadata": {},
   "source": [
    "Run the above code with different values and see how the user is asked over and over until a good number is entered. Note a few things:\n",
    "\n",
    "1. The number entered is always stored in variable `n`.\n",
    "2. The number is initialized with `-1` so that the body of the `while` loop (lines 3-7) is executed at least once to ask the user. \n",
    "    * **QUESTION:** What would happen if we initialize `n` to say `45`? Try it!\n",
    "    * **QUESTION:** What would happen if we do not initialize `n` at all, that is, we delete line 1? Try it! (remember to restart the Jupyter kernel beacuse otherwise it will remember the last value of `n`)\n",
    "3. The solution uses an `if-elif` statement inside the loop so that we can tell the user what the problem was, if any. Since there is no `else`, the statement does nothing if the number is within the valid range."
   ]
  },
  {
   "cell_type": "markdown",
   "metadata": {},
   "source": [
    "**[EXERCISE]** Remember the problem of printing all even numbers between 10 and 100? Now suppose we want to print all even numbers between two numbers (`min` and `max`) entered by the user. You can assume the user will behave well and enter two valid integers. Complete the following code, only the even numbers must be printed:\n",
    "\n",
    "HINT: You will need to use a `while` and an `if` inside it, as well as a counter. You may also need to use arithmetic operator `%` for reminder. Good luck!"
   ]
  },
  {
   "cell_type": "code",
   "execution_count": null,
   "metadata": {
    "scrolled": true
   },
   "outputs": [],
   "source": [
    "# get min and max\n",
    "min = int(input(\"What is the minimum number? \"))\n",
    "max = int(input(\"What is the maximum number? \"))\n",
    "\n",
    "print(\"Here are all the even numbers between\", min, \"and\", max, \":\")\n",
    "# ------- Write your code below this line --------\n",
    "\n",
    "\n",
    "\n",
    "\n",
    "\n",
    "\n",
    "# ------- Write your code above this line --------\n",
    "print('---------')"
   ]
  },
  {
   "cell_type": "markdown",
   "metadata": {},
   "source": [
    "## Calculating Fibonacci"
   ]
  },
  {
   "cell_type": "markdown",
   "metadata": {},
   "source": [
    "Now that you know how to count up to 100, what about calculating the sum of all the numbers between 0 and 100. What is it? This little program will tell us:"
   ]
  },
  {
   "cell_type": "code",
   "execution_count": 29,
   "metadata": {},
   "outputs": [
    {
     "name": "stdout",
     "output_type": "stream",
     "text": [
      "The result is 5050\n",
      "---------\n"
     ]
    }
   ],
   "source": [
    "counter = 0\n",
    "result = 0\n",
    "\n",
    "while counter <= 100:\n",
    "    result = result + counter\n",
    "    counter = counter + 1\n",
    "    \n",
    "print(\"The result is\", result)\n",
    "print('---------')"
   ]
  },
  {
   "cell_type": "markdown",
   "metadata": {},
   "source": [
    "Observe how the program above uses two variales, one to count (`counter`) and one to accummulate the sum (`result`).\n",
    "\n",
    "**[EXERCISE]** How would you modify the above code to sum only the even numbers? Do it here:"
   ]
  },
  {
   "cell_type": "code",
   "execution_count": null,
   "metadata": {},
   "outputs": [],
   "source": [
    "counter = 0\n",
    "result = 0\n",
    "\n",
    "while counter <= 100:\n",
    "    result = result + counter\n",
    "    counter = counter + 1\n",
    "    \n",
    "print(\"The result is\", result)\n",
    "print('---------')"
   ]
  },
  {
   "cell_type": "markdown",
   "metadata": {},
   "source": [
    "The famous **Fibonacci sequence** is a sequence of integers characterized by the fact that every number after the first two is the sum of the two preceding ones. The first two numbers are 1. So the sequence is as follows:\n",
    "\n",
    "1, 1, 2, 3, 5, 8, 13, 21, 34, 55, 89, 144,...\n",
    "\n",
    "For example, the 10th element in the sequence (55) is the sum of the 9th and 8th elements, which which are 34 and 21, respectively.\n",
    "\n",
    "**[EXERCISE]** Write a program that returns the 54th number of the Fibonacci sequence. A few hints:\n",
    "\n",
    "* We store the position we are interested in variable `n`. \n",
    "* While you test your solution, you may want to change `n` to values that you can desk-check the answer.\n",
    "* You will need to use a few variables. One for the final result, but also other auxiliarly variables to keep track of the sequence.\n",
    "* Your solution wil definitively have to use a `while` loop. You will not need an `if` for this problem.\n",
    "* Your solution will need to do some kind of \"swapping\" or \"updates\" among the variables used, so that you can progress in the sequence in each repetition of the `while`.\n",
    "\n",
    "GOOD LUCK!"
   ]
  },
  {
   "cell_type": "code",
   "execution_count": null,
   "metadata": {},
   "outputs": [],
   "source": [
    "# the position in the Fibonacci sequence we are interested in\n",
    "n = 54\n",
    "\n",
    "# ------- Write your code below this line --------\n",
    "\n",
    "\n",
    "\n",
    "\n",
    "\n",
    "# ------- Write your code above this line --------\n",
    "print('---------')"
   ]
  },
  {
   "cell_type": "markdown",
   "metadata": {},
   "source": [
    "<font size=\"5\" color=\"#b21200\"  face=\"verdana\"> <B>The guessing game</B></font>\n"
   ]
  },
  {
   "cell_type": "markdown",
   "metadata": {},
   "source": [
    "The machine will guess a random number between 1 and 100, you are to guess it. If the user enters a negative number, it means the user gives up. Somebody wrote a first take on the game:"
   ]
  },
  {
   "cell_type": "code",
   "execution_count": 28,
   "metadata": {},
   "outputs": [
    {
     "name": "stdout",
     "output_type": "stream",
     "text": [
      "Well done, you guessed it! The number was: 72\n",
      "---------\n"
     ]
    }
   ],
   "source": [
    "import random\n",
    "\n",
    "# number to be guessed, using random() facility from Python\n",
    "to_be_guessed = int(random.random() * 100) + 1\n",
    "\n",
    "guess = 0 \n",
    "while (guess != to_be_guessed and guess < 0):\n",
    "    guess = int(input(\"Guess a number:\"))\n",
    "\n",
    "print(\"Well done, you guessed it! The number was:\", to_be_guessed)\n",
    "print('---------')"
   ]
  },
  {
   "cell_type": "markdown",
   "metadata": {},
   "source": [
    "The `import random` tells Python that we will use the random package (in line 4). The functin `random.random()` will give a random float number between 0 and 1, which we multiply by 100 and take the integer part to get a random value between 0 and 100. You do not need to worry about this, just assumed that variable `to_be_guessed` will store the guessed number.\n",
    "\n",
    "**[EXERCISE]** While this game more or less works, it has a few problems and you are asked to help out fix them:\n",
    "\n",
    "1. It is very hard! It gives no clue after every guess. Enchance the game so the user is told whether the guess was too high or two low\n",
    "2. As you can see, there is a bit of a problem when giving up: the game states the user has guessed it even though it is not true. You need to fix that bug too.\n",
    "\n",
    "Write your new code by modifying this one:"
   ]
  },
  {
   "cell_type": "code",
   "execution_count": null,
   "metadata": {},
   "outputs": [],
   "source": [
    "import random\n",
    "\n",
    "# number to be guessed, using random() facility from Python\n",
    "to_be_guessed = int(random.random() * 100) + 1\n",
    "\n",
    "guess = 0 \n",
    "while (guess != to_be_guessed and guess < 0):\n",
    "    guess = int(input(\"Guess a number:\"))\n",
    "\n",
    "print(\"Well done, you guessed it! The number was:\", to_be_guessed)"
   ]
  },
  {
   "cell_type": "markdown",
   "metadata": {},
   "source": [
    "## The reverse game\n",
    "\n",
    "Now suppose we play the reverse [guessing game](https://www.khanacademy.org/computing/computer-science/algorithms/intro-to-algorithms/a/a-guessing-game): the user guesses a number and the computer has to guess repetitively. The user will give feedback at every guess.\n",
    "\n",
    "**[PROJECT EXERCISE]** Write a solution to the reverse game. At every guess, the user will be asked for feedback: \"high\" if too high, \"low\" if too low, and \"OK\" if the guess is correct. Finally, your code should count how many guesses were needed and report that at the end. Your code will most probably use:\n",
    "\n",
    "* A `while` repetition to keep guessing. \n",
    "* Some arithmetic calculations to get the next guess.\n",
    "* The `input` statement to ask the user for feedback as a string. \n",
    "* Some variables."
   ]
  },
  {
   "cell_type": "code",
   "execution_count": null,
   "metadata": {},
   "outputs": [],
   "source": [
    "# here write your whole program for the reverse guessing game\n",
    "\n",
    "\n",
    "\n",
    "\n",
    "\n",
    "\n",
    "\n",
    "\n",
    "\n",
    "\n",
    "\n",
    "\n"
   ]
  },
  {
   "cell_type": "markdown",
   "metadata": {},
   "source": [
    "**[FINAL EXERCISE]** Unfortnately you cannot trust every user, who may be sloppy and enter meaningless feedback that your program cannot understand! Improve your solution so that it keeps asking the user until good feedback is provided!"
   ]
  },
  {
   "cell_type": "markdown",
   "metadata": {},
   "source": [
    "<font size=\"5\" color=\"#b21200\"  face=\"verdana\"> <B>All done!</B></font>\n",
    "\n",
    "In this notebook we learnt the second control flow mechanism available in every programming language: repetition. We learnt how `while` loops can allow us to specify the execution of a certain piece of code over and over _\"while some condition holds true\"_. There are other useful repetition tools in Python that we will see in the next notebook. \n",
    "\n",
    "\n",
    "**An interesting & important thing to note:** with everything you have learnt so far (namely, variables, conditionals `if-else`, and `while` loops), one can solve _every_ possible problem that can be solved with any computer. In other words, _you have learnt everything needed_ to write any possible program/algorithm.   \n",
    "\n",
    "However, it may be that the solutions you can write with just this are too long or too complicated. Thus, programming languages come with other computational mechanisms to make your job easier and shorter, to be able to think and operate at a more abstract level and to decompose problems in sub-problems.\n",
    "\n",
    "In the next notebook, we will look at one convenient data structure to better multiple data (e.g., many numbers) better: _lists_.\n",
    "\n",
    "![completed](imgs/completed.jpg)"
   ]
  },
  {
   "cell_type": "markdown",
   "metadata": {},
   "source": [
    "---------------------------\n",
    "Previous: [Hello World!](01.HelloWorld.ipynb) | [HOME](HOME.ipynb) | Next: [Lists-and-Loops](04.Lists-and-Loops.ipynb)"
   ]
  }
 ],
 "metadata": {
  "kernelspec": {
   "display_name": "Python 3",
   "language": "python",
   "name": "python3"
  },
  "language_info": {
   "codemirror_mode": {
    "name": "ipython",
    "version": 3
   },
   "file_extension": ".py",
   "mimetype": "text/x-python",
   "name": "python",
   "nbconvert_exporter": "python",
   "pygments_lexer": "ipython3",
   "version": "3.6.6"
  }
 },
 "nbformat": 4,
 "nbformat_minor": 2
}
