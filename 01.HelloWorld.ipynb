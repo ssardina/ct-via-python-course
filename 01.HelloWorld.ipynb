{
 "cells": [
  {
   "cell_type": "markdown",
   "metadata": {},
   "source": [
    "<font size=\"6\" color=\"#0047b2\"  face=\"verdana\"> <B>Notebook 01: \"Hello world\" & Simple Printing</B></font>\n",
    "\n",
    "--------------------------------\n",
    "\n",
    "<font size=\"5\" color=\"#b21200\"  face=\"verdana\"> <B>Using a Jupyter Notebook</B></font>\n",
    "\n",
    "This is the first notebook you will interact with, so some instructions first:\n",
    "\n",
    "* A notebook is a sequence of *cells*. Some cells have just text while some hold executable code.\n",
    "* Every grey cell labeled `In [ ]` on the left is **executable code**, that is a program that can be run.\n",
    "* The **answer/result/output** of each executable code is shown just after the corresponding box.\n",
    "* To execute a code cell you enter into it (by just clicking on it) and then:\n",
    "    * **`Control+Enter`**: will run the cell, and stay in it. \n",
    "    * **`Shift+Enter`**: will run the cell, and jump to the next cell. Thus a way of progressing through the cells is to continously hit Shift+Enter.\n",
    "    * **Click the \"RUN\" icon** on the left of the `In [ ]` label or the toolbar.\n",
    "* When you run a code cell:\n",
    "    * You will see the output, or updated output (if the code was changed), just after the block. \n",
    "    * If the code has problems, the error given by Python will be shown instead.\n",
    "    * The code cell will be numbered on the left, in the label `In [.]`, stating the order of execution in the Python. For example, `In [45]` states that this cell was the 45th execution in the Python session. \n",
    "* Python will remember everything you did in the session. This means that the block executed in step 45 will be able to use things that were done before then in step 44, 43, and so on.\n",
    "* If needed, you can \"clear\" the output of a cell or of all the cells in the notebook, via the menu `Cell` and then `Current Output` or `All Outputs`.\n",
    "\n",
    "You are free to modify any code cell, but avoid modifying text non-code cells, since those are just there to provide the \"narrative\" of the tutorial. \n",
    "\n",
    "In reality, you are only expected to change and produce code when the label **[EXERCISE]** is used. \n",
    "\n",
    "**GOOD LUCK & ENJOY!**\n",
    "\n",
    "--------------------------"
   ]
  },
  {
   "cell_type": "markdown",
   "metadata": {},
   "source": [
    "<font size=\"5\" color=\"#b21200\"  face=\"verdana\"> <B>Hello World</B></font>\n",
    "\n",
    "A [\"Hello, World!\"](https://en.wikipedia.org/wiki/%22Hello,_World!%22_program) program is a computer program that outputs or displays the message _\"Hello, World!\"_. \n",
    "\n",
    "Because it is very simple in most programming languages, it is often used to illustrate the basic syntax of a programming language and is often the first program people write.\n",
    "\n",
    "This simple program also shows how to print things in the screen."
   ]
  },
  {
   "cell_type": "code",
   "execution_count": null,
   "metadata": {},
   "outputs": [],
   "source": [
    "print(\"Hello, World!\")"
   ]
  },
  {
   "cell_type": "markdown",
   "metadata": {},
   "source": [
    "### Exercise 1\n",
    "\n",
    "Now, try yourself by printing _\"Goodbye, World!\"_. Remember you execute the piece of code by pressing **`Shift+Enter`** in the corresponding box. Note that lines with tag `#` are comments and are ignored by the computer."
   ]
  },
  {
   "cell_type": "code",
   "execution_count": null,
   "metadata": {},
   "outputs": [],
   "source": [
    "# Example, do not modify!\n",
    "print(\"Hello, World!\")\n",
    "\n",
    "# Write your code below this line to print \"Goodbye, World!\"\n",
    "\n"
   ]
  },
  {
   "cell_type": "markdown",
   "metadata": {},
   "source": [
    "<font size=\"5\" color=\"#b21200\"  face=\"verdana\"> <B>Data Types and Numbers</B></font>\n",
    "\n",
    "OK, what we used above was the `print` statement to show outputs in the screen. The statement took data, in this case the `String` to show. Python, and most programming languages, allow the manipulation of various sort of _basic_ data types such as:\n",
    "\n",
    "|      Name      \t|  Type \t|                               Description                              \t|\n",
    "|:--------------:\t|:-----:\t|:----------------------------------------------------------------------\t|\n",
    "|    Integers    \t|  `int`  \t| Whole numbers like 2, 32, -212, and 0                                  \t|\n",
    "| Floating point \t| `float` \t| Numbers with a decimal point:    91.33     3.33    200.0               \t|\n",
    "|     Strings    \t|  `str`  \t| Ordered sequence of characters:   \"hello\"   '4032'   \"Mary\"  \"楽しい\" \t  |\n",
    "| Booleans       \t| `bool`  \t| Logical value indicating `True` or `False`                                |\n",
    "\n",
    "\n",
    "So, let's print some examples of each...."
   ]
  },
  {
   "cell_type": "code",
   "execution_count": null,
   "metadata": {},
   "outputs": [],
   "source": [
    "# Show some int data\n",
    "print(23)\n",
    "print(-23)\n",
    "print(0)\n",
    "\n",
    "# Show some float data\n",
    "print(91.33)\n",
    "print(100.0)\n",
    "print(-3.333)\n",
    "\n",
    "# Show some str data\n",
    "print(\"This is a string...\")\n",
    "print('String can also be stated using single quotes in Python')\n",
    "print(\"This is a string with a 'quoted text' inside it!\")\n",
    "print('This is a string with a \"double quoted text\" inside it!')\n",
    "\n",
    "# Show both Boolean data\n",
    "print(True)\n",
    "print(False)\n"
   ]
  },
  {
   "cell_type": "markdown",
   "metadata": {},
   "source": [
    "Python is very convenient to do math calculations. One can use it to do addition (`+`), subtraction (`-`), multiplication (`*`) and division (`/`), as well as more advanced math operations such as:\n",
    "\n",
    "* **Exponentiation**: `**`. For example 5 to the power of 3 is written `5**3`, which is equal to `5*5*5`.\n",
    "* **Floor division**: `//`. For example, 10 // 4 equals 2 (because 10 / 4 = 2.5)\n",
    "* **Modulo/Reminder**: `%`. For example, example 7 % 4 equals 3.\n",
    "\n",
    "Check some examples:"
   ]
  },
  {
   "cell_type": "code",
   "execution_count": null,
   "metadata": {},
   "outputs": [],
   "source": [
    "print(\"Let's do some additions and substractions:\")\n",
    "print(10 + 5)\n",
    "print(5 - 10)\n",
    "\n",
    "print(\"Let's do some multiplications, divisions, and floor divisions:\")\n",
    "print(3 * 4)\n",
    "print(10 / 4)\n",
    "print(10 // 4)\n",
    "\n",
    "print(\"Next, let's try reminder and exponentiation:\")\n",
    "# Modulo/reminder and exponentiation\n",
    "print(10 % 3)\n",
    "print(5 ** 3)\n",
    "\n",
    "print(\"Finally, let's do some complex arithmetic expression:\")\n",
    "print(((10 + 78)**3 / 4) - 145)"
   ]
  },
  {
   "cell_type": "markdown",
   "metadata": {},
   "source": [
    "<font size=\"5\" color=\"#b21200\"  face=\"verdana\"> <B>Hiring a canoe</B></font>\n",
    "\n",
    "### Exercise 2\n",
    "\n",
    "The cost of hiring a canoe is \\\\$15 per hour plus and extra booking fee of \\$10. Write a program to print the following information:\n",
    "\n",
    "1. The total cost of hire if you book a canoe for 1 hour. \n",
    "2. The total cost of hire if you book a canoe for 3 hours.\n",
    "\n",
    "![canoe](imgs/canoe.jpg)"
   ]
  },
  {
   "cell_type": "code",
   "execution_count": null,
   "metadata": {},
   "outputs": [],
   "source": [
    "# here goes your program for the canoe problem\n"
   ]
  },
  {
   "cell_type": "markdown",
   "metadata": {},
   "source": [
    "<font size=\"5\" color=\"#b21200\"  face=\"verdana\"> <B>How many people are in my restaurant?</B></font>\n",
    "\n",
    "### Exercise 3\n",
    "\n",
    "A restaurant has 15 tables to seat 4 people each. It can sit another 9 people at the bar. If the restaurant is only _one third full_, calculate and print how many people are sat in the restaurant. The final calculation will include calculating the total capacity of the restaurant, and then what one third amounts to. \n",
    "\n",
    "![restaurant](imgs/menu-restaurant-vintage-table.jpg)"
   ]
  },
  {
   "cell_type": "code",
   "execution_count": null,
   "metadata": {},
   "outputs": [],
   "source": [
    "# Write your calculation below to find out how many people are sat in the restaurant\n"
   ]
  },
  {
   "cell_type": "markdown",
   "metadata": {},
   "source": [
    "<font size=\"5\" color=\"#b21200\"  face=\"verdana\"> <B>Calculating your laptop's price</B></font>\n",
    "\n",
    "### Exercise 4\n",
    "\n",
    "This laptop has a recommended price of \\\\$2199. A store has a sale offering 30% off. If you could only spend \\\\$1500 on a new laptop, would you be able to buy this? To find out:\n",
    "\n",
    "1. Calculate and **print** the value of the discount. Use line 2.\n",
    "2. Substract that expression from the original price to find and **print** the final sale price of the item. Use line 5.\n",
    "\n",
    "![laptop](imgs/laptop-sale.png)"
   ]
  },
  {
   "cell_type": "code",
   "execution_count": 14,
   "metadata": {},
   "outputs": [
    {
     "name": "stdout",
     "output_type": "stream",
     "text": [
      "659.7\n",
      "1539.3\n"
     ]
    }
   ],
   "source": [
    "# Calculates the value of the discount\n",
    "\n",
    "\n",
    "# Calculates the final sale price of the laptop after the 30% discount\n"
   ]
  },
  {
   "cell_type": "markdown",
   "metadata": {},
   "source": [
    "### Exercise 5\n",
    "\n",
    "Your budget was not enough, so the store manager will give you _another 15% of the sale price) (that is, of the price after the 30% discount). Calculate with an algebraic expression how much you paid for the laptop. Print at the end of the code above.\n",
    "\n",
    "**[QUESTION]** Did you have to repeat a few things in your solution? We will see how to avoid that repetition later in the next notebook... :-)"
   ]
  },
  {
   "cell_type": "markdown",
   "metadata": {},
   "source": [
    "<font size=\"5\" color=\"#b21200\"  face=\"verdana\"> <B>Comments to make your programs nicer</B></font>\n"
   ]
  },
  {
   "cell_type": "markdown",
   "metadata": {},
   "source": [
    "As you can see above, we have used the tag `#` at the tsart of a line to signal Python that the line is just a **comment**. Comments are useful to make sure that others, and even you later, can understand what your code is about. Good programmers write good comments!\n",
    "\n",
    "Comments are not run as Python code, so they will not affect the result of the program. All programming languages have some kind of symbol to tag comments, such as `//` in Java, `/* .. */` in C, or `%` in Prolog.\n",
    "\n",
    "[![comment-clipart](imgs/note-comment-md.png)](https://en.wikipedia.org/wiki/Comment_(computer_programming))\n",
    "\n",
    "### What makes a good comment?\n",
    "\n",
    "* It is short and to the point, but a complete thought. Most comments should be written in complete sentences.\n",
    "* It explains your thinking, so that when you return to the code later you will understand how you were * approaching the problem.\n",
    "* It explains your thinking, so that others who work with your code will understand your overall approach to a problem.\n",
    "* It explains particularly difficult sections of code in detail.\n",
    "\n",
    "### When should you write comments?\n",
    "\n",
    "* When you have to think about code before writing it.\n",
    "* When you are likely to forget later exactly how you were approaching a problem.\n",
    "* When there is more than one way to solve a problem.\n",
    "* When others are unlikely to anticipate your way of thinking about a problem.\n",
    "\n",
    "Writing good comments is one of the clear signs of a good programmer. If you have any real interest in taking programming seriously, start using comments now. You will see them throughout the examples in these notebooks."
   ]
  },
  {
   "cell_type": "markdown",
   "metadata": {},
   "source": [
    "### Exercise 6\n",
    "\n",
    "Can you help us improve the code below by adding a comment to explain what does 8 is mean to do? (Verify that the output does not change at all!)"
   ]
  },
  {
   "cell_type": "code",
   "execution_count": null,
   "metadata": {},
   "outputs": [],
   "source": [
    "# Calculates the value of the discount\n",
    "print(2199 * 30/100)\n",
    "\n",
    "# Calculates the final sale price of the laptop after the 30% discount\n",
    "print((2199 - (2199 * 30/100)))\n",
    "\n",
    "\n",
    "print((2199 - (2199 * 30/100)) - ((2199 - ((2199 * 30/100))) * 15/100))"
   ]
  },
  {
   "cell_type": "markdown",
   "metadata": {},
   "source": [
    "<font size=\"5\" color=\"#b21200\"  face=\"verdana\"> <B>Sorry to bug you...</B></font>\n",
    "\n",
    "Finally, we should note that sometimes when we program, we make mistakes, sometimes very silly mistakes. When that happens, Python (or whatever language you are using) will complain and will give you a message (sometimes a bit cryptic) that something went wrong. \n",
    "\n",
    "[![bug](imgs/pexels-bug.resized.jpg)](https://en.wikipedia.org/wiki/Software_bug)"
   ]
  },
  {
   "cell_type": "markdown",
   "metadata": {},
   "source": [
    "### Exercise 7\n",
    "\n",
    "For example, this program has **two** errors, can you spot them and fix them?"
   ]
  },
  {
   "cell_type": "code",
   "execution_count": null,
   "metadata": {},
   "outputs": [],
   "source": [
    "print(45 + (3 * 23)))\n",
    "\n",
    "prin(45 * 9)"
   ]
  },
  {
   "cell_type": "markdown",
   "metadata": {},
   "source": [
    "An error in a program is often called a **\"bug\"** and the task of finding an error in a program, and removing it, is usually referred to as **\"debugging\"**. Do you know who coined that term and why? Give you a hint: it was a woman and one of the greatest Computer Scientists ever! "
   ]
  },
  {
   "cell_type": "markdown",
   "metadata": {},
   "source": [
    "### Exercise 8\n",
    "\n",
    "Write a program that prints _\"Check for moths, ........., check for moths\"_ where _........_ should be replaced by the name of the Computer Scientist who found the first bug ever! \n",
    "\n",
    "Check the answer in first paragraph of page 12 of [cs4fun issue](https://cs4fndownloads.files.wordpress.com/2016/02/womenarehere.pdf)"
   ]
  },
  {
   "cell_type": "code",
   "execution_count": 15,
   "metadata": {},
   "outputs": [],
   "source": [
    "# Write your print statement here\n"
   ]
  },
  {
   "cell_type": "markdown",
   "metadata": {},
   "source": [
    "[![Grace Murray Hopper](imgs/people/grace-hopper.resized.jpg)](https://en.wikipedia.org/wiki/Grace_Hopper)"
   ]
  },
  {
   "cell_type": "markdown",
   "metadata": {},
   "source": [
    "### Exercise 9\n",
    "\n",
    "To end, can you make Python print five things you learnt in this notebook? (we already give you the first one!)"
   ]
  },
  {
   "cell_type": "code",
   "execution_count": null,
   "metadata": {},
   "outputs": [],
   "source": [
    "# Recap of what I learnt in this module\n",
    "print(\"1. What the 'Hello World' program is.\")\n",
    "\n",
    "\n",
    "\n",
    "\n",
    "\n"
   ]
  },
  {
   "cell_type": "markdown",
   "metadata": {},
   "source": [
    "<font size=\"5\" color=\"#b21200\"  face=\"verdana\"> <B>All done!</B></font>\n",
    "\n",
    "**Congratulations on solving the first notebook tutorial!**\n",
    "\n",
    "We have done what every programmer should do first: the Hello World! program! ;-)\n",
    "\n",
    "We have also learnt how to report informating by printing it to the screen, reviewed the most common data types, and learnt about comments and errors.\n",
    "\n",
    "In the next module, we will learn how to _abstract_ data by giving names to useful information! \n",
    "\n",
    "![completed](imgs/completed.jpg)"
   ]
  },
  {
   "cell_type": "markdown",
   "metadata": {},
   "source": [
    "---------------------------\n",
    "[HOME](HOME.ipynb) | Next: [Variables](02.Variables.ipynb)"
   ]
  }
 ],
 "metadata": {
  "kernelspec": {
   "display_name": "Python 3",
   "language": "python",
   "name": "python3"
  },
  "language_info": {
   "codemirror_mode": {
    "name": "ipython",
    "version": 3
   },
   "file_extension": ".py",
   "mimetype": "text/x-python",
   "name": "python",
   "nbconvert_exporter": "python",
   "pygments_lexer": "ipython3",
   "version": "3.6.7"
  }
 },
 "nbformat": 4,
 "nbformat_minor": 2
}
