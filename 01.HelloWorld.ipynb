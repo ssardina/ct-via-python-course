{
 "cells": [
  {
   "cell_type": "markdown",
   "metadata": {},
   "source": [
    "<font size=\"6\" color=\"#0047b2\"  face=\"verdana\"> <B>Notebook 01: \"Hello world\" & Simple Printing</B></font>\n",
    "\n",
    "--------------------------------\n",
    "\n",
    "<font size=\"5\" color=\"#b21200\"  face=\"verdana\"> <B>Using a Jupyter Notebook</B></font>\n",
    "\n",
    "This is the first notebook you will interact with, so some instructions first:\n",
    "\n",
    "* A notebook is a sequence of *cells*. Some cells have just text while some hold executable code.\n",
    "* Every grey cell labeled `In [ ]` on the left is **executable code**, that is a program that can be run.\n",
    "* The **answer/result/output** of each executable code is shown just after the corresponding box.\n",
    "* To execute a code block you enter into it (by just clicking on it) and then:\n",
    "    * **`Control+Enter`**: will run the cell, and stay in it. \n",
    "    * **`Shift+Enter`**: wil run the cell, and continue to the next cell. Thus a way of progressing through the cells is to continously hit Shift+Enter.\n",
    "    * **Click the \"play\" icon** on the left of the `In [ ]` mark.\n",
    "* When you run a code cell:\n",
    "    * You will see the output, or updated output (if the code was changed), just after the block. \n",
    "    * If the code has problems, the error given by Python will be shown instead.\n",
    "    * The code cell will be numbered on the left, in the label `In [.]`, stating the order of execution in the Python. For example, `In [45]` states that this block was the 45th execution in the Python session. \n",
    "* Python will remember everything you did in the session. This means that the block executed in step 45 will be able to use things that were done before then in step 44, 43, and so on.\n",
    "* If needed, you can \"clear\" the output of a cell or of all the cells in the notebook, via the menu `Cell` and then `Current Output` or `All Outputs`.\n",
    "\n",
    "You are free to modify any code cell, but avoid modifying text non-code cells, since those are just there to provide the \"narrative\" of the tutorial. \n",
    "\n",
    "In reality, you are only expected to change and produce code when the label **[EXERCISE]** is used. \n",
    "\n",
    "**GOOD LUCK & ENJOY!**\n",
    "\n",
    "--------------------------"
   ]
  },
  {
   "cell_type": "markdown",
   "metadata": {},
   "source": [
    "<font size=\"5\" color=\"#b21200\"  face=\"verdana\"> <B>Hello World</B></font>\n",
    "\n",
    "A [\"Hello, World!\"](https://en.wikipedia.org/wiki/%22Hello,_World!%22_program) program is a computer program that outputs or displays the message _\"Hello, World!\"_. \n",
    "\n",
    "Because it is very simple in most programming languages, it is often used to illustrate the basic syntax of a programming language and is often the first program people write.\n",
    "\n",
    "This simple program also shows how to print things in the screen."
   ]
  },
  {
   "cell_type": "code",
   "execution_count": null,
   "metadata": {},
   "outputs": [],
   "source": [
    "print(\"Hello, World!\")"
   ]
  },
  {
   "cell_type": "markdown",
   "metadata": {},
   "source": [
    "**[EXERCISE]** Now, try yourself by printing _\"Goodbye, world!\"_. Remember you execute the piece of code by pressing **`Shift+Enter`** in the corresponding box. Note that lines with tag `#` are comments and are ignored by the computer."
   ]
  },
  {
   "cell_type": "code",
   "execution_count": null,
   "metadata": {},
   "outputs": [],
   "source": [
    "# Example, do not modify!\n",
    "print(\"Hello, World!\")\n",
    "\n",
    "# Write your code below this line to print \"Goodbye, World!\"\n",
    "\n",
    "\n"
   ]
  },
  {
   "cell_type": "markdown",
   "metadata": {},
   "source": [
    "<font size=\"5\" color=\"#b21200\"  face=\"verdana\"> <B>Data Types and Numbers</B></font>\n",
    "\n",
    "OK, what we used above was the `print` statement to show outputs in the screen. The statement took data, in this case the `String` to show. Python, and most programming languages, allow the manipulation of various sort of _basic_ data types such as:\n",
    "\n",
    "|      Name      \t|  Type \t|                               Description                              \t|\n",
    "|:--------------:\t|:-----:\t|:----------------------------------------------------------------------\t|\n",
    "|    Integers    \t|  `int`  \t| Whole numbers like 2, 32, -212, and 0                                  \t|\n",
    "| Floating point \t| `float` \t| Numbers with a decimal point:    91.33     3.33    200.0               \t|\n",
    "|     Strings    \t|  `str`  \t| Ordered sequence of characters:   \"hello\"   '4032'   \"Mary\"  \"楽しい\" \t  |\n",
    "| Booleans       \t| `bool`  \t| Logical value indicating `True` or `False`                                |\n",
    "\n",
    "\n",
    "So, let's print some examples of each...."
   ]
  },
  {
   "cell_type": "code",
   "execution_count": null,
   "metadata": {},
   "outputs": [],
   "source": [
    "# Show some int data\n",
    "print(23)\n",
    "print(-23)\n",
    "print(0)\n",
    "\n",
    "# Show some float data\n",
    "print(91.33)\n",
    "print(100.0)\n",
    "print(-3.333)\n",
    "\n",
    "# Show some str data\n",
    "print(\"This is a string...\")\n",
    "print('String can also be stated using single quotes in Python')\n",
    "print(\"This is a string with a 'quoted text' inside it!\")\n",
    "print('This is a string with a \"double quoted text\" inside it!')\n",
    "\n",
    "# Show both Boolean data\n",
    "print(True)\n",
    "print(False)\n"
   ]
  },
  {
   "cell_type": "markdown",
   "metadata": {},
   "source": [
    "Python is very convenient to do math calculations. One can use it to do addition (`+`), subtraction (`-`), multiplication (`*`) and division (`/`), as well as more advanced math operations such as:\n",
    "\n",
    "* **Exponentiation**: `**`. For example 4 to the power of 3 is written `3**7`.\n",
    "* **Floor division**: `//`. For example, 7 // 4 equals 1.\n",
    "* **Modulo/Reminder**: `%`. For example, example 7 % 4 equals 3.\n",
    "\n",
    "Check some examples:"
   ]
  },
  {
   "cell_type": "code",
   "execution_count": null,
   "metadata": {},
   "outputs": [],
   "source": [
    "print(\"Let's do some additions and substractions:\")\n",
    "print(10 + 5)\n",
    "print(5 - 10)\n",
    "\n",
    "print(\"Let's do some multiplications, divisions, and floor divisions:\")\n",
    "print(3 * 4)\n",
    "print(10 / 3)\n",
    "print(10 // 3)\n",
    "\n",
    "print(\"Next, let's try reminder and exponentiation:\")\n",
    "# Modulo/reminder and exponentiation\n",
    "print(10 % 3)\n",
    "print(5 ** 3)\n",
    "\n",
    "print(\"Finally, let's do some complex arithmetic expression:\")\n",
    "print(((10 + 78)**3 / 4) - 145)"
   ]
  },
  {
   "cell_type": "markdown",
   "metadata": {},
   "source": [
    "**[EXERCISE]** You have two jobs, in which you have earnt \\\\$12,734 and \\\\$87,621 respectively over the year. You need to pay 26.5\\% tax after the first \\\\$18,000 dollars earnt. How much tax do you have to pay?"
   ]
  },
  {
   "cell_type": "code",
   "execution_count": null,
   "metadata": {},
   "outputs": [],
   "source": [
    "# Produce one statement to show how much tax you have to pay (remember, press Shift+Enter to see the result)\n"
   ]
  },
  {
   "cell_type": "markdown",
   "metadata": {},
   "source": [
    "**[EXERCISE]** Suppose you have $95, which you can invest with a 15% return each year. After one year, it's 95×1.15=110 dollars, and after two years it's 95×1.15×1.15=121. Add one line of code in line 6 to _calculate_ and report how much money you end up with after 9 years."
   ]
  },
  {
   "cell_type": "code",
   "execution_count": null,
   "metadata": {},
   "outputs": [],
   "source": [
    "# 1 and 2 years\n",
    "print(95*1.15)\n",
    "print(95*1.15*1.15)\n",
    "\n",
    "# YOUR CODES GOES BELOW\n",
    "\n",
    "\n",
    "## END OF PROGRAM"
   ]
  },
  {
   "cell_type": "markdown",
   "metadata": {},
   "source": [
    "**[EXERCISE]** Add a further line of code (in line 7) to _calculate_ and report the profit made. Did you notice anything strange, anything \"redundant\"? We'll come back to it in the next notebook....\n",
    "\n",
    "**[EXERCISE]** Finally, suppose you now have \\\\$105 at the start, but you will only invest for 5 years. Modify the code above in the minimal way possible to get the new total funds and profit after investing \\\\$105 for 5 years.\n"
   ]
  },
  {
   "cell_type": "markdown",
   "metadata": {},
   "source": [
    "<font size=\"5\" color=\"#b21200\"  face=\"verdana\"> <B>Comments and Errors</B></font>\n"
   ]
  },
  {
   "cell_type": "markdown",
   "metadata": {},
   "source": [
    "As you can see above, we have used the tag `#` at the tsart of a line to signal Python that the line is just a **comment**. Comments are useful to make sure that others, and even you later, can understand what your code is about. Good programmers write good comments!\n",
    "\n",
    "Comments are not run as Python code, so they will not affect the result of the program. All programming languages have some kind of symbol to tag comments, such as `//` in Java, `/* .. */` in C, or `%` in Prolog.\n",
    "\n",
    "\n",
    "### What makes a good comment?\n",
    "\n",
    "* It is short and to the point, but a complete thought. Most comments should be written in complete sentences.\n",
    "* It explains your thinking, so that when you return to the code later you will understand how you were * approaching the problem.\n",
    "* It explains your thinking, so that others who work with your code will understand your overall approach to a problem.\n",
    "* It explains particularly difficult sections of code in detail.\n",
    "\n",
    "### When should you write comments?\n",
    "\n",
    "* When you have to think about code before writing it.\n",
    "* When you are likely to forget later exactly how you were approaching a problem.\n",
    "* When there is more than one way to solve a problem.\n",
    "* When others are unlikely to anticipate your way of thinking about a problem.\n",
    "\n",
    "Writing good comments is one of the clear signs of a good programmer. If you have any real interest in taking programming seriously, start using comments now. You will see them throughout the examples in these notebooks."
   ]
  },
  {
   "cell_type": "markdown",
   "metadata": {},
   "source": [
    "**[EXERCISE]** In the calculations above on how much money we would have at 15% over 1, 2 and 9 years, we have poor comments... Can you help us improve the comments? Thanks! (Check that the output does not change at all!)"
   ]
  },
  {
   "cell_type": "code",
   "execution_count": null,
   "metadata": {},
   "outputs": [],
   "source": [
    "# 1 and 2 years\n",
    "print(95*1.15)\n",
    "print(95*1.15*1.15)\n",
    "\n",
    "# Enter your code below\n"
   ]
  },
  {
   "cell_type": "markdown",
   "metadata": {},
   "source": [
    "### Sorry to bug you...\n",
    "\n",
    "Finally, we should note that sometimes when we program, we make mistakes, sometimes very silly mistakes. When that happens, Python (or whatever language you are using) will complain and will give you a message (sometimes a bit cryptic) that something went wrong. \n",
    "\n",
    "**[EXERCISE]** For example, this program has two errors, can you spot them and fix them?"
   ]
  },
  {
   "cell_type": "code",
   "execution_count": null,
   "metadata": {},
   "outputs": [],
   "source": [
    "print(45 + (3 * 23)))\n",
    "\n",
    "prin(45 * 9)"
   ]
  },
  {
   "cell_type": "markdown",
   "metadata": {},
   "source": [
    "An error in a program is often called a **\"bug\"** and the task of finding an error in a program, and removing it, is usually referred to as **\"debugging\"**. Do you know who coined that term and why? Give you a hint: it was a woman and one of the greatest Computer Scientists ever! \n",
    "\n",
    "**[EXERCISE]:** write a program that prints _\"Check for moths, XXXXXXXX, check for moths\"_ where _XXXXXXXX_ should be replaced by the name of the Computer Scientist who found the first bug ever! \n",
    "\n",
    "Check the answer in page 12 of [cs4fun issue](https://cs4fndownloads.files.wordpress.com/2016/02/womenarehere.pdf)"
   ]
  },
  {
   "cell_type": "code",
   "execution_count": null,
   "metadata": {},
   "outputs": [],
   "source": [
    "# Write your print statement here\n"
   ]
  },
  {
   "cell_type": "markdown",
   "metadata": {},
   "source": [
    "**[FINAL EXERCISE]** To end, can you make Python print five things you learnt in this notebook? (we already give you the first one!)"
   ]
  },
  {
   "cell_type": "code",
   "execution_count": null,
   "metadata": {},
   "outputs": [],
   "source": [
    "# Recap of what I learnt in this module\n",
    "print(\"1. What the 'Hello World' program is.\")"
   ]
  },
  {
   "cell_type": "markdown",
   "metadata": {},
   "source": [
    "<font size=\"5\" color=\"#b21200\"  face=\"verdana\"> <B>All done!</B></font>\n",
    "\n",
    "**Congratulations on solving the first notebook tutorial!**\n",
    "\n",
    "We have done what every programmer should do first: the Hello World! program! ;-)\n",
    "\n",
    "We have also learnt how to report informating by printing it to the screen, reviewed the most common data types, and learnt about comments and errors.\n",
    "\n",
    "In the next module, we will learn how to _abstract_ data by giving names to useful information! \n",
    "\n",
    "![completed](imgs/completed.jpg)"
   ]
  },
  {
   "cell_type": "markdown",
   "metadata": {},
   "source": [
    "---------------------------\n",
    "[HOME](HOME.ipynb) | Next: [Variables](02.Variables.ipynb)"
   ]
  }
 ],
 "metadata": {
  "kernelspec": {
   "display_name": "Python 3",
   "language": "python",
   "name": "python3"
  },
  "language_info": {
   "codemirror_mode": {
    "name": "ipython",
    "version": 3
   },
   "file_extension": ".py",
   "mimetype": "text/x-python",
   "name": "python",
   "nbconvert_exporter": "python",
   "pygments_lexer": "ipython3",
   "version": "3.6.6"
  }
 },
 "nbformat": 4,
 "nbformat_minor": 2
}
