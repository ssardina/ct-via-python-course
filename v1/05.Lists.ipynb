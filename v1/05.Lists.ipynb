{
 "cells": [
  {
   "cell_type": "markdown",
   "metadata": {},
   "source": [
    "<font size=\"6\" color=\"#0047b2\"  face=\"verdana\"> <B>Notebook 04: Lists</B></font>\n",
    "------------------------------------"
   ]
  },
  {
   "cell_type": "markdown",
   "metadata": {},
   "source": [
    "<font size=\"5\" color=\"#b21200\"  face=\"verdana\"> <B>Lists</B></font>\n",
    "\n",
    "Suppose you want to store the name of the days of the week in some language, say English. How would you go about it? Maybe you write this code for the working days:"
   ]
  },
  {
   "cell_type": "code",
   "execution_count": 10,
   "metadata": {},
   "outputs": [
    {
     "name": "stdout",
     "output_type": "stream",
     "text": [
      "The days of the week are:  Monday Tuesday Wednesday Thursday Friday\n"
     ]
    }
   ],
   "source": [
    "# define days of the week (in English)\n",
    "day_1 = \"Monday\"\n",
    "day_2 = \"Tuesday\"\n",
    "day_3 = \"Wednesday\"\n",
    "day_4 = \"Thursday\"\n",
    "day_5 = \"Friday\"\n",
    "\n",
    "print(\"The days of the week are: \", day_1, day_2, day_3, day_4, day_5)"
   ]
  },
  {
   "cell_type": "markdown",
   "metadata": {},
   "source": [
    "OK, we succeeded but isn't that too much work? We had to define five variables and then refer to them in the print statement. What if you now want to include the weekend? You need to define two more variables and change the print statement in line 8! **Sure there must be a better way...**"
   ]
  },
  {
   "cell_type": "markdown",
   "metadata": {},
   "source": [
    "The truth is that so far we have seen how to store _single_ data in variables, like a number or a string. But what if we have many numbers or many strings? \n",
    "\n",
    "That is when [**lists**](https://www.tutorialspoint.com/python/python_lists.htm) come to help. Lists are the most basic data structure in Python and is just a **sequence** (of data). They are incredibly useful!\n",
    "\n",
    "Lists use `[]` brackets and commas to separate objects in the list. For example, let's write a program with two variables: one containing the all the single digit postiive even numbers, and a second one containing the days of the week:"
   ]
  },
  {
   "cell_type": "code",
   "execution_count": 6,
   "metadata": {},
   "outputs": [
    {
     "name": "stdout",
     "output_type": "stream",
     "text": [
      "These are the single digit positive even numbers: [0, 2, 4, 6, 8]\n",
      "These are the days of the week: ['Monday', 'Tuesday', 'Thursday', 'Friday', 'Saturday', 'Sunday']\n"
     ]
    }
   ],
   "source": [
    "# two variables of type list\n",
    "even_numbers = [0, 2, 4, 6, 8]\n",
    "days_of_week = [\"Monday\", \"Tuesday\", \"Thursday\", \"Friday\", \"Saturday\", \"Sunday\"]\n",
    "\n",
    "\n",
    "print(\"These are the single digit positive even numbers:\", even_numbers)\n",
    "print(\"These are the days of the week:\", days_of_week)"
   ]
  },
  {
   "cell_type": "markdown",
   "metadata": {},
   "source": [
    "The variables `even_numbers` and `days_of_week` are of type `list`, the first hone containing five integer numbers and the second one containing six strings.\n",
    "\n",
    "**[EXERCISE]**: Ops! there seems to be a bug in the assignment of variable `days_of_week`. Fix it and run it to check it contains all the days of the week."
   ]
  },
  {
   "cell_type": "markdown",
   "metadata": {},
   "source": [
    "<font size=\"5\" color=\"#b21200\"  face=\"verdana\"> <B>Accessing Values in Lists via Indexing</B></font>\n",
    "\n",
    "Each element of a sequence in a list is assigned a number: its _position_ or _index_. The first index is _zero_ (not one!), the second index is _one_, and so forth. Accessing an element in a list via its position is called _indexing_. For example, this code accesss and prints the first three days of the week:"
   ]
  },
  {
   "cell_type": "code",
   "execution_count": 25,
   "metadata": {},
   "outputs": [
    {
     "name": "stdout",
     "output_type": "stream",
     "text": [
      "Monday\n",
      "Tuesday\n",
      "Thursday\n"
     ]
    }
   ],
   "source": [
    "print(days_of_week[0])\n",
    "print(days_of_week[1])\n",
    "print(days_of_week[2])"
   ]
  },
  {
   "cell_type": "markdown",
   "metadata": {},
   "source": [
    "**[EXERCISE]** Next, ask the user which day of the week to print, in the form of its number: 1,2,...,7. If the user enters 1, \"Monday\" should be printed; if user enters 4, \"Friday\" should be printed. Remember:\n",
    "\n",
    "* from the [Conditional](03.Conditionals.ipynb) tutorial that you can use `input(<message>)` to ask the user for a string.\n",
    "* you can convert a string to its corresponding integer number (assuming the string does contain a number) using `int(.)`. \n",
    "* that the first position of a list is 0, not 1! "
   ]
  },
  {
   "cell_type": "code",
   "execution_count": null,
   "metadata": {},
   "outputs": [],
   "source": [
    "# first ask the user which day to print\n",
    "\n",
    "\n",
    "# then, print that day by using indexing\n"
   ]
  },
  {
   "cell_type": "markdown",
   "metadata": {},
   "source": [
    "**[EXERCISE]** What happens if we try to access position for which there is no element? for example, try to print the element in the 10th position of `days_of_week`.\n",
    "\n",
    "The error `IndexError: list index out of range` is saying that we usde an index, a position, that is outside the valid range of indexes, which is the \"size\" of the list (minus one because the first index always starts at zero!).\n",
    "\n",
    "So, can we obtain the number of elements in a given list? Yes, of course: using `len` function (the \"length\" of the list):"
   ]
  },
  {
   "cell_type": "code",
   "execution_count": 20,
   "metadata": {},
   "outputs": [
    {
     "name": "stdout",
     "output_type": "stream",
     "text": [
      "6\n"
     ]
    }
   ],
   "source": [
    "print(len(days_of_week))"
   ]
  },
  {
   "cell_type": "markdown",
   "metadata": {},
   "source": [
    "As you can imagine, this will come handy to make sure we do not try to access elements beyond the size of a list."
   ]
  },
  {
   "cell_type": "markdown",
   "metadata": {},
   "source": [
    "<font size=\"5\" color=\"#b21200\"  face=\"verdana\"> <B>Loops on Lists</B></font>\n"
   ]
  },
  {
   "cell_type": "markdown",
   "metadata": {},
   "source": [
    "Since lists have many data, loops (from the previous tutorial) come handy to operate on them."
   ]
  },
  {
   "cell_type": "code",
   "execution_count": 22,
   "metadata": {},
   "outputs": [
    {
     "name": "stdout",
     "output_type": "stream",
     "text": [
      "Monday\n",
      "Tuesday\n",
      "Thursday\n"
     ]
    }
   ],
   "source": [
    "# initialize the index counting\n",
    "idx = 0\n",
    "\n",
    "while idx < 3:\n",
    "    print(days_of_week[idx])\n",
    "    idx = idx + 1 # pass to the next index"
   ]
  },
  {
   "cell_type": "markdown",
   "metadata": {},
   "source": [
    "**[EXERCISE]** In the previous program we print just the first three days of the week (i.e., the first three elements of list `days_of_week`). Using function `len(.)`, change the above code to print all the elements in the list, whatever they are. For this exercise, your program has to work no matter what `days_of_week` contains, whether it contains all seven days or just the working days, or just the weekend."
   ]
  },
  {
   "cell_type": "markdown",
   "metadata": {},
   "source": [
    "## For loops"
   ]
  },
  {
   "cell_type": "markdown",
   "metadata": {},
   "source": [
    "As we have seen above, using the `while` construct plus an indexing variable (here we have used one named `idx`) we can go over the elements of any list. There is however, a more convenient tool to **iterate** over the items of any sequence, such as a list or even a string. It is a `for ..` loop construct which has the following shape and flowchart interpretation:\n",
    "\n",
    "```\n",
    "for iterating_var in sequence:\n",
    "   statements(s)\n",
    "```\n",
    "\n",
    "![for-loop](../imgs/flowchart-for.png)"
   ]
  },
  {
   "cell_type": "markdown",
   "metadata": {},
   "source": [
    "So, the simplest example is to print all the elements of a variable:"
   ]
  },
  {
   "cell_type": "code",
   "execution_count": 26,
   "metadata": {},
   "outputs": [
    {
     "name": "stdout",
     "output_type": "stream",
     "text": [
      "Monday\n",
      "Tuesday\n",
      "Thursday\n",
      "Friday\n",
      "Saturday\n",
      "Sunday\n"
     ]
    }
   ],
   "source": [
    "days_of_week = [\"Monday\", \"Tuesday\", \"Thursday\", \"Friday\", \"Saturday\", \"Sunday\"]\n",
    "for day in days_of_week:\n",
    "    print(day)"
   ]
  },
  {
   "cell_type": "markdown",
   "metadata": {},
   "source": [
    "This is literally saying: \"for each `day` in `days_of_week` print the `day`\"\n",
    "\n",
    "Technically, variable `day` will be assigned each of teh elements of list `day_of_week` and the body of the `for` loop, here just line 3, executed with that value. Isn't this great? No counter needed, and no indexing."
   ]
  },
  {
   "cell_type": "markdown",
   "metadata": {},
   "source": [
    "Interesting, Python handles strings as just lists of single characters, so one can also iterate through the characters in a string:"
   ]
  },
  {
   "cell_type": "code",
   "execution_count": 29,
   "metadata": {},
   "outputs": [
    {
     "name": "stdout",
     "output_type": "stream",
     "text": [
      "Current character/letter: H\n",
      "Current character/letter: e\n",
      "Current character/letter: l\n",
      "Current character/letter: l\n",
      "Current character/letter: o\n",
      "Current character/letter:  \n",
      "Current character/letter: W\n",
      "Current character/letter: o\n",
      "Current character/letter: r\n",
      "Current character/letter: l\n",
      "Current character/letter: d\n",
      "Current character/letter: !\n"
     ]
    }
   ],
   "source": [
    "my_text = \"Hello World!\"\n",
    "for c in my_text:\n",
    "    print(\"Current character/letter:\", c)"
   ]
  },
  {
   "cell_type": "markdown",
   "metadata": {},
   "source": [
    "Notice that a space and an explanation marks are also characters!"
   ]
  },
  {
   "cell_type": "markdown",
   "metadata": {},
   "source": [
    "<font size=\"5\" color=\"#b21200\"  face=\"verdana\"> <B>Updating Lists</B></font>\n"
   ]
  },
  {
   "cell_type": "markdown",
   "metadata": {},
   "source": [
    "Lists, once defined, are not fixed and can be changed. We can:\n",
    "\n",
    "* Update a certain element in a position.\n",
    "* Append a new element at the end of the list, thus increasing its size.\n",
    "* Delete a certain element from the list.\n",
    "* Concatenate two lists into a single one.\n",
    "\n",
    "Here are some examples:"
   ]
  },
  {
   "cell_type": "code",
   "execution_count": 32,
   "metadata": {},
   "outputs": [
    {
     "name": "stdout",
     "output_type": "stream",
     "text": [
      "Initial list of even numbers: [0, 2, 4, 6, 9]\n",
      "Initial list of odd numbers: [1, 3, 5, 7]\n",
      "Updated list of even numbers: [0, 2, 4, 6, 8]\n",
      "Updated list of odd numbers: [1, 3, 5, 7, 9]\n",
      "List of digits: [0, 2, 4, 6, 8, 1, 3, 5, 7, 9]\n"
     ]
    }
   ],
   "source": [
    "even = [0, 2, 4, 6, 9]\n",
    "odd = [1, 3, 5, 7]\n",
    "\n",
    "print(\"Initial list of even numbers:\", even)\n",
    "print(\"Initial list of odd numbers:\", odd)\n",
    "\n",
    "# fix the even and odd list\n",
    "even[4] = 8\n",
    "odd.append(9)\n",
    "\n",
    "print(\"Updated list of even numbers:\", even)\n",
    "print(\"Updated list of odd numbers:\", odd)\n",
    "\n",
    "# the list of digits is obtained by concatanating even and odd lists\n",
    "digits = even + odd\n",
    "print(\"List of digits:\", digits)"
   ]
  },
  {
   "cell_type": "markdown",
   "metadata": {},
   "source": [
    "## List of prime numbers\n",
    "\n",
    "**[EXERCISE]** Take the program you build for printing the prime numbers between 2 and 100 and build a list of those prime numbers (stored in list variable `primes`). Remember that the empty list is denoted `[]` and that you can use `list.append(.)` to append a new element to a list."
   ]
  },
  {
   "cell_type": "code",
   "execution_count": 43,
   "metadata": {},
   "outputs": [
    {
     "name": "stdout",
     "output_type": "stream",
     "text": [
      "The primes between 2 and 100 are: []\n",
      "--------\n"
     ]
    }
   ],
   "source": [
    "# initialize list of primes\n",
    "primes = []\n",
    "\n",
    "# ------- Write your code below this line --------\n",
    "\n",
    "\n",
    "\n",
    "\n",
    "\n",
    "\n",
    "\n",
    "# ------- Write your code above this line --------\n",
    "print(\"The primes between 2 and 100 are:\", primes)\n",
    "print(\"--------\")"
   ]
  },
  {
   "cell_type": "markdown",
   "metadata": {},
   "source": [
    "<font size=\"5\" color=\"#b21200\"  face=\"verdana\"> <B>Searching</B></font>\n",
    "\n",
    "One of the most important and usual operations is to search an element in a data structure, like a list. The simples form is to iterate through the whole list, checking if the element of interest is somewhere.\n",
    "\n",
    "**[EXERCISE]** Write a program that ask the user for a number and checks if it is a prime number between 2 and 100 by checking if it is in the list `primes` calculated in the program before. You need to have completed the above program and Jupyter will remember the value of variable `primes` once executed."
   ]
  },
  {
   "cell_type": "code",
   "execution_count": 45,
   "metadata": {},
   "outputs": [
    {
     "name": "stdout",
     "output_type": "stream",
     "text": [
      "What number do you want to check for primarlity?2\n",
      "--------\n"
     ]
    }
   ],
   "source": [
    "# ask the user for a number to check for primality\n",
    "n = int(input(\"What number do you want to check for primarlity?\"))\n",
    "\n",
    "# ------- Write your code below this line --------\n",
    "\n",
    "\n",
    "\n",
    "\n",
    "\n",
    "\n",
    "\n",
    "# ------- Write your code above this line --------\n",
    "print(\"--------\")"
   ]
  },
  {
   "cell_type": "markdown",
   "metadata": {},
   "source": [
    "**QUESTION:** What happens if the user enters a number greater than 100? Does your program give a meaningful answer (e.g., \"I don't know\") in those cases?"
   ]
  },
  {
   "cell_type": "markdown",
   "metadata": {},
   "source": [
    "<font size=\"5\" color=\"#b21200\"  face=\"verdana\"> <B>Neasted Lists & Matrices</B></font>\n",
    "\n",
    "Lists can be neasted, that is, a list can contain lists as elements. This comes very handy for example to express matrices:"
   ]
  },
  {
   "cell_type": "code",
   "execution_count": 46,
   "metadata": {},
   "outputs": [
    {
     "name": "stdout",
     "output_type": "stream",
     "text": [
      "[[1, 2, 3], [4, 5, 6], [7, 8, 9]]\n",
      "First row of m: [1, 2, 3]\n",
      "Element m[2,3]: 6\n",
      "--------\n"
     ]
    }
   ],
   "source": [
    "M = [ [1,2,3], [4,5,6], [7,8,9] ]\n",
    "\n",
    "print(M)\n",
    "print(\"First row of M:\", M[0])\n",
    "print(\"Element M[2,3]:\", M[1][2])\n",
    "print(\"--------\")"
   ]
  },
  {
   "cell_type": "markdown",
   "metadata": {},
   "source": [
    "**[EXERCISE]** Write a program that ask the user for a number `n` and adds that number to matrix `M`, that is, it computes `M + n`. Your code should not modify `M` itself but create a new matrix `M_new`."
   ]
  },
  {
   "cell_type": "code",
   "execution_count": 48,
   "metadata": {},
   "outputs": [
    {
     "name": "stdout",
     "output_type": "stream",
     "text": [
      "How much you want to add to matrix m? 2\n",
      "When adding 2 to M we get matrix [[1, 2, 3], [4, 5, 6], [7, 8, 9]]\n",
      "--------\n"
     ]
    }
   ],
   "source": [
    "# number to add to all elements of m\n",
    "n = int(input(\"How much you want to add to matrix m? \"))\n",
    "\n",
    "# we start with m\n",
    "M_new = M\n",
    "\n",
    "\n",
    "# ------- Write your code below this line --------\n",
    "\n",
    "\n",
    "\n",
    "\n",
    "\n",
    "# ------- Write your code above this line --------\n",
    "print(\"When adding\", n, \"to M we get matrix\", M_new)\n",
    "print(\"--------\")"
   ]
  },
  {
   "cell_type": "markdown",
   "metadata": {},
   "source": [
    "<font size=\"5\" color=\"#b21200\"  face=\"verdana\"> <B>All done!</B></font>\n",
    "\n",
    "In this notebook we learnt our first complex data structure: **lists**.\n",
    "\n",
    "Lists allows us to store and manipulate more than one piece of data. Together with loops and conditionals, they provide a very powerful abstraction mechanism.\n",
    "\n",
    "Now that we have seen many powerful abstractions (variables), control flow mechanisms (conditionals, loops) and data structures (list), we will dive into solving some interesting problems in our next nootebook! These includes searching elements efficiently, sorting and reversing data, and doing interesting calculations.\n",
    "\n",
    "![completed](../imgs/completed.jpg)"
   ]
  },
  {
   "cell_type": "markdown",
   "metadata": {},
   "source": [
    "---------------------------\n",
    "Previous: [Hello World!](01.HelloWorld.ipynb) | [HOME](HOME.ipynb) | Next: [Lists-and-Loops](04.Lists-and-Loops.ipynb)"
   ]
  }
 ],
 "metadata": {
  "kernelspec": {
   "display_name": "Python 3",
   "language": "python",
   "name": "python3"
  },
  "language_info": {
   "codemirror_mode": {
    "name": "ipython",
    "version": 3
   },
   "file_extension": ".py",
   "mimetype": "text/x-python",
   "name": "python",
   "nbconvert_exporter": "python",
   "pygments_lexer": "ipython3",
   "version": "3.6.6"
  }
 },
 "nbformat": 4,
 "nbformat_minor": 2
}
