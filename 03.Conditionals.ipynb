{
 "cells": [
  {
   "cell_type": "markdown",
   "metadata": {},
   "source": [
    "<font size=\"6\" color=\"#0047b2\"  face=\"verdana\"> <B>Notebook 03: Conditional and Booleans</B></font>\n",
    "------------------------------------"
   ]
  },
  {
   "cell_type": "markdown",
   "metadata": {},
   "source": [
    "<font size=\"5\" color=\"#b21200\"  face=\"verdana\"> <B>Conditionals</B></font>\n",
    "\n",
    "You are invited to your friend's birthday party and you want to bring a cake. **If you have 3 or more eggs** you will bake a cake, **otherwise** you will get a cake from the shop.\n",
    "\n",
    "When solving a problem, we almost always need the ability to check conditions and change the behavior of algorithm or program accordingly. [**Conditional IF-ELSE statements](https://www.tutorialspoint.com/python/python_decision_making.htm) for decision making give us this ability!\n",
    "\n",
    "The flowchart of an if statement is as follows:\n",
    "\n",
    "![conditional-flowchart](imgs/tikz-flowchart-if-then-else.resized2.png)\n",
    "\n",
    "So, a condition will be checked: if the condition is true, then one piece of code will be performed (the \"IF\" part of the statement); if the condition if false, a second piece of code will be executed (the \"ELSE\" part of the statement)."
   ]
  },
  {
   "cell_type": "markdown",
   "metadata": {},
   "source": [
    "One of the typical aspects of a smart house is temperature control. You are desigining a smart thermometer for houses. You would like the thermometer to:\n",
    "\n",
    "1. tell you (in the screen) that it is hot whenever the temperature (stored in a variable called `temp`) is above 30 degrees; \n",
    "2. otherwise report all is good. \n",
    "\n",
    "This is how you do it in Python: "
   ]
  },
  {
   "cell_type": "code",
   "execution_count": null,
   "metadata": {},
   "outputs": [],
   "source": [
    "# current temperature\n",
    "temp = 34\n",
    "\n",
    "if temp > 30:\n",
    "    print(\"It is hot!\")\n",
    "    print(\"Do you have the aircon on?\")\n",
    "else:\n",
    "    print(\"It's OK, not too hot... :-)\")\n",
    "print(\"done\")"
   ]
  },
  {
   "cell_type": "markdown",
   "metadata": {},
   "source": [
    "_**So, what happened?**_\n",
    "\n",
    "The fourth line of this code uses the keyword `if` to tell Python that we want to make a _choice_. If the test that follows the `if` statement (the the temperature is above 30) is true, the _body_ of the `if` (the lines indented underneath it, lines 5 and 6) is executed. If the test is false, the _body_ of the `else` is executed instead. Only one or the other is ever executed:\n",
    "\n",
    "**[EXERCISE]** Change the above program to a temperature of 20 and execute it via **Control+Shift**. What do you expect to see?"
   ]
  },
  {
   "cell_type": "markdown",
   "metadata": {},
   "source": [
    "**[EXERCISE]** Given a number `n`, tell to the user (by printing on screen) whether the number is _even_ or _odd_. Remember you can use operator `%` in Pyton to get the reminder of a division."
   ]
  },
  {
   "cell_type": "code",
   "execution_count": null,
   "metadata": {},
   "outputs": [],
   "source": [
    "# the number to ckeck\n",
    "n = 45\n",
    "\n",
    "# ------- Write your code below this line --------\n",
    "\n",
    "\n",
    "\n",
    "\n",
    "# ------- Write your code above this line --------\n",
    "print(\"done\")"
   ]
  },
  {
   "cell_type": "markdown",
   "metadata": {},
   "source": [
    "**You may ask:** why do we need to do conditionals if the value of variable `n` is known already when we are writting the program? Our program can just do what is supposed to do for the value of `n`!\n",
    "\n",
    "Well, it turns out that the value of that variable `n` may actually not be known when you write your code. One very useful case is when certain data, like the value of `n`, is actually provided at execution time by the user!\n",
    "\n",
    "Python provides the `input(<message>)` function tool to ask the user interactively in the sreen for data in the form of a string. Try this version of our first program above:"
   ]
  },
  {
   "cell_type": "code",
   "execution_count": null,
   "metadata": {},
   "outputs": [],
   "source": [
    "# get the current temperature from the user\n",
    "temp = float(input(\"What is the current temperature? \"))\n",
    "\n",
    "if temp > 30:\n",
    "    print(\"It is hot!\")\n",
    "    print(\"Do you have the aircon on?\")\n",
    "else:\n",
    "    print(\"It's OK, not too hot... :-)\")\n",
    "print(\"done\")\n"
   ]
  },
  {
   "cell_type": "markdown",
   "metadata": {},
   "source": [
    "Note how line 2 is responsible of asking the user for data. Because the output of `input()` will be a string, we use `float(.)` to understand that string as a float number. Try different values and also try entering something different than a number (like \"hello\") and see what happens!"
   ]
  },
  {
   "cell_type": "markdown",
   "metadata": {},
   "source": [
    "<font size=\"5\" color=\"#b21200\"  face=\"verdana\"> <B>Neasted & Chained Conditionals</B></font>\n",
    "\n",
    "Now, imagine you also want to sell your thermometers for houses in Canada, where temperature can reach way below zero degrees! You do not want to make two type of thermometers (that is two expensive!) but one that can be sold in both Australia and Canada.  **How do we modify the software in our thermometer?** "
   ]
  },
  {
   "cell_type": "code",
   "execution_count": null,
   "metadata": {
    "scrolled": true
   },
   "outputs": [],
   "source": [
    "# get current temperature\n",
    "temp = float(input(\"What is the current temperature? \"))\n",
    "\n",
    "if temp > 30:\n",
    "    print(\"It is hot!\")\n",
    "    print(\"Do you have the aircon on?\")\n",
    "else:\n",
    "    if temp < -10:\n",
    "            print(\"It is cold!\")\n",
    "            print(\"Do you have the heater on?\")\n",
    "    else:\n",
    "        print(\"It's OK, not too hot, not too cold... :-)\")\n",
    "print(\"done\")"
   ]
  },
  {
   "cell_type": "markdown",
   "metadata": {},
   "source": [
    "What we have used above is **neasted conditionals**: one if-conditional statement (lines 8 to 12) nested within another if-conditional statement (line 4 to 12). "
   ]
  },
  {
   "cell_type": "markdown",
   "metadata": {},
   "source": [
    "While neasted conditionals allows us to check for multiple interesting cases (e.g., above 30, below -10, etc.)\n",
    "most programming languages allows us to to express a computation like the above a chained conditional.\n",
    "\n",
    "In Python, we can use `if-elif-else` statements as follows:"
   ]
  },
  {
   "cell_type": "code",
   "execution_count": null,
   "metadata": {},
   "outputs": [],
   "source": [
    "# get current temperature\n",
    "temp = float(input(\"What is the current temperature? \"))\n",
    "\n",
    "if temp > 30:\n",
    "    print(\"It is hot!\")\n",
    "    print(\"Do you have the aircon on?\")\n",
    "elif temp < -10:\n",
    "    print(\"It is cold!\")\n",
    "    print(\"Do you have the heater on?\")\n",
    "elif temp == 0:\n",
    "    print(\"Interesting, it is exactly zero degrees!\")\n",
    "else:\n",
    "    print(\"It's OK, not too hot, not too cold, and not zero... :-)\")\n",
    "print(\"done\")"
   ]
  },
  {
   "cell_type": "markdown",
   "metadata": {},
   "source": [
    "As you can see above, our program checks for three cases without using neasted conditionals, which with many cases it makes the code more difficult to read due to neasted identation. \n",
    "\n",
    "Also note how we check for equality using comparison symbol `==` and not `=`, which as we have seen is used for variable assignment...\n",
    "\n",
    "\n"
   ]
  },
  {
   "cell_type": "markdown",
   "metadata": {},
   "source": [
    "**[EXERCISE]** Write a program that reports the tens of a number `n` between 10 and 99. For example, if the number is 54, it should report 5, whereas if the number is 83, it should report 8. Try to build a solution that uses an `else` somewhere! ;-)"
   ]
  },
  {
   "cell_type": "code",
   "execution_count": null,
   "metadata": {},
   "outputs": [],
   "source": [
    "# ask user for a number between 10 and 99\n",
    "n = float(input(\"Pick a number between 10 and 99: \"))\n",
    "\n",
    "# ------- Write your code below this line --------\n",
    "\n",
    "\n",
    "\n",
    "\n",
    "\n",
    "# ------- Write your code above this line --------\n",
    "\n",
    "print('done')"
   ]
  },
  {
   "cell_type": "markdown",
   "metadata": {},
   "source": [
    "**[EXERCISE]** In this exercise we will combine variables with conditionals. Complete the following program that is meant to report whether the tens of a number `n` between 10 and 99 is even or odd (you can assume the number entered is between 10 and 99!):"
   ]
  },
  {
   "cell_type": "code",
   "execution_count": null,
   "metadata": {},
   "outputs": [],
   "source": [
    "# ask user for a number between 10 and 99\n",
    "n = float(input(\"Pick a number between 10 and 99: \"))\n",
    "\n",
    "# ------- Write your code below this line --------\n",
    "\n",
    "\n",
    "\n",
    "# ------- Write your code above this line --------\n",
    "\n",
    "if (tens % 2 == 0):\n",
    "    print(\"The tens of number\", n, \"is even\")\n",
    "else:\n",
    "    print(\"The tens of number\", n, \"is odd\")"
   ]
  },
  {
   "cell_type": "markdown",
   "metadata": {},
   "source": [
    "**NOTE:**  there are at least two ways to solve the above, one long and one short. _Which one was yours?_ Also note how we printed the number `n` within a string, separating the strings and the number variable with commas: this way we do not need to concatenate strings via operator `+` which will require \"converting\" `n` explicitely to a string via `str(.)`."
   ]
  },
  {
   "cell_type": "markdown",
   "metadata": {},
   "source": [
    "**[EXERCISE]** Your user is not very careful and enters a too large number, say 284731. What does your program say? Modify the solution to make it more robust: if the number entered is not within the expected range, report that and do not show anything! For this part you can, and probably should, modify any part of the code."
   ]
  },
  {
   "cell_type": "markdown",
   "metadata": {},
   "source": [
    "<font size=\"5\" color=\"#b21200\"  face=\"verdana\"> <B>Complex Conditions</B></font>\n",
    "\n",
    "Sometimes what will need to \"check\" for more complex conditions in if-elif-else statements. We can build more complex conditions using logical operators `and`, `or` and `not`.\n",
    "\n",
    "Suppose we would like to check if a number is a multiple of 2 _and_ 5. This can be done using neasting conditionals as follows:\n",
    "\n",
    "```\n",
    "if n % 2 == 0:\n",
    "    if n % 5 == 0:\n",
    "        print(\"Number\", n,\"is divisble by 2 and 5\")\n",
    "```\n",
    "\n",
    "Of couse, we could have neasted the if statements the other way around with the same result, by checking first divisibility by 5 and then by 2:\n",
    "\n",
    "```\n",
    "if n % 5 == 0:\n",
    "    if n % 2 == 0:\n",
    "        print(\"Number\", n,\"is divisble by 2 and 5\")\n",
    "```\n",
    "\n",
    "Notice that there is no `else` in the above: nothing is printed it the number `n` is not divisible by 2 and 5."
   ]
  },
  {
   "cell_type": "markdown",
   "metadata": {},
   "source": [
    "While correct, we can compress both \"simple\" conditions into a complex condition as follows:"
   ]
  },
  {
   "cell_type": "code",
   "execution_count": null,
   "metadata": {},
   "outputs": [],
   "source": [
    "n = 80\n",
    "\n",
    "if n % 2 == 0 and n % 5 == 0:\n",
    "    print(\"Number\", n,\"is divisble by 2 and 5\")"
   ]
  },
  {
   "cell_type": "markdown",
   "metadata": {},
   "source": [
    "**[EXERCISE]** Write a program that prints _\"I am a very happy number\"_ if it is a number less than a 100 and divisible by 2 and 5, or by 3 but not by 5. Your solution should print nothing otherwise and should only use one `if` statement. You should assume the number entered is an integer (i.e., whole number). Remember:\n",
    "\n",
    "* You state the body of the `if` statement by indenting it.\n",
    "* The boolean logical connectives are `and`, `or` and `not`.\n",
    "* You can use parenthesis to make sure you get what you want: `not (A and B)` is different from `not A and B`."
   ]
  },
  {
   "cell_type": "code",
   "execution_count": null,
   "metadata": {},
   "outputs": [],
   "source": [
    "# this is a number between 10 and 99\n",
    "n = float(input(\"Pick a whole number between 10 and 99: \"))\n",
    "\n",
    "# ------- Write your code below this line --------\n",
    "\n",
    "\n",
    "\n",
    "# ------- Write your code above this line --------"
   ]
  },
  {
   "cell_type": "markdown",
   "metadata": {},
   "source": [
    "Remember to **test your programs** with various interesting test cases to verify your program does what you want it to do! :-)"
   ]
  },
  {
   "cell_type": "markdown",
   "metadata": {},
   "source": [
    "<font size=\"5\" color=\"#b21200\"  face=\"verdana\"> <B>Calculating your taxes</B></font>\n"
   ]
  },
  {
   "cell_type": "markdown",
   "metadata": {},
   "source": [
    "Remember our previous interest earned example: _Suppose you have $95, which you can invest with a 15% return each year. How much money you would have after 9 years? How much profit have you done?_ \n",
    "\n",
    "We will use this example to demonstrates many interesting things when using variables. Here is our solution:"
   ]
  },
  {
   "cell_type": "code",
   "execution_count": null,
   "metadata": {},
   "outputs": [],
   "source": [
    "initial_funds = 95\n",
    "yr_interest = 0.15\n",
    "no_years = 9\n",
    "\n",
    "# Funds at the end of the period\n",
    "final_funds = initial_funds * ( (1+yr_interest) ** no_years)\n",
    "# Profit made\n",
    "profit = final_funds - initial_funds\n",
    "\n",
    "# Now do the reporting\n",
    "print(\"EARNINGS AFTER \" + str(no_years) + \" YEARS AT \" + str(1 + yr_interest) + \"%:\")\n",
    "print(\"     TOTAL FUNDS: \" + str(final_funds))\n",
    "print(\"     PROFIT MADE: \" + str(profit))\n",
    "\n"
   ]
  },
  {
   "cell_type": "markdown",
   "metadata": {},
   "source": [
    "There are many things to observe in the above program:\n",
    "\n",
    "* The problem has been _abstracted_ by separating the data in variables (lines 1-3) from the the calulations required to solve the problem (lines 6-8). \n",
    "* Lines 6 & 7 show how complex expressions can be used in the right hand of an assignment statement.\n",
    "* The names of the variales adhere to naming convention, and good practice: short but descriptive, and lowercase. \n",
    "* Because the print statement is printing Strings, we tell Python to convert variables holding numbers to Strings versions using function `str(<number>)` (which yields the string version of the corresponding number).\n",
    "\n",
    "How is this so different than the program we wrote in the previous notebook? Why abstraction is important or useful? Think about it..."
   ]
  },
  {
   "cell_type": "markdown",
   "metadata": {},
   "source": [
    "**[EXERCISE]** Suppose you now have $105 at the start, but you will only invest for 5 years. Modify the code above in the minimal way possible to get the new earnings (total funds and profit).\n",
    "\n",
    "* How many changes did you have to do? How many did you do in the previous version with no variables?\n",
    "* Did you have to touch at all the code doing the calculations? The less you touch, the less it may break..."
   ]
  },
  {
   "cell_type": "markdown",
   "metadata": {},
   "source": [
    "**[EXERCISE: Your taxes again!]** You have two jobs, in which you have earnt \\\\$12,734 and \\\\$87,621 respectively over the year. You need to pay 26.5\\% tax after the first \\\\$18,000 dollars earnt. How much tax do you have to pay? A friend started the program, but he got very tired and got asleep, even leaving a broken code... Help your friend complete it before she wakes up!!"
   ]
  },
  {
   "cell_type": "code",
   "execution_count": null,
   "metadata": {},
   "outputs": [],
   "source": [
    "job1_earning = 12734\n",
    "\n",
    "tax_rate = 0.265\n",
    "\n",
    "# Here I will calculate how much taxes I need to pay\n",
    "taxes = (job1_earning + job2_earning) \n",
    "\n",
    "# Report taxes to be paid\n",
    "print(\"I need to pay: \" + str(taxes))"
   ]
  },
  {
   "cell_type": "markdown",
   "metadata": {},
   "source": [
    "<font size=\"5\" color=\"#b21200\"  face=\"verdana\"> <B>All done!</B></font>\n",
    "\n",
    "In this notebook we learnt a few things:\n",
    "\n",
    "1. We have learnt one of the most important and used control flow stuctures of every programming language: **conditionals**. The if-then-else statements allow our code to execute different pieces depending on what is true.\n",
    "Conditionals, together with variables, allows us to write more abstract and generic computational solutions. We do not write a solution for just one special case (e.g, is the temperature 45 above the 30 threashold?) but for a family of possible problems (e.g., is the current temperature, stored in variable `temp`, above the 30 threashold?).\n",
    "\n",
    "2. We have learnt about **complex conditions**. Python provides many arithmetic (e.g., `==` and `<=`) and logical boolean (e.g., `and` and `not`) [operators](https://www.programiz.com/python-programming/operators), that can be used to write complex conditions. We will later see even more boolean operators. \n",
    "\n",
    "3. We have learnt how to **get input from the user**, via the `input(.)`. Together with the `print(.)` statement it provides interactivity with the user.\n",
    "\n",
    "4. Finally, we have also seen how we can **combine strings and numbers** with commas in `print` statements, thus not needing to concatenate strings and convert numbers to strings via `str(.)`.\n",
    "\n",
    "Now, so far we have dealt with variables containing one data. We have checked, for example, if a given number is even or the tens of a given number. But what if we want to check many numbers, say 20 numbers. Do we need to create 20 variables and corresponding code for each variable? That would hurt, woudln't it? Fortunately, no. We can do better and we will see that in our next notebook...\n",
    "\n",
    "![completed](imgs/completed.jpg)"
   ]
  },
  {
   "cell_type": "markdown",
   "metadata": {},
   "source": [
    "---------------------------\n",
    "Previous: [Variables](02.Variables.ipynb) | [HOME](HOME.ipynb) | Next: [Loops](04.Loops.ipynb)"
   ]
  }
 ],
 "metadata": {
  "kernelspec": {
   "display_name": "Python 3",
   "language": "python",
   "name": "python3"
  },
  "language_info": {
   "codemirror_mode": {
    "name": "ipython",
    "version": 3
   },
   "file_extension": ".py",
   "mimetype": "text/x-python",
   "name": "python",
   "nbconvert_exporter": "python",
   "pygments_lexer": "ipython3",
   "version": "3.6.7"
  }
 },
 "nbformat": 4,
 "nbformat_minor": 2
}
