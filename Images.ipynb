{
 "cells": [
  {
   "cell_type": "markdown",
   "metadata": {},
   "source": [
    "<font size=\"6\" color=\"#0047b2\"  face=\"verdana\"> <B>Licenses and sources for images used</B></font>\n",
    "\n",
    "--------------------------------\n",
    "\n",
    "Many photos were taken from [Pexels](https://www.pexels.com/) under free **Pexels License** that allows:\n",
    "\n",
    "* Free for personal and commercial use.\n",
    "* No attribution required."
   ]
  },
  {
   "cell_type": "markdown",
   "metadata": {},
   "source": [
    "# Free Images and Cliparts"
   ]
  },
  {
   "cell_type": "markdown",
   "metadata": {},
   "source": [
    "[Creative Commons Attribution-ShareAlike 2.0](https://creativecommons.org/licenses/by-sa/2.0/)\n",
    "\n",
    "[![completed-stamp](https://c1.staticflickr.com/8/7171/6440362395_e3712272bc.jpg)](https://www.flickr.com/photos/unsveltegirl/6440362395)\n"
   ]
  },
  {
   "cell_type": "markdown",
   "metadata": {},
   "source": [
    "-----------------\n",
    "Free clipart\n",
    "\n",
    "[![comment-clipart](http://www.clker.com/cliparts/z/D/9/E/n/b/note-comment-md.png)](http://www.clker.com/clipart-note-comment.html)"
   ]
  },
  {
   "cell_type": "markdown",
   "metadata": {},
   "source": []
  },
  {
   "cell_type": "markdown",
   "metadata": {},
   "source": [
    "--------------------------\n",
    "CC0 Creative Commons: Free for commercial use & No attribution required\n",
    "\n",
    "[![fin](https://cdn.pixabay.com/photo/2013/07/13/10/04/fin-156478_960_720.png)](https://pixabay.com/en/fin-end-film-filmstrip-slide-156478/)"
   ]
  },
  {
   "cell_type": "markdown",
   "metadata": {},
   "source": [
    "----------------------\n",
    "# Photos from Pexels"
   ]
  },
  {
   "cell_type": "markdown",
   "metadata": {},
   "source": [
    "\n",
    "[![canoe](https://images.pexels.com/photos/1571855/pexels-photo-1571855.jpeg?auto=compress&cs=tinysrgb&dpr=2&h=750&w=1260)](https://www.pexels.com/photo/six-assorted-colored-row-boats-1571855/)"
   ]
  }
 ],
 "metadata": {
  "kernelspec": {
   "display_name": "Python 3",
   "language": "python",
   "name": "python3"
  },
  "language_info": {
   "codemirror_mode": {
    "name": "ipython",
    "version": 3
   },
   "file_extension": ".py",
   "mimetype": "text/x-python",
   "name": "python",
   "nbconvert_exporter": "python",
   "pygments_lexer": "ipython3",
   "version": "3.6.7"
  }
 },
 "nbformat": 4,
 "nbformat_minor": 2
}
