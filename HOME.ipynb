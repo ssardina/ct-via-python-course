{
 "cells": [
  {
   "cell_type": "markdown",
   "metadata": {},
   "source": [
    "# Computational Thinking via Python Programming\n",
    "## Sebastian Sardina - RMIT University - ssardina@gmail.com\n",
    "---------------------"
   ]
  },
  {
   "cell_type": "markdown",
   "metadata": {},
   "source": [
    "## Table of Contents\n",
    "\n",
    "1. Let's start building some programs to [control Lightbot](http://lightbot.com/flash.html)!\n",
    "1. My first program & simple printing: [\"Hello World\"](01.Basic-HelloWorld-Print-Data.ipynb)\n",
    "2. My first abstraction: [Variables](02.Var-and-Data.ipynb)"
   ]
  },
  {
   "cell_type": "markdown",
   "metadata": {},
   "source": [
    "# Make Lightbot turn on the lights!\n",
    "\n",
    "An **algorithm** is a **_precisely defined process_** for **_solving a problem_**:\n",
    "\n",
    "* It provides a _sequence of steps_ for accomplishing a task.\n",
    "* An unambiguous specification of _how to solve a class of problems_.\n",
    "\n",
    "One important area of study is the development of algorithms and programs to \"move around\" intelligently in order to accomplish a task. For example, a GPS navigational algorithm is meant to produce (good) paths to move from an initial location to a given desired destination.\n",
    "\n",
    "In this activity we will build algorithms to _make our Lighbot robot navigate a maze and turn on lights!_ You need to arrange the commands that Lightbot robot must do (walk, turn, jump, switch on a light and so on) so that each maze is solved! \n",
    "\n",
    "So, go and [help Lightbot](http://lightbot.com/flash.html) turn on the lights in the mazes by completing the **BASIC level** first!\n",
    "\n",
    "[![lightbot](imgs/lightbot.png)](http://lightbot.com/flash.html)\n"
   ]
  },
  {
   "cell_type": "markdown",
   "metadata": {},
   "source": [
    "# Our first program: print \"Hello World!\""
   ]
  },
  {
   "cell_type": "markdown",
   "metadata": {},
   "source": [
    "A [\"Hello, World!\"](https://en.wikipedia.org/wiki/%22Hello,_World!%22_program) program is a computer program that outputs or displays the message _\"Hello, World!\"_. \n",
    "\n",
    "Because it is very simple in most programming languages, it is often used to illustrate the basic syntax of a programming language and is often the first program people write.\n",
    "\n",
    "One of the most important things to learn is how to report or print information, because that is one commmon way you would see the result of your algorithms. \n",
    "\n",
    "So, let's write our first Hello World program and learn how to print some information in Python: \n",
    "\n",
    "[![hello world](imgs/hello_world.jpg)](01.HelloWorld.ipynb)"
   ]
  },
  {
   "cell_type": "markdown",
   "metadata": {},
   "source": [
    "# Abstraction via Variables\n",
    "\n",
    "So far we have seen some type of data (strings, integers, floating numbers), how to print them, and how to do some basic calculations.\n",
    "\n",
    "A key process in building good algorithms is to perform the right _abstraction_ of the problem, so the details are hidden to remove unnecessary complexity while still having all the necessary parts to solve the problem. \n",
    "\n",
    "What we would like is to solve the problem at a higher level of abstraction (i.e., at a higher conceptual level). In that way, we as programmers only need to write a few lines of code to obtain powerful/generic solutions. One standard abstraction tool provided by almost all programming languages is that of _variables_:\n",
    "\n",
    "\n",
    "[![variables](imgs/assignment.png)](02.Variables.ipynb)"
   ]
  },
  {
   "cell_type": "markdown",
   "metadata": {},
   "source": [
    "# Conditionals and Booleans\n",
    "\n",
    "When solving a problem, we almost always need the ability to check conditions and change the behavior of algorithm or program accordingly: _**if**_ the door is closed, open it and pass through; _**otherwise**_, just pass through. \n",
    "\n",
    "Conditional **IF** statements give us this ability and is our next notebook lesson!\n",
    "\n",
    "\n",
    "[![if-then-else](imgs/flowchart-conditional.png)](03.Conditionals.ipynb)"
   ]
  },
  {
   "cell_type": "markdown",
   "metadata": {},
   "source": [
    "# Loops\n",
    "\n",
    "The second control flow mechanism allows us to repeat the same code over and over, until something good happens: _\"while my dog is hungry, good it\"_\n",
    "\n",
    "\n",
    "[![if-then-else](imgs/flowchart-loop.png)](04.Loops.ipynb)"
   ]
  },
  {
   "cell_type": "markdown",
   "metadata": {},
   "source": [
    "# Lists Data Structure\n",
    "\n",
    "We have seen two powerful control flow mechanisms: conditionals and repetitions. Let's move into better storing of data. Lists allows us to store sequences of data in one shot!\n",
    "\n",
    "[![sequence](imgs/fibonacci-sequence.png)](05.Lists.ipynb)"
   ]
  }
 ],
 "metadata": {
  "kernelspec": {
   "display_name": "Python 3",
   "language": "python",
   "name": "python3"
  },
  "language_info": {
   "codemirror_mode": {
    "name": "ipython",
    "version": 3
   },
   "file_extension": ".py",
   "mimetype": "text/x-python",
   "name": "python",
   "nbconvert_exporter": "python",
   "pygments_lexer": "ipython3",
   "version": "3.6.6"
  }
 },
 "nbformat": 4,
 "nbformat_minor": 2
}
