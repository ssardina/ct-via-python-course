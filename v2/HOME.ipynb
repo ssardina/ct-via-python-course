{
 "cells": [
  {
   "cell_type": "markdown",
   "metadata": {},
   "source": [
    "# Computational Thinking via Python Programming - v2\n",
    "## Coding as a Second Language\n",
    "\n",
    "---------------------\n",
    "\n",
    "This content is _currently under development_ by Sebastian Sardina (RMIT University) and Natalie M. Hammond (Bayside P12 College), and is released under the terms of the [Simplified BSD License](LICENSE). Source code in [Github](https://github.com/ssardina/ct-via-python-course). For contact, please email ssardina@gmail.com."
   ]
  },
  {
   "cell_type": "markdown",
   "metadata": {},
   "source": [
    "## Overview\n",
    "\n",
    "There are some great resources online to learn about Computation Thinking, Python, general programming, etc. The problem today is that there is probably _too much_, and thus it appears as an ocean of information!\n",
    "\n",
    "So, here we present a set of gentle _interactive tutorials_ to introduce you to the wonderful universe of computational thinking, algorithms, and programming! \n",
    "\n",
    "The approach taken in this \"course\" is to **learn computational thinking** by coding in the **Python** programming language, a very light, close to English, programming language. While computational/algorithmic thinking does not require coding itself (it can even be done without a computer!), **coding is fun!** And the more fun we have, the more time we invest, the more we learn, easy...\n",
    "\n",
    "Before we start, you may want to check [some intro slides about Computational Thinking](https://docs.google.com/presentation/d/1MzSE8OkerVcT3slbuZhuRDPHc_nIEwcFEyS8_JH5TBg/edit#slide=id.g49563efb7a_0_0) to learn what is all this about..."
   ]
  },
  {
   "cell_type": "markdown",
   "metadata": {},
   "source": [
    "### Jupyter Notebooks\n",
    "\n",
    "To run the course, we will use [Jupyter notebooks](http://jupyter.org/). A Jupyter Notebook is document that contains **narrative text** together with **live code** that you can execute (and modify!). \n",
    "\n",
    "A document is build of a **sequence of cells**, some are just _text cells_ (just to read) and some are _interactive code cells_. You can modify those code cells and execute them, as many times as oyu want. The result of an execution will be displayed just after the cell.\n",
    "\n",
    "Don't worry, we will explain how Jupyter notebooks are used in the first notebook using it.\n",
    "\n",
    "If you are here, it is because you have already installed the Jupyter framework; but here are [some instructions on that](https://docs.google.com/document/d/1PRGILXLZCuNs2e5Qa8iL3GMNRyB9VM35Ih7WjEQCj6k/edit#). :-)\n"
   ]
  },
  {
   "cell_type": "markdown",
   "metadata": {},
   "source": [
    "## 1. Go unplugged! Coding without a computer\n",
    "\n",
    "Unplugged activities allow the exploration of the key concepts of Computational Thinking _without any computer or electricity!_ They are a great and fun way to introduce the main ingredients, like variables, conditionals, repetitions, abstraction, decomposition, etc.\n",
    "\n",
    "So, before we start, you may want to check [some intro slides about Computational Thinking](https://docs.google.com/presentation/d/1MzSE8OkerVcT3slbuZhuRDPHc_nIEwcFEyS8_JH5TBg/edit?usp=drive_web&ouid=115722449793726122888), and carry out the activities there.\n",
    "\n",
    "Then, if you are up for some cool unplugged activitites here:\n",
    "\n",
    "[![unplugged](../imgs/blur-blurred-background-close-up-845239.resized.jpg)](https://docs.google.com/presentation/d/1Sijkaf5adlC-MAr8OBUka5FtzAwpWjm969S-RpY1PXw/edit)"
   ]
  },
  {
   "cell_type": "markdown",
   "metadata": {},
   "source": [
    "## 2. Make Lightbot turn on the lights!\n",
    "\n",
    "An **algorithm** is a **_precisely defined process_** for **_solving a problem_**:\n",
    "\n",
    "* It provides a _sequence of steps_ for accomplishing a task.\n",
    "* An unambiguous specification of _how to solve a class of problems_.\n",
    "\n",
    "One important area of study is the development of algorithms and programs to \"move around\" intelligently in order to accomplish a task. For example, a GPS navigational algorithm is meant to produce (good) paths to move from an initial location to a given desired destination.\n",
    "\n",
    "In this activity we will build algorithms to _make our Lighbot robot navigate a maze and turn on lights!_ You need to arrange the commands that Lightbot robot must do (walk, turn, jump, switch on a light and so on) so that each maze is solved! \n",
    "\n",
    "So, go and [help Lightbot](http://lightbot.com/flash.html) turn on the lights in the mazes by completing the **BASIC level** first!\n",
    "\n",
    "[![lightbot](../imgs/lightbot.png)](http://lightbot.com/flash.html)\n"
   ]
  },
  {
   "cell_type": "markdown",
   "metadata": {},
   "source": [
    "## 3. Our first program to talk to the computer: \"Hello World!\""
   ]
  },
  {
   "cell_type": "markdown",
   "metadata": {},
   "source": [
    "A [\"Hello, World!\"](https://en.wikipedia.org/wiki/%22Hello,_World!%22_program) program is a computer program that outputs or displays the message _\"Hello, World!\"_. \n",
    "\n",
    "Because it is very simple in most programming languages, it is often used to illustrate the basic syntax of a programming language and is often the first program people write.\n",
    "\n",
    "One of the most important things to learn is how to report or print information, because that is one commmon way you would see the result of your algorithms. \n",
    "\n",
    "So, let's write our first _Hello World_ program and learn how to print and ask (to the user) some information in Python (click the image to go to the notebook): \n",
    "\n",
    "[![hello world](../imgs/hello_world.jpg)](01.HelloWorld.ipynb)"
   ]
  },
  {
   "cell_type": "markdown",
   "metadata": {},
   "source": [
    "--------------------------\n",
    "# THE END\n",
    "<img src=\"../imgs/sign-fin.png\" width=\"400\">"
   ]
  },
  {
   "cell_type": "markdown",
   "metadata": {},
   "source": [
    "### Want to learn more algorithmic thinking via Python?\n",
    "\n",
    "\n",
    "* [Python Tutorial](https://www.tutorialspoint.com/python/index.htm) at Tutorial Points. Reference guide: short, coincise, to the point.\n",
    "* [Interactive Python tutorial](https://www.learnpython.org/) at LearnPython.org.\n",
    "* [Python Tutorial](https://www.w3schools.com/python/python_intro.asp) from w3schools. Tutorial around examples.\n",
    "* [Python Exercises](https://www.w3resource.com/python-exercises/) at w3resources.\n",
    "* [Python Tutorial](https://www.w3resource.com/python/python-tutorial.php) at w3resources.\n",
    "\n",
    "----------------"
   ]
  },
  {
   "cell_type": "markdown",
   "metadata": {},
   "source": [
    "---------------\n",
    "\n",
    "## LICENSE\n",
    "\n",
    "This course is released under the terms of the Simplified BSD License. See [LICENSE](LICENSE) file.\n",
    "\n",
    "See [Images](Images.ipynb) for a list of photos and cliparts used, their origin, and (open free) licenses."
   ]
  }
 ],
 "metadata": {
  "kernelspec": {
   "display_name": "Python 3",
   "language": "python",
   "name": "python3"
  },
  "language_info": {
   "codemirror_mode": {
    "name": "ipython",
    "version": 3
   },
   "file_extension": ".py",
   "mimetype": "text/x-python",
   "name": "python",
   "nbconvert_exporter": "python",
   "pygments_lexer": "ipython3",
   "version": "3.6.7"
  }
 },
 "nbformat": 4,
 "nbformat_minor": 2
}
