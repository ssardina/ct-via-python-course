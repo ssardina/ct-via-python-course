{
 "cells": [
  {
   "cell_type": "markdown",
   "metadata": {},
   "source": [
    "# Computational Thinking via Python Programming - v2\n",
    "## Coding as a Second Language\n",
    "\n",
    "---------------------\n",
    "\n",
    "This content is _currently under development_ by Sebastian Sardina (RMIT University) and Natalie M. Hammond (Bayside P12 College), and is released under the terms of the [Simplified BSD License](LICENSE). Source code in [Github](https://github.com/ssardina/ct-via-python-course). For contact, please email ssardina@gmail.com."
   ]
  },
  {
   "cell_type": "markdown",
   "metadata": {},
   "source": [
    "## Overview\n",
    "\n",
    "This is a set of _interactive tutorials_ to introduce you to the wonderful universe of computational thinking, algorithms, and programming! \n",
    "\n",
    "1. We will start with some unplugged activities, where one can engange into computational thinking without computers!\n",
    "1. Then, we will build graphical algorithms to control a little robot who needs to turn on lights. With this you are already solving problems computationally!\n",
    "1. After that, we will write or first program, the \"Hello World!\" program!\n",
    "1. Knowing how to print stuff, we are ready to learn the first abstraction mechanism in computational thinking: _variables_ as a way to store data.\n",
    "1. The next two notebooks study the two main mechanism to control the flow of a program: _conditionals_ and _repetitions_\n",
    "1. The next step is about the most basic, and still incredibely useful, data structure: _lists_.\n",
    "\n",
    "The approach taken in this \"course\" is to learn computational thinking and problem solving by coding in Python, a very light, close to English, programming language. While computational/algorithmic thinking does not require coding itself (it can even be done without a computer!), coding is fun! And the more fun we have, the more time we invest, the more we learn.\n",
    "\n",
    "Before we start, you may want to check [some intro slides about Computational Thinking](https://docs.google.com/presentation/d/19mLs-V3M3deozhNMw9YX9gKIxUaj2Reifv_DAIilmWA/edit?usp=sharing), and carry out the activities there.\n",
    "\n",
    "\n",
    "### Jupyter Notebooks\n",
    "\n",
    "To run the course, we will use [Jupyter notebooks](http://jupyter.org/). A Jupyter Notebook is document that contains live code, equations, visualizations and narrative text. A document is build of sequential cells, some are just text cells and some are interactive code cells. You can modify those cells and execute them. The result of an execution will be displayed just after the cell.\n",
    "\n",
    "We will explain how Jupyter notebooks are used in the first notebook using it.\n",
    "\n",
    "\n",
    "### Reference links\n",
    "\n",
    "There are some great resources online, to learn about Computation Thinking, Python, general programming, etc. The problem today is that there is probably _too much_, and thus it appears as an ocean of information!\n",
    "\n",
    "We list here some links that we believe are useful and from where we have shamelessly borrowed some ideas here and there, and added links to them in our notebooks. \n",
    "\n",
    "#### Python Resources\n",
    "\n",
    "* [Python Tutorial](https://www.tutorialspoint.com/python/index.htm) at Tutorial Points. Reference guide: short, coincise, to the point.\n",
    "* [Interactive Python tutorial](https://www.learnpython.org/) at LearnPython.org.\n",
    "* [Python Tutorial](https://www.w3schools.com/python/python_intro.asp) from w3schools. Tutorial around examples.\n",
    "* [Python Exercises](https://www.w3resource.com/python-exercises/) at w3resources.\n",
    "* [Python Tutorial](https://www.w3resource.com/python/python-tutorial.php) at w3resources.\n",
    "\n",
    "\n",
    "#### Unplugged Resources\n",
    "\n",
    "* [CS Unplugged](https://csunplugged.org/en/): fantastic place to get lots of unplugged ideas covering almost all aspects of algoritmic thinking, computer science, and programming.\n",
    "\n",
    "\n",
    "----------------"
   ]
  },
  {
   "cell_type": "markdown",
   "metadata": {},
   "source": [
    "## 0. Go unplugged! Coding without a computer\n",
    "\n",
    "Unplugged activities allow the exploration of the key concepts of Computational Thinking without any computer or electricity! They are a great and fun way to introduce the main ingredients, like variables, conditionals, repetitions, abstraction, decomposition, etc.\n",
    "\n",
    "So, before we start, you may want to check [some intro slides about Computational Thinking](https://docs.google.com/presentation/d/19mLs-V3M3deozhNMw9YX9gKIxUaj2Reifv_DAIilmWA/edit?usp=sharing), and carry out the activities there.\n",
    "\n",
    "Then, if you are up for some unplugged activitites, here you have some:\n",
    "\n",
    "[![unplugged](../imgs/blur-blurred-background-close-up-845239.resized.jpg)](00.Unplugged.ipynb)"
   ]
  },
  {
   "cell_type": "markdown",
   "metadata": {},
   "source": [
    "## 1. Make Lightbot turn on the lights!\n",
    "\n",
    "An **algorithm** is a **_precisely defined process_** for **_solving a problem_**:\n",
    "\n",
    "* It provides a _sequence of steps_ for accomplishing a task.\n",
    "* An unambiguous specification of _how to solve a class of problems_.\n",
    "\n",
    "One important area of study is the development of algorithms and programs to \"move around\" intelligently in order to accomplish a task. For example, a GPS navigational algorithm is meant to produce (good) paths to move from an initial location to a given desired destination.\n",
    "\n",
    "In this activity we will build algorithms to _make our Lighbot robot navigate a maze and turn on lights!_ You need to arrange the commands that Lightbot robot must do (walk, turn, jump, switch on a light and so on) so that each maze is solved! \n",
    "\n",
    "So, go and [help Lightbot](http://lightbot.com/flash.html) turn on the lights in the mazes by completing the **BASIC level** first!\n",
    "\n",
    "[![lightbot](../imgs/lightbot.png)](http://lightbot.com/flash.html)\n"
   ]
  },
  {
   "cell_type": "markdown",
   "metadata": {},
   "source": [
    "## 2. Our first program: \"Hello World!\""
   ]
  },
  {
   "cell_type": "markdown",
   "metadata": {},
   "source": [
    "A [\"Hello, World!\"](https://en.wikipedia.org/wiki/%22Hello,_World!%22_program) program is a computer program that outputs or displays the message _\"Hello, World!\"_. \n",
    "\n",
    "Because it is very simple in most programming languages, it is often used to illustrate the basic syntax of a programming language and is often the first program people write.\n",
    "\n",
    "One of the most important things to learn is how to report or print information, because that is one commmon way you would see the result of your algorithms. \n",
    "\n",
    "So, let's write our first _Hello World_ program and learn how to print and ask (to the user) some information in Python (click the image to go to the notebook): \n",
    "\n",
    "[![hello world](../imgs/hello_world.jpg)](01.HelloWorld.ipynb)"
   ]
  },
  {
   "cell_type": "markdown",
   "metadata": {},
   "source": [
    "## 3. Abstraction via Variables\n",
    "\n",
    "So far we have seen some type of data (strings, integers, floating numbers), how to print them, and how to do some basic calculations.\n",
    "\n",
    "A key process in building good algorithms is to perform the right _abstraction_ of the problem, so the details are hidden to remove unnecessary complexity while still having all the necessary parts to solve the problem. \n",
    "\n",
    "What we would like is to solve the problem at a higher level of abstraction (i.e., at a higher conceptual level). In that way, we as programmers only need to write a few lines of code to obtain powerful/generic solutions. One standard abstraction tool provided by almost all programming languages is that of _variables_ (click the image to go to the notebook):\n",
    "\n",
    "\n",
    "[![variables](imgs/identifier.png)](02.Variables.ipynb)"
   ]
  },
  {
   "cell_type": "markdown",
   "metadata": {},
   "source": [
    "## 4. Conditionals\n",
    "\n",
    "When solving a problem, we almost always need the ability to check conditions and change the behavior of algorithm or program accordingly: _**if**_ the door is closed, open it and pass through; _**otherwise**_, just pass through. \n",
    "\n",
    "Conditional **IF** statements give us this ability and is our next notebook lesson! Click on the following image:\n",
    "\n",
    "\n",
    "[![if-then-else](imgs/tikz-flowchart-if-then-else.resized.png)](03.Conditionals.ipynb)"
   ]
  },
  {
   "cell_type": "markdown",
   "metadata": {},
   "source": [
    "## 5. Repetitions\n",
    "\n",
    "The second control flow mechanism allows us to repeat the same code over and over, until something good happens: _\"while my dog is hungry, good it\"_\n",
    "\n",
    "\n",
    "[![if-then-else](imgs/tikz-flowchart-while-loop.resized.png)](04.Loops.ipynb)"
   ]
  },
  {
   "cell_type": "markdown",
   "metadata": {},
   "source": [
    "## 6. Lists: The first data structure\n",
    "\n",
    "We have seen two powerful control flow mechanisms: conditionals and repetitions. Let's move into better storing of data. Lists allows us to store sequences of data in one shot!\n",
    "\n",
    "[![sequence](imgs/dna-296744_640.png)](05.Lists.ipynb)"
   ]
  },
  {
   "cell_type": "markdown",
   "metadata": {},
   "source": [
    "--------------------------\n",
    "# THE END\n",
    "<img src=\"imgs/sign-fin.png\" width=\"400\">"
   ]
  },
  {
   "cell_type": "markdown",
   "metadata": {},
   "source": [
    "---------------\n",
    "\n",
    "## LICENSE\n",
    "\n",
    "This course is released under the terms of the Simplified BSD License. See [LICENSE](LICENSE) file.\n",
    "\n",
    "See [Images](Images.ipynb) for a list of photos and cliparts used, their origin, and (open free) licenses."
   ]
  }
 ],
 "metadata": {
  "kernelspec": {
   "display_name": "Python 3",
   "language": "python",
   "name": "python3"
  },
  "language_info": {
   "codemirror_mode": {
    "name": "ipython",
    "version": 3
   },
   "file_extension": ".py",
   "mimetype": "text/x-python",
   "name": "python",
   "nbconvert_exporter": "python",
   "pygments_lexer": "ipython3",
   "version": "3.6.7"
  }
 },
 "nbformat": 4,
 "nbformat_minor": 2
}
