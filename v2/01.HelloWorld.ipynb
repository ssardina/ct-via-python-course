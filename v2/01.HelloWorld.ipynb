{
 "cells": [
  {
   "cell_type": "markdown",
   "metadata": {},
   "source": [
    "<font size=\"6\" color=\"#0047b2\"  face=\"verdana\"> <B>Notebook 01: \"Hello world\" --- Talking to your Computer</B></font>\n",
    "\n",
    "--------------------------------\n",
    "\n",
    "\n",
    "<font size=\"6\" color=\"#b21200\"  face=\"verdana\"> <B>Using a Jupyter Notebook</B></font>\n",
    "\n",
    "To run the course, we will use [Jupyter notebooks](http://jupyter.org/). A Jupyter Notebook is document built of sequential **cells**, some cells cells contain **text** and some contain **code**. The interesting thing is that you can **modify code cells and then execute them!** The result of an execution will be displayed just after the cell.\n",
    "\n",
    "In this notebook, you will learnt to use Jupyter notebooks and a bit of initial coding!\n",
    "\n",
    "## GOOD LUCK & ENJOY!\n",
    "\n",
    "[![hello world](../imgs/hello_world.resized.jpg)](01.HelloWorld.ipynb)\n",
    "\n",
    "--------------------------"
   ]
  },
  {
   "cell_type": "markdown",
   "metadata": {},
   "source": [
    "<font size=\"6\" color=\"#b21200\"  face=\"verdana\"> <B>Hello World</B></font>\n",
    "\n",
    "A [_**Hello, World!**_](https://en.wikipedia.org/wiki/%22Hello,_World!%22_program) program is a computer program that outputs or displays the message _\"Hello, World!\"_.  Because it is very simple in most programming languages, it is often the first program people write. Here is the famous _Hello, World!_ program in Python:"
   ]
  },
  {
   "cell_type": "code",
   "execution_count": 1,
   "metadata": {
    "scrolled": false
   },
   "outputs": [
    {
     "name": "stdout",
     "output_type": "stream",
     "text": [
      "Hello, World!\n"
     ]
    }
   ],
   "source": [
    "print(\"Hello, World!\")"
   ]
  },
  {
   "cell_type": "markdown",
   "metadata": {},
   "source": [
    "The cell just above in **grey** and labeled \"`In [ ]`\" on the left is an **executable code cell**, and so you can tell the computer to run the program there! To do so, select the grey code cell by clicking on it and then either click the **Run** icon in the toolbar above or press **`Control+Enter`**.\n",
    "\n",
    "After running, you should:\n",
    "\n",
    "1. See the output \"`Hello, World`\" printed just after the cell.\n",
    "2. See the label changed to `In [1]`, stating that the cell was executed and it was the first cell executed. If you run it again, you will see it changes to `In [2]` and so on.... "
   ]
  },
  {
   "cell_type": "markdown",
   "metadata": {},
   "source": [
    "## Strings\n",
    "\n",
    "See the above text _Hello, World!_ is quoted between \" ... \"? These quoted bits are called **strings** (string of characters). Strings is a data type used to represent _any text data_ in a program.\n",
    "\n",
    "In Python, strings can be quoted with double quotes (`\"`) or with single quotes (`'`). So, we could have written instead the following equivalent program:"
   ]
  },
  {
   "cell_type": "code",
   "execution_count": 12,
   "metadata": {},
   "outputs": [
    {
     "name": "stdout",
     "output_type": "stream",
     "text": [
      "Hello, World!\n"
     ]
    }
   ],
   "source": [
    "print('Hello, World!')"
   ]
  },
  {
   "cell_type": "markdown",
   "metadata": {},
   "source": [
    "### _Well done! You have run your first Python program!! Hurray!!_"
   ]
  },
  {
   "cell_type": "markdown",
   "metadata": {},
   "source": [
    "##  Problem 1 \n",
    "\n",
    "Let's write our first program! Modify the code cell below so that it also prints _\"Goodbye, World!\"_ just after _\"Hello, World!\"_. Your program should produce this output:\n",
    "\n",
    "```\n",
    "Hello, World!\n",
    "Goodbye, World!\n",
    "```\n",
    "\n",
    "To edit a cell, click on the grey box and you will enter into \"edit\" mode and the cell will have a green line on the left. Once you are finished, remember you execute the piece of code by pressing **`Control+Enter`** in the code cell or clicking the **Run** button in the toolbar. \n",
    "\n",
    "_... and what are those lines starting with a tag `#`?_ That tag tells the computer that the line is just a \"comment\" (for humans) and it should just be ignored by the computer."
   ]
  },
  {
   "cell_type": "code",
   "execution_count": 11,
   "metadata": {},
   "outputs": [
    {
     "name": "stdout",
     "output_type": "stream",
     "text": [
      "Hello, World!\n"
     ]
    }
   ],
   "source": [
    "# This will print \"Hello, World!\" Do not modify! (this line is a comment and will not be executed)\n",
    "print(\"Hello, World!\")\n",
    "\n",
    "# Write your code BELOW THIS LINE to print \"Goodbye, World!\"\n",
    "\n"
   ]
  },
  {
   "cell_type": "markdown",
   "metadata": {},
   "source": [
    "_Did you get what you wanted?_ If not, no problem, you can always come back to the code cell and edit it again, fix it, and run the program again!"
   ]
  },
  {
   "cell_type": "markdown",
   "metadata": {},
   "source": [
    "## Syntax Highlighting\n",
    "\n",
    "You may have seen that words and symbols above are in different colours. \n",
    "\n",
    "As when speaking in English or Italian, we follow certain rules, called the _grammar_ or _syntax_ of the language. Programming languages, like Python, also have a syntax/grammar that we must follow for the computer to understand.\n",
    "\n",
    "Programming environments like Jupyter use different coloursto help you visualize different part of a program; for example:\n",
    "\n",
    "* Known commands like `print` are in green.\n",
    "* Comments that are to be ignored are in darker green and in italics.\n",
    "* Text quoted between \" ... \", called **strings**, are shown in red."
   ]
  },
  {
   "cell_type": "markdown",
   "metadata": {},
   "source": [
    "<font size=\"6\" color=\"#b21200\"  face=\"verdana\"> <B>Sorry to bug you... I have a _SyntaxError_</B></font>\n",
    "\n",
    "Sometimes when we program, we make mistakes, sometimes very silly mistakes. When that happens, Python (or whatever programming language you are using) will complain and will give you a message (sometimes a bit cryptic) that something went wrong. \n",
    "\n",
    "[![bug](../imgs/pexels-bug.resized.jpg)](https://en.wikipedia.org/wiki/Software_bug)"
   ]
  },
  {
   "cell_type": "markdown",
   "metadata": {},
   "source": [
    "See the following program that a friend wrote and execute it, by selecting the code cell and pressing **Control+Enter** or clicking **Run** in the toolbar:"
   ]
  },
  {
   "cell_type": "code",
   "execution_count": 11,
   "metadata": {},
   "outputs": [
    {
     "ename": "SyntaxError",
     "evalue": "EOL while scanning string literal (<ipython-input-11-ebb9e220c520>, line 2)",
     "output_type": "error",
     "traceback": [
      "\u001b[0;36m  File \u001b[0;32m\"<ipython-input-11-ebb9e220c520>\"\u001b[0;36m, line \u001b[0;32m2\u001b[0m\n\u001b[0;31m    print(\"Goodbye, World!)\u001b[0m\n\u001b[0m                           ^\u001b[0m\n\u001b[0;31mSyntaxError\u001b[0m\u001b[0;31m:\u001b[0m EOL while scanning string literal\n"
     ]
    }
   ],
   "source": [
    "print(\"Hello, World!\")\n",
    "print(\"Goodbye, World!)"
   ]
  },
  {
   "cell_type": "markdown",
   "metadata": {},
   "source": [
    "**Don't panic! Coding mistakes happen all the time and you juts learn to fix them!**\n",
    "\n",
    "Here, Python is telling you that the program has problem with its syntax, that is, its \"form\". That is why it is giving you a **SyntaxError**, together with the line where the error is. Remember that, unlike humans, computers are very strict and unable to just \"guess\" what we are trying to say: they just do not understand the program even if it has a minor typo :-(\n",
    "\n",
    "Syntaxt highlighting is very useful to spot silly mistakes in our program:\n",
    "* If you expect something to be in a color and it is not, there is probably a typo!\n",
    "* If you see some strange coloring with parenthesis, then there is probably too many or two few opening/closing parenthesis. "
   ]
  },
  {
   "cell_type": "markdown",
   "metadata": {},
   "source": [
    "## Problem 2\n",
    "\n",
    "Fix the above program so it can run error-free! Make sure you read it very very carefully to spot the problem, sometimes the error can be just a single typo! Remember colours of syntax highlighting are there for you.\n",
    "\n",
    "![fixit](../imgs/black-and-white-close-up-equipment-210881.resized.jpg)\n"
   ]
  },
  {
   "cell_type": "markdown",
   "metadata": {},
   "source": [
    "## Why errors in programs are called \"bugs\"?\n",
    "\n",
    "An error in a program is often called a **\"bug\"** and the task of finding an error in a program, and removing it, is usually referred to as **\"debugging\"**. \n",
    "\n",
    "Do you know who coined that term and why? Give you a hint: _**was a woman and one of the greatest Computer Scientists ever!**_"
   ]
  },
  {
   "cell_type": "markdown",
   "metadata": {},
   "source": [
    "[![Grace Murray Hopper](../imgs/people/grace-hopper.resized.jpg)](https://en.wikipedia.org/wiki/Grace_Hopper)"
   ]
  },
  {
   "cell_type": "markdown",
   "metadata": {},
   "source": [
    "## Problem 3\n",
    "\n",
    "Write a program that prints _\"Check for moths, ........., check for moths\"_ where _........_ should be replaced by the name of the Computer Scientist who found the first bug ever! \n",
    "\n",
    "To find that our, check the answer in page 12 of this [Computer Science for Fun (cs4fun) issue](https://cs4fndownloads.files.wordpress.com/2016/02/womenarehere.pdf)"
   ]
  },
  {
   "cell_type": "code",
   "execution_count": null,
   "metadata": {},
   "outputs": [],
   "source": [
    "# Write your print statement here\n"
   ]
  },
  {
   "cell_type": "markdown",
   "metadata": {},
   "source": [
    "<font size=\"5\" color=\"#b21200\"  face=\"verdana\"> <B>Storing data in _variables_</B></font>\n"
   ]
  },
  {
   "cell_type": "markdown",
   "metadata": {},
   "source": [
    "You like English so much, that you wrote a program to show that to your teacher, run it!"
   ]
  },
  {
   "cell_type": "code",
   "execution_count": 17,
   "metadata": {},
   "outputs": [
    {
     "name": "stdout",
     "output_type": "stream",
     "text": [
      "I love English!\n",
      "I love English!\n",
      "I love English!\n",
      "I love English!\n",
      "I love English!\n",
      "I love English!\n"
     ]
    }
   ],
   "source": [
    "print(\"I love English!\")\n",
    "print(\"I love English!\")\n",
    "print(\"I love English!\")\n",
    "print(\"I love English!\")\n",
    "print(\"I love English!\")\n",
    "print(\"I love English!\")"
   ]
  },
  {
   "cell_type": "markdown",
   "metadata": {},
   "source": [
    "## Problem 4\n",
    "\n",
    "Gven the incredible success of this program impressing your English teacher, you want now to use it with the Math teacher who introduced you to programming. Modify the program above to instead print _\"I love maths!\"_ six times! Your program should print:\n",
    "\n",
    "```\n",
    "I love Math!\n",
    "I love Math!\n",
    "I love Math!\n",
    "I love Math!\n",
    "I love Math!\n",
    "I love Math!\n",
    "```\n",
    "\n",
    "![love-math](../imgs/numbers-heart.resized.png)"
   ]
  },
  {
   "cell_type": "markdown",
   "metadata": {},
   "source": [
    "What do you think? _What if you have said it 100 times?_ Sure there must be an easier and quicker way to adapt your program! \n",
    "\n",
    "Here is where **Variables** come to the rescue! \n",
    "\n",
    "## Variables as mailboxes\n",
    "\n",
    "Variables are one of the building blocks of programming and they allow a programmer immense freedom and allow for dynamic programs.\n",
    "\n",
    "Think about a [variable as a personal mailbox](https://startcodingblog.wordpress.com/2015/10/09/variables-the-mailbox-metaphor/): you can put something inside the mailbox and check the contents later. The memory of a computer is like a collection of million of mailboxes. A mailbox usually has a number with which it is identified. Python (and all programming languages), allows us to give a _name_ to a variable, so that we can easily remember it.\n",
    "\n",
    "Two things can be done with a variable: \n",
    "\n",
    "1. We can **put a new data value** into it (which replaces the old data stored).\n",
    "2. We can **retrive the value** of the data currently in the variable.\n",
    "\n",
    "To put something into a variable, we us the **assignment command** in Python using the operator `=`, which sets the value of a variable (like putting and envelope in the mailbox). Any other use of the variable name represents the **value stored in the variable**. \n",
    "\n",
    "So, we can write our program above as follows:"
   ]
  },
  {
   "cell_type": "code",
   "execution_count": 21,
   "metadata": {},
   "outputs": [
    {
     "name": "stdout",
     "output_type": "stream",
     "text": [
      "I love English!\n",
      "I love English!\n",
      "I love English!\n",
      "I love English!\n",
      "I love English!\n",
      "I love English!\n"
     ]
    }
   ],
   "source": [
    "msg = \"I love English!\"\n",
    "print(msg)\n",
    "print(msg)\n",
    "print(msg)\n",
    "print(msg)\n",
    "print(msg)\n",
    "print(msg)"
   ]
  },
  {
   "cell_type": "markdown",
   "metadata": {},
   "source": [
    "The program above has one variable with name `msg` (abbreviation for \"message\"). In the first line, the variable is \"assigned\" the string value `\"I love English!\"`. In the remaining lines, the content of the variable is retrived and printed! Cool eh? ;-)"
   ]
  },
  {
   "cell_type": "markdown",
   "metadata": {},
   "source": [
    "## Problem 5\n",
    "\n",
    "Change the above program to impress your Math teacher so that your program will print \"I love Maths!\" not 6, but 10 times now!"
   ]
  },
  {
   "cell_type": "markdown",
   "metadata": {},
   "source": [
    "<font size=\"6\" color=\"#b21200\"  face=\"verdana\"> <B>Printing many things at once</B></font>\n",
    "\n",
    "You can make the `print` statement print many things at the same time, all separated by spaces:\n",
    "\n"
   ]
  },
  {
   "cell_type": "code",
   "execution_count": 25,
   "metadata": {},
   "outputs": [
    {
     "name": "stdout",
     "output_type": "stream",
     "text": [
      "My name is Ada Lovelace\n"
     ]
    }
   ],
   "source": [
    "print('My name is', 'Ada', 'Lovelace')"
   ]
  },
  {
   "cell_type": "markdown",
   "metadata": {},
   "source": [
    "See how, this time, we used single quotes (`'`) above to represent strings.\n",
    "\n",
    "So what about if we store the first and last name in two variables?"
   ]
  },
  {
   "cell_type": "code",
   "execution_count": 26,
   "metadata": {},
   "outputs": [
    {
     "name": "stdout",
     "output_type": "stream",
     "text": [
      "My name is Ada Lovelace\n"
     ]
    }
   ],
   "source": [
    "first_name = 'Ada'\n",
    "last_name = 'Lovelace'\n",
    "print('My name is', first_name, last_name)"
   ]
  },
  {
   "cell_type": "markdown",
   "metadata": {},
   "source": [
    "## Problem 6\n",
    "\n",
    "Complete the code below so that we also use  variable named `intro` for the introduction text. If you run the program as it is now you will get a `NameError: name 'intro' is not defined` error message, because Python cannot find the variable \"mailbox\" named `intro`, as it was never assigned any value yet!"
   ]
  },
  {
   "cell_type": "code",
   "execution_count": 27,
   "metadata": {},
   "outputs": [
    {
     "ename": "NameError",
     "evalue": "name 'intro' is not defined",
     "output_type": "error",
     "traceback": [
      "\u001b[0;31m---------------------------------------------------------------------------\u001b[0m",
      "\u001b[0;31mNameError\u001b[0m                                 Traceback (most recent call last)",
      "\u001b[0;32m<ipython-input-27-3260e8d288f8>\u001b[0m in \u001b[0;36m<module>\u001b[0;34m\u001b[0m\n\u001b[1;32m      2\u001b[0m \u001b[0mfirst_name\u001b[0m \u001b[0;34m=\u001b[0m \u001b[0;34m'Ada'\u001b[0m\u001b[0;34m\u001b[0m\u001b[0;34m\u001b[0m\u001b[0m\n\u001b[1;32m      3\u001b[0m \u001b[0mlast_name\u001b[0m \u001b[0;34m=\u001b[0m \u001b[0;34m'Lovelace'\u001b[0m\u001b[0;34m\u001b[0m\u001b[0;34m\u001b[0m\u001b[0m\n\u001b[0;32m----> 4\u001b[0;31m \u001b[0mprint\u001b[0m\u001b[0;34m(\u001b[0m\u001b[0mintro\u001b[0m\u001b[0;34m,\u001b[0m \u001b[0mfirst_name\u001b[0m\u001b[0;34m,\u001b[0m \u001b[0mlast_name\u001b[0m\u001b[0;34m)\u001b[0m\u001b[0;34m\u001b[0m\u001b[0;34m\u001b[0m\u001b[0m\n\u001b[0m",
      "\u001b[0;31mNameError\u001b[0m: name 'intro' is not defined"
     ]
    }
   ],
   "source": [
    "\n",
    "first_name = 'Ada'\n",
    "last_name = 'Lovelace'\n",
    "print(intro, first_name, last_name)"
   ]
  },
  {
   "cell_type": "markdown",
   "metadata": {},
   "source": [
    "<font size=\"6\" color=\"#b21200\"  face=\"verdana\"> <B>Asking the user</B></font>\n",
    "\n",
    "So far all the value of the variables were already written in our programs. But what if the data must be given by the user?\n",
    "\n",
    "![ask](../imgs/ask-2341784_640.resized.jpg)\n",
    "\n",
    "When you run the next program, you will see that that the label is changed to \"`In [*]`\" (the `*` here means \"code running\") and the the cursor is sitting just after _\"What is your name?\"_, waiting for your input. Enter your name and press Enter:"
   ]
  },
  {
   "cell_type": "code",
   "execution_count": 35,
   "metadata": {},
   "outputs": [
    {
     "name": "stdout",
     "output_type": "stream",
     "text": [
      "What is your name? s\n",
      "s\n"
     ]
    }
   ],
   "source": [
    "name = input('What is your name? ')     # ask the user for a string\n",
    "print(name)         # now print it!"
   ]
  },
  {
   "cell_type": "markdown",
   "metadata": {},
   "source": [
    "Look at the interesting first statement in the program. The `input()` is a _function statement_ similar to `print()`, but instead of printing, it asks the user for a string data (via the keyboard). Then, the string typed is assiged to variable `name` as you have seen before via the usual assignment operator `=`."
   ]
  },
  {
   "cell_type": "markdown",
   "metadata": {},
   "source": [
    "## Problem 7\n",
    "\n",
    "As the final problem of this notebook, write a program that ask the user his/her first name first and then his/her last name, and finally greets him/her by saying: _\"Hi, Ada Lovelace!\"_ (or whatever first and last name is entered by the user, of course).\n"
   ]
  },
  {
   "cell_type": "code",
   "execution_count": 33,
   "metadata": {},
   "outputs": [],
   "source": [
    "## Here write your program; you will need at least two variables\n",
    "\n",
    "\n",
    "\n",
    "\n",
    "\n"
   ]
  },
  {
   "cell_type": "markdown",
   "metadata": {},
   "source": [
    "<font size=\"6\" color=\"#b21200\"  face=\"verdana\"> <B>All done!</B></font>\n",
    "\n",
    "**CONGRATULATIONS ON SOLVING THE FIRST CODING NOTEBOOK!**\n",
    "\n",
    "We have done what every programmer should do first: the _Hello, World!_ program! ;-)\n",
    "\n",
    "However, you have also learnt many other things on the way.... Can you report 4 things you learnt by completeing this program?\n"
   ]
  },
  {
   "cell_type": "code",
   "execution_count": null,
   "metadata": {},
   "outputs": [],
   "source": [
    "# Recap of what I learnt in this module\n",
    "print(\"1. What the 'Hello World' program is.\")\n",
    "\n",
    "\n",
    "\n",
    "\n",
    "\n"
   ]
  },
  {
   "cell_type": "markdown",
   "metadata": {},
   "source": [
    "![completed](../imgs/completed.jpg)"
   ]
  },
  {
   "cell_type": "markdown",
   "metadata": {},
   "source": [
    "---------------------------\n",
    "[HOME](HOME.ipynb) | Next: [Variables](02.Variables.ipynb)"
   ]
  }
 ],
 "metadata": {
  "kernelspec": {
   "display_name": "Python 3",
   "language": "python",
   "name": "python3"
  },
  "language_info": {
   "codemirror_mode": {
    "name": "ipython",
    "version": 3
   },
   "file_extension": ".py",
   "mimetype": "text/x-python",
   "name": "python",
   "nbconvert_exporter": "python",
   "pygments_lexer": "ipython3",
   "version": "3.6.7"
  }
 },
 "nbformat": 4,
 "nbformat_minor": 2
}
