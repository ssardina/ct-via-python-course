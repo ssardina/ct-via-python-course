{
 "cells": [
  {
   "cell_type": "markdown",
   "metadata": {},
   "source": [
    "## Notebook 02E: Abstraction via Variables (Exercises)\n",
    "------------------------------------\n",
    "\n"
   ]
  },
  {
   "cell_type": "markdown",
   "metadata": {},
   "source": [
    "<font size=\"5\" color=\"#b21200\"  face=\"verdana\"> <B>1. Calculating your taxes</B></font>\n",
    "\n",
    "![taxes](imgs/accounting-blur-business-1028726.resized.jpg)"
   ]
  },
  {
   "cell_type": "markdown",
   "metadata": {},
   "source": [
    "## Exercise\n",
    "\n",
    "You have two jobs, in which you have earnt \\\\$12,734 and \\\\$87,621 respectively over the year. You need to pay 26.5\\% tax after the first \\\\$18,000 dollars earnt. How much tax do you have to pay?"
   ]
  },
  {
   "cell_type": "code",
   "execution_count": 43,
   "metadata": {},
   "outputs": [],
   "source": [
    "# Produce one statement to show how much tax you have to pay (remember, press Shift+Enter to see the result)\n"
   ]
  },
  {
   "cell_type": "markdown",
   "metadata": {},
   "source": [
    "## Exercise\n",
    "\n",
    "You have two jobs, in which you have earnt \\\\$12,734 and \\\\$87,621 respectively over the year. You need to pay 25\\% tax after the first \\\\$18,000 dollars earnt. How much tax do you have to pay? A friend started the program, but he got very tired and got asleep, even leaving a broken code... Help your friend complete it before she wakes up!!"
   ]
  },
  {
   "cell_type": "code",
   "execution_count": 49,
   "metadata": {},
   "outputs": [
    {
     "ename": "NameError",
     "evalue": "name 'job2_earning' is not defined",
     "output_type": "error",
     "traceback": [
      "\u001b[0;31m---------------------------------------------------------------------------\u001b[0m",
      "\u001b[0;31mNameError\u001b[0m                                 Traceback (most recent call last)",
      "\u001b[0;32m<ipython-input-49-cffb8c096601>\u001b[0m in \u001b[0;36m<module>\u001b[0;34m\u001b[0m\n\u001b[1;32m      4\u001b[0m \u001b[0;34m\u001b[0m\u001b[0m\n\u001b[1;32m      5\u001b[0m \u001b[0;31m# Here I will calculate how much taxes I need to pay\u001b[0m\u001b[0;34m\u001b[0m\u001b[0;34m\u001b[0m\u001b[0;34m\u001b[0m\u001b[0m\n\u001b[0;32m----> 6\u001b[0;31m \u001b[0mtaxes\u001b[0m \u001b[0;34m=\u001b[0m \u001b[0;34m(\u001b[0m\u001b[0mjob1_earning\u001b[0m \u001b[0;34m+\u001b[0m \u001b[0mjob2_earning\u001b[0m\u001b[0;34m)\u001b[0m\u001b[0;34m\u001b[0m\u001b[0;34m\u001b[0m\u001b[0m\n\u001b[0m\u001b[1;32m      7\u001b[0m \u001b[0;34m\u001b[0m\u001b[0m\n\u001b[1;32m      8\u001b[0m \u001b[0;31m# Report taxes to be paid\u001b[0m\u001b[0;34m\u001b[0m\u001b[0;34m\u001b[0m\u001b[0;34m\u001b[0m\u001b[0m\n",
      "\u001b[0;31mNameError\u001b[0m: name 'job2_earning' is not defined"
     ]
    }
   ],
   "source": [
    "job1_earning = 12734\n",
    "\n",
    "tax_rate = 25\n",
    "\n",
    "# Here I will calculate how much taxes I need to pay\n",
    "taxes = (job1_earning + job2_earning) \n",
    "\n",
    "# Report taxes to be paid\n",
    "print(\"I need to pay: \" + str(taxes))"
   ]
  },
  {
   "cell_type": "markdown",
   "metadata": {},
   "source": [
    "<font size=\"5\" color=\"#b21200\"  face=\"verdana\"> <B>2. Calculating your investments</B></font>\n",
    "\n",
    "![invest](imgs/accounting-alone-application-938965.resized.jpg)"
   ]
  },
  {
   "cell_type": "markdown",
   "metadata": {},
   "source": [
    "## Exercise\n",
    "\n",
    "Suppose you have $95, which you invest at a rate of 15% per year. After one year, you have 95\\*1.15 = 110 dollars, and after two years you have a total of 95\\*1.15\\*1.15 = 121. Add one line of code in line 6 to _calculate_ and report how much money you end up with after 9 years."
   ]
  },
  {
   "cell_type": "code",
   "execution_count": 46,
   "metadata": {},
   "outputs": [
    {
     "name": "stdout",
     "output_type": "stream",
     "text": [
      "Total $ after 1 year: 109.24999999999999\n",
      "Total $ after 2 year: 125.63749999999997\n"
     ]
    }
   ],
   "source": [
    "# Money after 1 and 2 years of investment\n",
    "print(\"Total $ after 1 year:\", 95 * 1.15)\n",
    "print(\"Total $ after 2 year:\", 95 * 1.15 * 1.15)\n",
    "\n",
    "# ----------- YOUR CODES BELOW THIS LINE\n",
    "\n",
    "\n",
    "# ----------- YOUR CODES ABOVE THIS LINE"
   ]
  },
  {
   "cell_type": "markdown",
   "metadata": {},
   "source": [
    "Add a further line of code (in line 7) to _calculate_ and report the profit made. Did you notice anything strange, anything \"redundant\"?\n",
    "\n",
    "**QUESTION:** What and how many changes would you have to do if you instead have \\\\$105 to invest and for only 5 years?"
   ]
  },
  {
   "cell_type": "markdown",
   "metadata": {},
   "source": [
    "## Exercise\n",
    "\n",
    "Now let's make the initial money available, the rate, and the number of years to invest variables, so that our solution can be changed quickly and free of error.  It may be handy to use exponentiation to calculate the complete rate after all the years.\n",
    "\n",
    "Complete the following code."
   ]
  },
  {
   "cell_type": "code",
   "execution_count": 54,
   "metadata": {},
   "outputs": [
    {
     "ename": "NameError",
     "evalue": "name 'years' is not defined",
     "output_type": "error",
     "traceback": [
      "\u001b[0;31m---------------------------------------------------------------------------\u001b[0m",
      "\u001b[0;31mNameError\u001b[0m                                 Traceback (most recent call last)",
      "\u001b[0;32m<ipython-input-54-3f414f533c52>\u001b[0m in \u001b[0;36m<module>\u001b[0;34m\u001b[0m\n\u001b[1;32m      5\u001b[0m \u001b[0;34m\u001b[0m\u001b[0m\n\u001b[1;32m      6\u001b[0m \u001b[0;31m# Now, do the reporting\u001b[0m\u001b[0;34m\u001b[0m\u001b[0;34m\u001b[0m\u001b[0;34m\u001b[0m\u001b[0m\n\u001b[0;32m----> 7\u001b[0;31m \u001b[0mprint\u001b[0m\u001b[0;34m(\u001b[0m\u001b[0;34m\"EARNINGS AFTER\"\u001b[0m\u001b[0;34m,\u001b[0m \u001b[0myears\u001b[0m\u001b[0;34m,\u001b[0m \u001b[0;34m\"YEARS AT\"\u001b[0m\u001b[0;34m,\u001b[0m \u001b[0mrate\u001b[0m \u001b[0;34m,\u001b[0m \u001b[0;34m\"%:\"\u001b[0m\u001b[0;34m)\u001b[0m\u001b[0;34m\u001b[0m\u001b[0;34m\u001b[0m\u001b[0m\n\u001b[0m\u001b[1;32m      8\u001b[0m \u001b[0mprint\u001b[0m\u001b[0;34m(\u001b[0m\u001b[0;34m\"     TOTAL FUNDS:\"\u001b[0m\u001b[0;34m,\u001b[0m \u001b[0mfinal_funds\u001b[0m\u001b[0;34m)\u001b[0m\u001b[0;34m\u001b[0m\u001b[0;34m\u001b[0m\u001b[0m\n\u001b[1;32m      9\u001b[0m \u001b[0mprint\u001b[0m\u001b[0;34m(\u001b[0m\u001b[0;34m\"     PROFIT MADE:\"\u001b[0m\u001b[0;34m,\u001b[0m \u001b[0mprofit\u001b[0m\u001b[0;34m)\u001b[0m\u001b[0;34m\u001b[0m\u001b[0;34m\u001b[0m\u001b[0m\n",
      "\u001b[0;31mNameError\u001b[0m: name 'years' is not defined"
     ]
    }
   ],
   "source": [
    "rate = 15   # this is just an example, can be changed\n",
    "\n",
    "# Profit made\n",
    "profit = final_funds - initial_funds\n",
    "\n",
    "# Now, do the reporting\n",
    "print(\"EARNINGS AFTER\", years, \"YEARS AT\", rate , \"%:\")\n",
    "print(\"     TOTAL FUNDS:\", final_funds)\n",
    "print(\"     PROFIT MADE:\", profit)"
   ]
  },
  {
   "cell_type": "markdown",
   "metadata": {},
   "source": [
    "<font size=\"5\" color=\"#b21200\"  face=\"verdana\"> <B>Self-assignment and Swapping</B></font>\n",
    "\n",
    "Consider this program:"
   ]
  },
  {
   "cell_type": "markdown",
   "metadata": {},
   "source": [
    "---------------------------\n",
    "![completed](imgs/completed.jpg)"
   ]
  }
 ],
 "metadata": {
  "kernelspec": {
   "display_name": "Python 3",
   "language": "python",
   "name": "python3"
  },
  "language_info": {
   "codemirror_mode": {
    "name": "ipython",
    "version": 3
   },
   "file_extension": ".py",
   "mimetype": "text/x-python",
   "name": "python",
   "nbconvert_exporter": "python",
   "pygments_lexer": "ipython3",
   "version": "3.6.7"
  }
 },
 "nbformat": 4,
 "nbformat_minor": 2
}
