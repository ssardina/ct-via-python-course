{
 "cells": [
  {
   "cell_type": "markdown",
   "metadata": {},
   "source": [
    "## Notebook 02: Abstraction via Variables\n",
    "------------------------------------\n",
    "\n",
    "A variable is a place (like a bucket, box, or mailbox) to store information and give it a name, the \"identifier\" of the variable. In reality, a variable is no more than some location in the memory of a machine, maybe location 128731832. Because a computer will have lots of memory locations, a variable can be identified with a name: its identifier. Using the name of the variable, we can store data in it and \"read\" what is inside.\n",
    "\n",
    "[![variables](imgs/identifier.png)](02.Variables.ipynb)"
   ]
  },
  {
   "cell_type": "markdown",
   "metadata": {},
   "source": [
    "<font size=\"5\" color=\"#b21200\"  face=\"verdana\"> <B>The Linda/Alice Puzzle</B></font>\n",
    "\n",
    "\n",
    "Consider this classic logical puzzle about a very bright woman:"
   ]
  },
  {
   "cell_type": "code",
   "execution_count": null,
   "metadata": {},
   "outputs": [],
   "source": [
    "print(\"Alice is 31 years old.\")\n",
    "print(\"Alice is single, outspoken, and very bright.\")\n",
    "print(\"Alice majored in philosophy.\")\n",
    "print(\"As a student, Alice was deeply concerned with issues of discrimination and social justice.\")\n",
    "print(\"Alice also participated in anti-nuclear demonstrations.\")"
   ]
  },
  {
   "cell_type": "markdown",
   "metadata": {},
   "source": [
    "The puzzle continues by asking, which is more probable?\n",
    "\n",
    "1. Alice is a bank teller.\n",
    "2. Alice is a bank teller and is active in the feminist movement.\n",
    "\n",
    "\n",
    "[![linda-bank-teller-puzzle](imgs/black-and-white-connect-hand-164531.resized.jpg)](https://en.wikipedia.org/wiki/Conjunction_fallacy)"
   ]
  },
  {
   "cell_type": "markdown",
   "metadata": {},
   "source": [
    "## Exercise 1\n",
    "\n",
    "You can think about it for fun, and make your claim, but it really does not matter much for now. What matters is that we got the name wrong! It was NOT Alice but **Linda**!! Can you re-do the puzzled above with the right name? Remember you can use copy & paste, so you do not need to type everything from scratch!"
   ]
  },
  {
   "cell_type": "code",
   "execution_count": null,
   "metadata": {},
   "outputs": [],
   "source": [
    "# New puzzled with name fixed (to Linda)\n",
    "\n",
    "\n",
    "\n",
    "\n",
    "\n",
    "\n"
   ]
  },
  {
   "cell_type": "markdown",
   "metadata": {},
   "source": [
    "What that a lot of boring work? What if we now want to use the name \"Sofia\"? There has to be a better way, right? There is.\n",
    "\n",
    "The fact is that we can **_abstract the name of the person_**, because those five statements could apply to any person. So, what about writting this instead:"
   ]
  },
  {
   "cell_type": "code",
   "execution_count": null,
   "metadata": {
    "scrolled": false
   },
   "outputs": [],
   "source": [
    "# Name of the person for the puzzle\n",
    "person_name = \"Alice\"\n",
    "\n",
    "# Description of the person\n",
    "print(person_name + \" is 31 years old.\")\n",
    "print(person_name + \" is single, outspoken, and very bright.\")\n",
    "print(person_name + \" majored in philosophy.\")\n",
    "print(\"As a student, \" + person_name + \" was deeply concerned with issues of discrimination and social justice.\")\n",
    "print(person_name + \" also participated in anti-nuclear demonstrations.\")"
   ]
  },
  {
   "cell_type": "markdown",
   "metadata": {},
   "source": [
    "_Do you realize what happened above?_ Two new things are shown in the new code:\n",
    "\n",
    "1. The use of so-called **variables**, in this case, variable `person_name`.\n",
    "2. The **concatentation** of many strings by using `+` between strings. We will come back to this later...\n",
    "\n",
    "\n",
    "**Variables are nothing else than a place to \"store\" data or information**:\n",
    "\n",
    "* Think about a variable as a _box_ or _bucket_ that can contains information inside. The box/bucket has a name so we can refer to its content easily. Above, the variable name is `person_name`.\n",
    "* The statement to give a value to a variable is called [assignment](https://en.wikipedia.org/wiki/Assignment_(computer_science)), as done above lin line 2, in which variable with name `person_name` was assigned (i.e., set to value or given the value) String value `\"Alice\"`.\n",
    "    * Other programming languages may use different symbols for assignment, such as `:=`.\n",
    "* When a variable is used, we refer to its value, as done in the print statements above (lines 5-9).\n",
    "\n",
    "Variables is the first important complex concept one learns when engainging in Computational Thinking (and coding!). It is basically an _abstraction_. Above, in the print statements, we have abstracted who the particular person is for the puzzle, and just refer to it as `person_name` thus thinking about the puzzle in a higher conceptual level.\n",
    "\n",
    "The beauty of variables is that we can easily reference to them later on our code!"
   ]
  },
  {
   "cell_type": "markdown",
   "metadata": {},
   "source": [
    "## Exercise 2\n",
    "\n",
    "Now, in the code below, fix the problem so that the puzzle refers to Linda. How many changes did you do? ;-)"
   ]
  },
  {
   "cell_type": "code",
   "execution_count": null,
   "metadata": {},
   "outputs": [],
   "source": [
    "# Name of the person for the puzzle\n",
    "person_name = \"Alice\"\n",
    "\n",
    "# Description of the person\n",
    "print(person_name + \" is 31 years old.\")\n",
    "print(person_name + \" is single, outspoken, and very bright.\")\n",
    "print(person_name + \" majored in philosophy.\")\n",
    "print(\"As a student, \" + person_name + \" was deeply concerned with issues of discrimination and social justice.\")\n",
    "print(person_name + \" also participated in anti-nuclear demonstrations.\")"
   ]
  },
  {
   "cell_type": "markdown",
   "metadata": {},
   "source": [
    "### Name conventions\n",
    "\n",
    "\n",
    "- Variables can only contain letters, numbers, and underscores. No strange symboles like @, & or *.\n",
    "- Variable names cannot start with a number.\n",
    "- Spaces are not allowed in variable names, so we use underscores instead of spaces. For example, use `person_name` instead of `person name`.\n",
    "- You cannot use any of the [Python keywords](http://docs.python.org/3/reference/lexical_analysis.html#keywords) as variable names.\n",
    "- Variable names should be descriptive, without being too long. For example `st_name` is better than just `name`, and `name_of_the_student`."
   ]
  },
  {
   "cell_type": "markdown",
   "metadata": {},
   "source": [
    "<font size=\"5\" color=\"#b21200\"  face=\"verdana\"> <B>Asking the user!</B></font>\n",
    "\n",
    "Now, yo wonder: what is the point of having a variable if we already know its value! First, you can change it quickly by just changing the value of the variable.\n",
    "\n",
    "But, more often, you really **DO NOT KNOW** the value of the variable. Why? Well because it may come from somewhere else, for example by the user entering it. Check this out by running this program (see line 2!):"
   ]
  },
  {
   "cell_type": "code",
   "execution_count": null,
   "metadata": {
    "scrolled": true
   },
   "outputs": [],
   "source": [
    "# Ask the user for the name of the person\n",
    "person_name = input(\"What is the name of the person in the puzzle?\")\n",
    "\n",
    "# Description of the person\n",
    "print(person_name + \" is 31 years old.\")\n",
    "print(person_name + \" is single, outspoken, and very bright.\")\n",
    "print(person_name + \" majored in philosophy.\")\n",
    "print(\"As a student, \" + person_name + \" was deeply concerned with issues of discrimination and social justice.\")\n",
    "print(person_name + \" also participated in anti-nuclear demonstrations.\")"
   ]
  },
  {
   "cell_type": "markdown",
   "metadata": {},
   "source": [
    "You can see above how `input(<message>)` is used to ask the user for a string data, that will be stored into variable `person_name`. So, lines 5-9 are able to print the puzzle without knowing the actual name beforehand!"
   ]
  },
  {
   "cell_type": "markdown",
   "metadata": {},
   "source": [
    "<font size=\"5\" color=\"#b21200\"  face=\"verdana\"> <B>Variable Re-assignment</B></font>\n",
    "\n",
    "Python allows you to write over assigned variable names, thus changing its value. We can also use the variables themselves when doing the re-assignment."
   ]
  },
  {
   "cell_type": "markdown",
   "metadata": {},
   "source": [
    "## Exercise 3\n",
    "\n",
    "Add code in line 10 only so that the following is printed:\n",
    "\n",
    "```\n",
    "Hello World!\n",
    "2\n",
    "Goodbye World!\n",
    "3\n",
    "```\n",
    "\n",
    "TIP: You will need to reassign variable `message`."
   ]
  },
  {
   "cell_type": "code",
   "execution_count": null,
   "metadata": {},
   "outputs": [],
   "source": [
    "n = 2\n",
    "message = \"Hello World!\"\n",
    "print(message)\n",
    "print(n)\n",
    "\n",
    "# re-assign n to take the value of n plus 1!\n",
    "n = n + 1\n",
    "\n",
    "# here change the value of variable message by assigning it the value \"Goodbye World!\"\n",
    "\n",
    "\n",
    "# Do note change this line\n",
    "print(message)\n",
    "print(n)"
   ]
  },
  {
   "cell_type": "markdown",
   "metadata": {},
   "source": [
    "<font size=\"5\" color=\"#b21200\"  face=\"verdana\"> <B>NameError</B></font>\n",
    "\n",
    "There is a typical error (\"bug\") when using variables. See if you can spot it:"
   ]
  },
  {
   "cell_type": "code",
   "execution_count": null,
   "metadata": {},
   "outputs": [],
   "source": [
    "message = \"This message is not printed because of an error\"\n",
    "print(mesage)"
   ]
  },
  {
   "cell_type": "markdown",
   "metadata": {},
   "source": [
    "We can see in the message that this error is a `NameError` (first line of error after dashes). \n",
    "\n",
    "Then we are given the file that caused the error, and a green arrow showing what line in that file caused the problem. Finally, we are given more specific info: \"name 'mesage' is not defined\".\n",
    "\n",
    "This is an example of how precise one has to be when writing algorithms and programs. Our algorithms must be totally unambiguous: _did you mispelled the variable \"message\" or did you forget to assign a value to variable \"mesage\"?_"
   ]
  },
  {
   "cell_type": "markdown",
   "metadata": {},
   "source": [
    "<font size=\"5\" color=\"#b21200\"  face=\"verdana\"> <B>Hiring a canoe</B></font>\n",
    "\n",
    "Remember the problem of hiring a canoe for a few hours? Back then we had specific prices (per hour and booking fee) and the number of hours we would hire. \n",
    "\n",
    "But what is we do not know how much it cost per hour, the booking fee, or the hours you want to rent? So, if the cost of hiring a canoe is `n` dollars per hour plus and extra booking fee of `m` dollars, what would be the final cost of hire for `h` hours?\n",
    "\n",
    "We will ask all that data to the user, using `input(<message>)` Python tool. Because the user will provide a string (which is just text, and not a number!) we will tell Python to covert that text into a number, using `int()`.\n",
    "\n",
    "![canoe](imgs/canoe.jpg)"
   ]
  },
  {
   "cell_type": "code",
   "execution_count": null,
   "metadata": {},
   "outputs": [],
   "source": [
    "n = int(input(\"What is the renting cost per hour? \")) # cost per hour\n",
    "m = int(input(\"How much is the booking fee? \")) # booking fee\n",
    "h = int(input(\"How many hours you will rent the canoe? \")) # no of hours to be hired\n",
    "\n",
    "# calculate the cost of hiring the canoe for h hours\n",
    "final_cost = h*n + m\n",
    "\n",
    "# next report the various costs\n",
    "print(\"The cost to hire a conoe for\", n, \"hours is: $\" + str(final_cost) + \" dollars\")"
   ]
  },
  {
   "cell_type": "markdown",
   "metadata": {},
   "source": [
    "#### Concatanating strings and converting numbers to strings\n",
    "\n",
    "Note that the last `print` statement prints three things (separated by commas):\n",
    "\n",
    "1. Prints the string `\"The cost to hire a conoe for\"`.\n",
    "2. Then prints the value of variable `n`, which is a number.\n",
    "3. Finally, prints the complex string `\"hours is: $\" + str(final_cost) + \" dollars\"`. This is a whole string produced by concatenate (i.e., putting together) three substrings:\n",
    "    1. String \"hours is: $\"\n",
    "    2. The string `str(n)` which gives you the string version of (the value of) variable `n`. So, if `n` is `15`, `str(n)` will give you `\"15\"`.\n",
    "    3. String `\" dollars\"`."
   ]
  },
  {
   "cell_type": "markdown",
   "metadata": {},
   "source": [
    "## Exercise 4\n",
    "\n",
    "Remember that variables should be informative? Well, a name like `n` does not say much. Can you change the name of the three variables above to be more informative? (for example, `cost_per_hour`?)"
   ]
  },
  {
   "cell_type": "markdown",
   "metadata": {},
   "source": [
    "<font size=\"5\" color=\"#b21200\"  face=\"verdana\"> <B>How many people are at eating in your restaurant?</B></font>"
   ]
  },
  {
   "cell_type": "markdown",
   "metadata": {},
   "source": [
    "Let us first go back to the restaurant problem: _a restaurant has 15 tables to seat 4 people each. It can sit another 9 people at the bar. If the restaurant is only one third full, how many people are currently there?_\n",
    "\n",
    "![restaurant](imgs/menu-restaurant-vintage-table.jpg)\n",
    "\n",
    "Now, different restaurants will have different number of tables of different sizes, and different bar sizes. So, if we want to abstract our problem we would write:"
   ]
  },
  {
   "cell_type": "code",
   "execution_count": null,
   "metadata": {},
   "outputs": [],
   "source": [
    "# data about the restaurant space\n",
    "no_tables = 15\n",
    "people_per_table = 4\n",
    "people_at_bar = 9\n",
    "\n",
    "\n",
    "# we now implement the calculations to solve the problem\n",
    "restaurant_capacity = (no_tables * people_per_table) + people_at_bar # no of people at full capacity\n",
    "people_at_restaurant = restaurant_capacity // 3  # use floor division to get whole no of people\n",
    "\n",
    "# report to the user no of people\n",
    "print(\"There are currently\", people_at_restaurant, \"people in the restaurant\")"
   ]
  },
  {
   "cell_type": "markdown",
   "metadata": {},
   "source": [
    "There are many things to observe in the above program:\n",
    "\n",
    "* The problem has been **decomposed** by separating the data in variables (lines 1-4) from the the calulations required to solve the problem (lines 6 & 7). \n",
    "* The problem has been **abstracted** by writing the calculations (line 6 & 7) in terms of variables rather than fixed numbers. They would work no matter what the value of those variables are.  \n",
    "* Lines 6 & 7 show how **arithmetic expressions** can be used in the right hand of an assignment statement.\n",
    "* The names of the variales adhere to **naming convention**, and good practice: short but descriptive, and lowercase. \n",
    "* Note how the last print statement combines strings and variables containing numbers, using comma to separate the different data. One can print many data all separated with commas.\n",
    "\n",
    "**[QUESTION**] How is this so different than the program we wrote in the previous notebook? Why abstraction is important or useful? Think about it..."
   ]
  },
  {
   "cell_type": "markdown",
   "metadata": {},
   "source": [
    "## Exercise 5\n",
    "\n",
    "While in the above solutions we have abstracted the number of tables a restaurant has, the size of those tables, and the bar capacity, it has not abstracted how full the restaurant is now: _\"the restaurant is only one third full\"_. Improve the solution by abstracting that information. You need to create and assign a new variable (in line 5) and use it in line 9:"
   ]
  },
  {
   "cell_type": "code",
   "execution_count": null,
   "metadata": {},
   "outputs": [],
   "source": [
    "# data about the restaurant space\n",
    "no_tables = 15\n",
    "people_per_table = 4\n",
    "people_at_bar = 9\n",
    "\n",
    "# we now implement the calculations to solve the problem\n",
    "restaurant_capacity = (no_tables * people_per_table) + people_at_bar # no of people at full capacity\n",
    "people_at_restaurant = restaurant_capacity // 3  # use floor division to get whole no of people\n",
    "\n",
    "# report to the user no of people\n",
    "print(\"There are currently\", people_at_restaurant, \"people in the restaurant\")"
   ]
  },
  {
   "cell_type": "markdown",
   "metadata": {},
   "source": [
    "**[QUESTION]** Will your solution work with any level of occupancy in the restaurant? Try for example where the restaurant is half full (1/2) and one three quarters (2/3) full."
   ]
  },
  {
   "cell_type": "markdown",
   "metadata": {},
   "source": [
    "<font size=\"5\" color=\"#b21200\"  face=\"verdana\"> <B>Calculating your laptop's price</B></font>\n",
    "\n",
    "**Remember the laptop you wanted to buy?** This laptop has a recommended price of \\\\$2199. A store has a sale offering 30% off. If you could only spend \\\\$1500 on a new laptop, would you be able to buy this? To find out you must:\n",
    "\n",
    "1. Calculate and **print** the value of the discount. \n",
    "2. Substract that expression from the original price to find and **print** the final sale price of the item._\n",
    "\n",
    "![laptop](imgs/laptop-sale.png)\n",
    "\n",
    "## Exercise 6\n",
    "\n",
    "A friend started coding the solution, but he got very tired and got asleep, leaving the code incomplete and non-functional... Help your friend complete it before she wakes up!!"
   ]
  },
  {
   "cell_type": "code",
   "execution_count": null,
   "metadata": {},
   "outputs": [],
   "source": [
    "tv_rec_price = 2199\n",
    "\n",
    "# Calculate the discount\n",
    "discount = tv_rec_price * sale_offer/100\n",
    "\n",
    "\n",
    "# Now do the reporting\n",
    "print(\"DISCOUNT 30% FOR TV: $\"  + str(discount))\n",
    "print(\"FINAL SALE PRICE: $\" + str(final_price))"
   ]
  },
  {
   "cell_type": "markdown",
   "metadata": {},
   "source": [
    "What if you don't know the recommended price or the discount, and you have to ask the user? How would you modify your code to do so?"
   ]
  },
  {
   "cell_type": "markdown",
   "metadata": {},
   "source": [
    "<font size=\"5\" color=\"#b21200\"  face=\"verdana\"> <B>Self-assignment and Swapping</B></font>\n",
    "\n",
    "Consider this program:"
   ]
  },
  {
   "cell_type": "code",
   "execution_count": null,
   "metadata": {},
   "outputs": [],
   "source": [
    "x = 10\n",
    "print(x)\n",
    "\n",
    "x = x + 5\n",
    "\n",
    "# what is the value of x here? try it!\n"
   ]
  },
  {
   "cell_type": "markdown",
   "metadata": {},
   "source": [
    "In the above code, variable `x` was assigned value 10 and it was then printed. Then, there is another assignment statement for variable `x` again, but now the right hand side of the assignment uses `x` itself?"
   ]
  },
  {
   "cell_type": "markdown",
   "metadata": {},
   "source": [
    "## Exercise 7\n",
    "\n",
    "What do you think should be the value of `x` after line 4? Find out by writing some program in line 7! \n",
    "\n",
    "Remember that assignment statements of the form `x = <Exp>` mean \"set variable `x` to the value of the expression `Exp`\". "
   ]
  },
  {
   "cell_type": "markdown",
   "metadata": {},
   "source": [
    "## Exercise 8\n",
    "\n",
    "And, now the final challenge! \n",
    "\n",
    "There will be lots of times when building your algorithms that you will need to **swap** the value of two variables. \n",
    "\n",
    "Suppose you have two variables `x` and `y` with their values. Write some code to swap their values. So, at the end `x` should have the value that `y` had, and vice-versa. No value should be \"lost\" and you are free to use the help of other new variables :-)\n"
   ]
  },
  {
   "cell_type": "code",
   "execution_count": null,
   "metadata": {},
   "outputs": [],
   "source": [
    "# initial values for the variables x and y\n",
    "x = 5\n",
    "y = 100\n",
    "print(\"Value of x:\", x, \"/ Value of y: \", y)\n",
    "\n",
    "# --------------- YOUR CHANGES BELOW THIS LINE ---------------\n",
    "\n",
    "\n",
    "\n",
    "# --------------- YOUR CHANGES ABOVE THIS LINE ---------------\n",
    "\n",
    "print(\"New value of x:\", x, \"/ New value of y:\", y)"
   ]
  },
  {
   "cell_type": "markdown",
   "metadata": {},
   "source": [
    "<font size=\"5\" color=\"#b21200\"  face=\"verdana\"> <B>All done!</B></font>\n",
    "\n",
    "Perfect, we have seen the notion of variables to \"store\" data/information and abstract it from the calculations themselves to solve the problem. With variables, our code is more \"general\" as the calculations to solve it are stated at a higher conceptual level (variable \"my_salary\" rather than \\\\$34560). \n",
    "\n",
    "Variables allow us for _shorter_ and more _robust_ algorithms, as we can re-utilize a variable over and over in our code. They also allow us to modify the solution for new problem cases easier: just change the variable values!\n",
    "\n",
    "So far we have seen \"simple\" data types: strings and numbers. What about maniulating and storing lots of them? How do we store 100 numbers in one shot, sort them, and check if one particular number is one of those 100 numbers? Next notebook... \n",
    "\n",
    "![completed](imgs/completed.jpg)"
   ]
  },
  {
   "cell_type": "markdown",
   "metadata": {},
   "source": [
    "---------------------------\n",
    "Previous: [Hello World!](01.HelloWorld.ipynb) | [HOME](HOME.ipynb) | Next: [Conditionals](03.Conditionals.ipynb)"
   ]
  }
 ],
 "metadata": {
  "kernelspec": {
   "display_name": "Python 3",
   "language": "python",
   "name": "python3"
  },
  "language_info": {
   "codemirror_mode": {
    "name": "ipython",
    "version": 3
   },
   "file_extension": ".py",
   "mimetype": "text/x-python",
   "name": "python",
   "nbconvert_exporter": "python",
   "pygments_lexer": "ipython3",
   "version": "3.6.7"
  }
 },
 "nbformat": 4,
 "nbformat_minor": 2
}
