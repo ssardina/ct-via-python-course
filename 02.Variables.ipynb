{
 "cells": [
  {
   "cell_type": "markdown",
   "metadata": {},
   "source": [
    "## Notebook 02: Abstraction via Variables\n",
    "------------------------------------\n",
    "\n"
   ]
  },
  {
   "cell_type": "markdown",
   "metadata": {},
   "source": [
    "<font size=\"5\" color=\"#b21200\"  face=\"verdana\"> <B>Intro to Variables</B></font>\n",
    "\n",
    "Consider this classic logical puzzle:"
   ]
  },
  {
   "cell_type": "code",
   "execution_count": 2,
   "metadata": {},
   "outputs": [
    {
     "name": "stdout",
     "output_type": "stream",
     "text": [
      "Alice is 31 years old.\n",
      "Alice is single, outspoken, and very bright.\n",
      "Alice majored in philosophy.\n",
      "As a student, Alice was deeply concerned with issues of discrimination and social justice.\n",
      "Alice also participated in anti-nuclear demonstrations.\n"
     ]
    }
   ],
   "source": [
    "print(\"Alice is 31 years old.\")\n",
    "print(\"Alice is single, outspoken, and very bright.\")\n",
    "print(\"Alice majored in philosophy.\")\n",
    "print(\"As a student, Alice was deeply concerned with issues of discrimination and social justice.\")\n",
    "print(\"Alice also participated in anti-nuclear demonstrations.\")"
   ]
  },
  {
   "cell_type": "markdown",
   "metadata": {},
   "source": [
    "The puzzle continues by asking, which is more probable?\n",
    "\n",
    "1. Alice is a bank teller.\n",
    "2. Alice is a bank teller and is active in the feminist movement.\n",
    "\n",
    "You can think about it and make your claim, but it turns out that we got the name wrong, it was not Alice, but Linda! :-)\n",
    "\n",
    "**[EXERCISE]** Can you print the number of changes you would have to do to the above program to refer to Linda rather than Alice? Add your code in line 2:"
   ]
  },
  {
   "cell_type": "code",
   "execution_count": null,
   "metadata": {},
   "outputs": [],
   "source": [
    "# Print number of changes to above program to fix it\n"
   ]
  },
  {
   "cell_type": "markdown",
   "metadata": {},
   "source": [
    "That would be a lot of work, wasn't it? There has to be a better way... The fact is that we can _abstract_ the name of the person. The statements could apply to any person, so what about writting this instead:"
   ]
  },
  {
   "cell_type": "code",
   "execution_count": 1,
   "metadata": {
    "scrolled": true
   },
   "outputs": [
    {
     "name": "stdout",
     "output_type": "stream",
     "text": [
      "Alice is 31 years old.\n",
      "Alice is single, outspoken, and very bright.\n",
      "Alice majored in philosophy.\n",
      "As a student, Alice was deeply concerned with issues of discrimination and social justice.\n",
      "Alice also participated in anti-nuclear demonstrations.\n"
     ]
    }
   ],
   "source": [
    "# Name of the person for the puzzle\n",
    "person_name = \"Alice\"\n",
    "\n",
    "# Description of the person\n",
    "print(person_name + \" is 31 years old.\")\n",
    "print(person_name + \" is single, outspoken, and very bright.\")\n",
    "print(person_name + \" majored in philosophy.\")\n",
    "print(\"As a student, \"+ person_name + \" was deeply concerned with issues of discrimination and social justice.\")\n",
    "print(person_name + \" also participated in anti-nuclear demonstrations.\")\n",
    "\n"
   ]
  },
  {
   "cell_type": "markdown",
   "metadata": {},
   "source": [
    "_Do you realize what happened above?_ Two new things are shown in the new code:\n",
    "\n",
    "1. The use of so-called **variables**, in this case, variable `person_name`.\n",
    "2. The **concatentation** of many strings by using `+` between strings. We will come back to this later...\n",
    "\n",
    "\n",
    "**Variables are nothing else than a place to \"store\" data or information**:\n",
    "\n",
    "* Think about a variable as a _box_ or _bucket_ that can contains information inside. The box/bucket has a name so we can refer to its content easily. Above, the variable name is `person_name`.\n",
    "* The statement to give a value to a variable is called [assignment](https://en.wikipedia.org/wiki/Assignment_(computer_science)), as done above lin line 2, in which variable with name `person_name` was assigned (i.e., set to value or given the value) String value `\"Alice\"`.\n",
    "    * Other programming languages may use different symbols for assignment, such as `:=`.\n",
    "* When a variable is used, we refer to its value, as done in the print statements above (lines 5-9).\n",
    "\n",
    "Variables is the first important complex concept one learns when engainging in Computational Thinking (and coding!). It is basically an _abstraction_. Above, in the print statements, we have abstracted who the particular person is for the puzzle, and just refer to it as `person_name` thus thinking about the puzzle in a higher conceptual level.\n",
    "\n",
    "The beauty of variables is that we can easily reference to them later on our code!\n",
    "\n",
    "**[EXERCISE]** Now go back to the new version of the logical puzzle and fix it, make it refer to Linda. How many changes did you do? ;-)\n"
   ]
  },
  {
   "cell_type": "markdown",
   "metadata": {},
   "source": [
    "## Name conventions\n",
    "\n",
    "\n",
    "- Variables can only contain letters, numbers, and underscores. No strange symboles like @, & or *.\n",
    "- Variable names cannot start with a number.\n",
    "- Spaces are not allowed in variable names, so we use underscores instead of spaces. For example, use `person_name` instead of `person name`.\n",
    "- You cannot use any of the [Python keywords](http://docs.python.org/3/reference/lexical_analysis.html#keywords) as variable names.\n",
    "- Variable names should be descriptive, without being too long. For example `st_name` is better than just `name`, and `name_of_the_student`."
   ]
  },
  {
   "cell_type": "markdown",
   "metadata": {},
   "source": [
    "<font size=\"5\" color=\"#b21200\"  face=\"verdana\"> <B>Variable Re-assignment</B></font>\n",
    "\n",
    "Python allows you to write over assigned variable names, thus changing its value. We can also use the variables themselves when doing the reassignment.\n",
    "\n",
    "**[EXERCISE: One variable, two messages]** Add code in line 5 only so that the following is printed:\n",
    "\n",
    "```\n",
    "Hello World!\n",
    "Goodbye World!\n",
    "```\n",
    "\n",
    "TIP: You will need to reassign variable `message`."
   ]
  },
  {
   "cell_type": "code",
   "execution_count": null,
   "metadata": {},
   "outputs": [],
   "source": [
    "message = \"Hello World!\"\n",
    "print(message)\n",
    "\n",
    "# Here change the value of variable message by assigning it the value \"Goodbye World!\"\n",
    "\n",
    "\n",
    "# Do note change this line\n",
    "print(message)"
   ]
  },
  {
   "cell_type": "markdown",
   "metadata": {},
   "source": [
    "<font size=\"5\" color=\"#b21200\"  face=\"verdana\"> <B>NameError</B></font>\n",
    "\n",
    "There is a typical error (\"bug\") when using variables. See if you can spot it:"
   ]
  },
  {
   "cell_type": "code",
   "execution_count": null,
   "metadata": {},
   "outputs": [],
   "source": [
    "message = \"This message is not printed because of an error\"\n",
    "print(mesage)"
   ]
  },
  {
   "cell_type": "markdown",
   "metadata": {},
   "source": [
    "We can see in the message that this error is a `NameError` (first line of error after dashes). \n",
    "\n",
    "Then we are given the file that caused the error, and a green arrow showing what line in that file caused the problem. Finally, we are given more specific info: \"name 'mesage' is not defined\".\n",
    "\n",
    "This is an example of how precise one has to be when writing algorithms and programs. Our algorithms must be totally unambiguous: _did you mispelled the variable \"message\" or did you forget to assign a value to variable \"mesage\"?_"
   ]
  },
  {
   "cell_type": "markdown",
   "metadata": {},
   "source": [
    "<font size=\"5\" color=\"#b21200\"  face=\"verdana\"> <B>Calculating your taxes</B></font>\n"
   ]
  },
  {
   "cell_type": "markdown",
   "metadata": {},
   "source": [
    "Remember our previous interest earned example: _Suppose you have $95, which you can invest with a 15% return each year. How much money you would have after 9 years? How much profit have you done?_ \n",
    "\n",
    "We will use this example to demonstrates many interesting things when using variables. Here is our solution:"
   ]
  },
  {
   "cell_type": "code",
   "execution_count": null,
   "metadata": {},
   "outputs": [],
   "source": [
    "initial_funds = 95\n",
    "yr_interest = 0.15\n",
    "no_years = 9\n",
    "\n",
    "# Funds at the end of the period\n",
    "final_funds = initial_funds * ( (1+yr_interest) ** no_years)\n",
    "# Profit made\n",
    "profit = final_funds - initial_funds\n",
    "\n",
    "# Now do the reporting\n",
    "print(\"EARNINGS AFTER \" + str(no_years) + \" YEARS AT \" + str(1 + yr_interest) + \"%:\")\n",
    "print(\"     TOTAL FUNDS: \" + str(final_funds))\n",
    "print(\"     PROFIT MADE: \" + str(profit))\n",
    "\n"
   ]
  },
  {
   "cell_type": "markdown",
   "metadata": {},
   "source": [
    "There are many things to observe in the above program:\n",
    "\n",
    "* The problem has been _abstracted_ by separating the data in variables (lines 1-3) from the the calulations required to solve the problem (lines 6-8). \n",
    "* Lines 6 & 7 show how complex expressions can be used in the right hand of an assignment statement.\n",
    "* The names of the variales adhere to naming convention, and good practice: short but descriptive, and lowercase. \n",
    "* Because the print statement is printing Strings, we tell Python to convert variables holding numbers to Strings versions using function `str(<number>)` (which yields the string version of the corresponding number).\n",
    "\n",
    "How is this so different than the program we wrote in the previous notebook? Why abstraction is important or useful? Think about it..."
   ]
  },
  {
   "cell_type": "markdown",
   "metadata": {},
   "source": [
    "**[EXERCISE]** Suppose you now have $105 at the start, but you will only invest for 5 years. Modify the code above in the minimal way possible to get the new earnings (total funds and profit).\n",
    "\n",
    "* How many changes did you have to do? How many did you do in the previous version with no variables?\n",
    "* Did you have to touch at all the code doing the calculations? The less you touch, the less it may break..."
   ]
  },
  {
   "cell_type": "markdown",
   "metadata": {},
   "source": [
    "**[EXERCISE: Your taxes again!]** You have two jobs, in which you have earnt \\\\$12,734 and \\\\$87,621 respectively over the year. You need to pay 26.5\\% tax after the first \\\\$18,000 dollars earnt. How much tax do you have to pay? A friend started the program, but he got very tired and got asleep, even leaving a broken code... Help your friend complete it before she wakes up!!"
   ]
  },
  {
   "cell_type": "code",
   "execution_count": null,
   "metadata": {},
   "outputs": [],
   "source": [
    "job1_earning = 12734\n",
    "\n",
    "tax_rate = 0.265\n",
    "\n",
    "# Here I will calculate how much taxes I need to pay\n",
    "taxes = (job1_earning + job2_earning) \n",
    "\n",
    "# Report taxes to be paid\n",
    "print(\"I need to pay: \" + str(taxes))"
   ]
  },
  {
   "cell_type": "markdown",
   "metadata": {},
   "source": [
    "<font size=\"5\" color=\"#b21200\"  face=\"verdana\"> <B>Self-assignment and Swapping</B></font>\n",
    "\n",
    "Consider this program:"
   ]
  },
  {
   "cell_type": "code",
   "execution_count": null,
   "metadata": {},
   "outputs": [],
   "source": [
    "x = 10\n",
    "print(x)\n",
    "\n",
    "x = x + 5\n",
    "\n",
    "# what is the value of x here? try it!\n"
   ]
  },
  {
   "cell_type": "markdown",
   "metadata": {},
   "source": [
    "In the above code, variable `x` was assigned value 10 and it was then printed. Then, there is another assignment statement for variable `x` again, but now the right hand side of the assignment uses `x` itself?\n",
    "\n",
    "**[EXERCISE]** What do you think should be the value of `x` after line 4? Find out by writing some program in line 7! Remember that assignment statements of the form `x = <Exp>` mean \"set variable `x` to the value of the expression `Exp`. "
   ]
  },
  {
   "cell_type": "markdown",
   "metadata": {},
   "source": [
    "And, now the final challenge! \n",
    "\n",
    "**[EXERCISE]** In lots of cases in algorithms, we need to swap the value of two variables. Suppose you have two variables `x` and `y` with their values. Write some code to swap their values. So, at the end `x` should have the value that `y` had, and vice-versa. No value should be \"lost\" and you are free to use the help of other new variables :-)\n"
   ]
  },
  {
   "cell_type": "code",
   "execution_count": null,
   "metadata": {},
   "outputs": [],
   "source": [
    "# initial values for the variables x and y\n",
    "x = 5\n",
    "y = 100\n",
    "print(\"Value of x: \" + str(x) + \"  / Value of y: \" + str(y))\n",
    "\n",
    "# --------------- Changes below here ---------------\n",
    "\n",
    "\n",
    "\n",
    "\n",
    "# --------------- Changes above here ---------------\n",
    "\n",
    "print(\"New value of x: \" + str(x) + \"  / New value of y: \" + str(y))\n"
   ]
  },
  {
   "cell_type": "markdown",
   "metadata": {},
   "source": [
    "<font size=\"5\" color=\"#b21200\"  face=\"verdana\"> <B>All done!</B></font>\n",
    "\n",
    "Perfect, we have seen the notion of variables to \"store\" data/information and abstract it from the calculations themselves to solve the problem. With variables, our code is more \"general\" as the calculations to solve it are stated at a higher conceptual level (variable \"my_salary\" rather than \\\\$34560). \n",
    "\n",
    "Variables allow us for _shorter_ and more _robust_ algorithms, as we can re-utilize a variable over and over in our code. They also allow us to modify the solution for new problem cases easier: just change the variable values!\n",
    "\n",
    "So far we have seen \"simple\" data types: strings and numbers. What about maniulating and storing lots of them? How do we store 100 numbers in one shot, sort them, and check if one particular number is one of those 100 numbers? Next notebook... \n",
    "\n",
    "![completed](imgs/completed.jpg)"
   ]
  },
  {
   "cell_type": "markdown",
   "metadata": {},
   "source": [
    "---------------------------\n",
    "Previous: [Hello World!](01.HelloWorld.ipynb) | [HOME](HOME.ipynb) | Next: [Conditionals](03.Conditionals.ipynb)"
   ]
  }
 ],
 "metadata": {
  "kernelspec": {
   "display_name": "Python 3",
   "language": "python",
   "name": "python3"
  },
  "language_info": {
   "codemirror_mode": {
    "name": "ipython",
    "version": 3
   },
   "file_extension": ".py",
   "mimetype": "text/x-python",
   "name": "python",
   "nbconvert_exporter": "python",
   "pygments_lexer": "ipython3",
   "version": "3.6.7"
  }
 },
 "nbformat": 4,
 "nbformat_minor": 2
}
