{
 "cells": [
  {
   "cell_type": "markdown",
   "metadata": {},
   "source": [
    "<font size=\"6\" color=\"#0047b2\"  face=\"verdana\"> <B>Notebook 04: Lists</B></font>\n",
    "------------------------------------"
   ]
  },
  {
   "cell_type": "markdown",
   "metadata": {},
   "source": [
    "<font size=\"5\" color=\"#b21200\"  face=\"verdana\"> <B>Lists</B></font>\n",
    "\n",
    "Suppose you want to store the name of the days of the week in some language, say English. How would you go about it? Maybe you write this code for the working days:"
   ]
  },
  {
   "cell_type": "code",
   "execution_count": 10,
   "metadata": {},
   "outputs": [
    {
     "name": "stdout",
     "output_type": "stream",
     "text": [
      "The days of the week are:  Monday Tuesday Wednesday Thursday Friday\n"
     ]
    }
   ],
   "source": [
    "# define days of the week (in English)\n",
    "day_1 = \"Monday\"\n",
    "day_2 = \"Tuesday\"\n",
    "day_3 = \"Wednesday\"\n",
    "day_4 = \"Thursday\"\n",
    "day_5 = \"Friday\"\n",
    "\n",
    "print(\"The days of the week are: \", day_1, day_2, day_3, day_4, day_5)"
   ]
  },
  {
   "cell_type": "markdown",
   "metadata": {},
   "source": [
    "OK, we succeeded but isn't that too much work? We had to define five variables and then refer to them in the print statement. What if you now want to include the weekend? You need to define two more variables and change the print statement in line 8! **Sure there must be a better way...**"
   ]
  },
  {
   "cell_type": "markdown",
   "metadata": {},
   "source": [
    "The truth is that so far we have seen how to store _single_ data in variables, like a number or a string. But what if we have many numbers or many strings? \n",
    "\n",
    "That is when [**lists**](https://www.tutorialspoint.com/python/python_lists.htm) come to help. Lists are the most basic data structure in Python and is just a **sequence** (of data). They are incredibly useful!\n",
    "\n",
    "Lists use `[]` brackets and commas to separate objects in the list. For example, let's write a program with two variables: one containing the all the single digit postiive even numbers, and a second one containing the days of the week:"
   ]
  },
  {
   "cell_type": "code",
   "execution_count": 6,
   "metadata": {},
   "outputs": [
    {
     "name": "stdout",
     "output_type": "stream",
     "text": [
      "These are the single digit positive even numbers: [0, 2, 4, 6, 8]\n",
      "These are the days of the week: ['Monday', 'Tuesday', 'Thursday', 'Friday', 'Saturday', 'Sunday']\n"
     ]
    }
   ],
   "source": [
    "# two variables of type list\n",
    "even_numbers = [0, 2, 4, 6, 8]\n",
    "days_of_week = [\"Monday\", \"Tuesday\", \"Thursday\", \"Friday\", \"Saturday\", \"Sunday\"]\n",
    "\n",
    "\n",
    "print(\"These are the single digit positive even numbers:\", even_numbers)\n",
    "print(\"These are the days of the week:\", days_of_week)"
   ]
  },
  {
   "cell_type": "markdown",
   "metadata": {},
   "source": [
    "The variables `even_numbers` and `days_of_week` are of type `list`, the first hone containing five integer numbers and the second one containing six strings.\n",
    "\n",
    "**[EXERCISE]**: Ops! there seems to be a bug in the assignment of variable `days_of_week`. Fix it and run it to check it contains all the days of the week."
   ]
  },
  {
   "cell_type": "markdown",
   "metadata": {},
   "source": [
    "<font size=\"5\" color=\"#b21200\"  face=\"verdana\"> <B>Accessing Values in Lists via Indexing</B></font>\n",
    "\n",
    "Each element of a sequence in a list is assigned a number: its _position_ or _index_. The first index is _zero_ (not one!), the second index is _one_, and so forth. Accessing an element in a list via its position is called _indexing_. For example, this code accesss and prints the first three days of the week:"
   ]
  },
  {
   "cell_type": "code",
   "execution_count": 17,
   "metadata": {},
   "outputs": [
    {
     "name": "stdout",
     "output_type": "stream",
     "text": [
      "Monday\n",
      "Tuesday\n"
     ]
    },
    {
     "ename": "IndexError",
     "evalue": "list index out of range",
     "output_type": "error",
     "traceback": [
      "\u001b[0;31m---------------------------------------------------------------------------\u001b[0m",
      "\u001b[0;31mIndexError\u001b[0m                                Traceback (most recent call last)",
      "\u001b[0;32m<ipython-input-17-d8e1ea0ab3b9>\u001b[0m in \u001b[0;36m<module>\u001b[0;34m\u001b[0m\n\u001b[1;32m      1\u001b[0m \u001b[0mprint\u001b[0m\u001b[0;34m(\u001b[0m\u001b[0mdays_of_week\u001b[0m\u001b[0;34m[\u001b[0m\u001b[0;36m0\u001b[0m\u001b[0;34m]\u001b[0m\u001b[0;34m)\u001b[0m\u001b[0;34m\u001b[0m\u001b[0m\n\u001b[1;32m      2\u001b[0m \u001b[0mprint\u001b[0m\u001b[0;34m(\u001b[0m\u001b[0mdays_of_week\u001b[0m\u001b[0;34m[\u001b[0m\u001b[0;36m1\u001b[0m\u001b[0;34m]\u001b[0m\u001b[0;34m)\u001b[0m\u001b[0;34m\u001b[0m\u001b[0m\n\u001b[0;32m----> 3\u001b[0;31m \u001b[0mprint\u001b[0m\u001b[0;34m(\u001b[0m\u001b[0mdays_of_week\u001b[0m\u001b[0;34m[\u001b[0m\u001b[0;36m8\u001b[0m\u001b[0;34m]\u001b[0m\u001b[0;34m)\u001b[0m\u001b[0;34m\u001b[0m\u001b[0m\n\u001b[0m",
      "\u001b[0;31mIndexError\u001b[0m: list index out of range"
     ]
    }
   ],
   "source": [
    "print(days_of_week[0])\n",
    "print(days_of_week[1])\n",
    "print(days_of_week[8])"
   ]
  },
  {
   "cell_type": "markdown",
   "metadata": {},
   "source": [
    "**[EXERCISE]** What happens if we try to access position for which there is no element? for example, try to print the element in the 10th position of `days_of_week`.\n",
    "\n",
    "The error `IndexError: list index out of range` is saying that we usde an index, a position, that is outside the valid range of indexes, which is the \"size\" of the list (minus one because the first index always starts at zero!).\n",
    "\n",
    "So, can we obtain the number of elements in a given list? Yes of course, using `len` function (the \"length\" of the list):"
   ]
  },
  {
   "cell_type": "code",
   "execution_count": 20,
   "metadata": {},
   "outputs": [
    {
     "name": "stdout",
     "output_type": "stream",
     "text": [
      "6\n"
     ]
    }
   ],
   "source": [
    "print(len(days_of_week))"
   ]
  },
  {
   "cell_type": "markdown",
   "metadata": {},
   "source": [
    "<font size=\"5\" color=\"#b21200\"  face=\"verdana\"> <B>Loops on Lists</B></font>\n"
   ]
  },
  {
   "cell_type": "markdown",
   "metadata": {},
   "source": [
    "Since lists have many data, loops (from the previous tutorial) come handy to operate on them."
   ]
  },
  {
   "cell_type": "code",
   "execution_count": 22,
   "metadata": {},
   "outputs": [
    {
     "name": "stdout",
     "output_type": "stream",
     "text": [
      "Monday\n",
      "Tuesday\n",
      "Thursday\n"
     ]
    }
   ],
   "source": [
    "# initialize the index counting\n",
    "idx = 0\n",
    "\n",
    "while idx < 3:\n",
    "    print(days_of_week[idx])\n",
    "    idx = idx + 1 # pass to the next index"
   ]
  },
  {
   "cell_type": "markdown",
   "metadata": {},
   "source": [
    "**[EXERCISE]** In the previous program we print the first three days of the week, the first three elements of list `days_of_week`. using function `len(.)`, change the above code to print all the elements in the list, whatever they are."
   ]
  },
  {
   "cell_type": "markdown",
   "metadata": {},
   "source": [
    "**[EXERCISE]** Next, ask the user how many days of the week to show. Remember from the [Conditional](03.Conditionals.ipynb) tutorial that you can use `input(<message>)` to ask the user for a string and you can convert the string to an integer number using `int(.)`. "
   ]
  },
  {
   "cell_type": "code",
   "execution_count": null,
   "metadata": {},
   "outputs": [],
   "source": [
    "# first ask the user how many days to print\n",
    "\n",
    "idx = 0\n",
    "# print the days the user asked for\n"
   ]
  },
  {
   "cell_type": "markdown",
   "metadata": {},
   "source": [
    "**[EXERCISE: Your taxes again!]** You have two jobs, in which you have earnt \\\\$12,734 and \\\\$87,621 respectively over the year. You need to pay 26.5\\% tax after the first \\\\$18,000 dollars earnt. How much tax do you have to pay? A friend started the program, but he got very tired and got asleep, even leaving a broken code... Help your friend complete it before she wakes up!!"
   ]
  },
  {
   "cell_type": "code",
   "execution_count": 35,
   "metadata": {},
   "outputs": [
    {
     "ename": "NameError",
     "evalue": "name 'job2_earning' is not defined",
     "output_type": "error",
     "traceback": [
      "\u001b[0;31m---------------------------------------------------------------------------\u001b[0m",
      "\u001b[0;31mNameError\u001b[0m                                 Traceback (most recent call last)",
      "\u001b[0;32m<ipython-input-35-bde11872a73d>\u001b[0m in \u001b[0;36m<module>\u001b[0;34m\u001b[0m\n\u001b[1;32m      4\u001b[0m \u001b[0;34m\u001b[0m\u001b[0m\n\u001b[1;32m      5\u001b[0m \u001b[0;31m# Here I will calculate how much taxes I need to pay\u001b[0m\u001b[0;34m\u001b[0m\u001b[0;34m\u001b[0m\u001b[0m\n\u001b[0;32m----> 6\u001b[0;31m \u001b[0mtaxes\u001b[0m \u001b[0;34m=\u001b[0m \u001b[0;34m(\u001b[0m\u001b[0mjob1_earning\u001b[0m \u001b[0;34m+\u001b[0m \u001b[0mjob2_earning\u001b[0m\u001b[0;34m)\u001b[0m\u001b[0;34m\u001b[0m\u001b[0m\n\u001b[0m\u001b[1;32m      7\u001b[0m \u001b[0;34m\u001b[0m\u001b[0m\n\u001b[1;32m      8\u001b[0m \u001b[0;31m# Report taxes to be paid\u001b[0m\u001b[0;34m\u001b[0m\u001b[0;34m\u001b[0m\u001b[0m\n",
      "\u001b[0;31mNameError\u001b[0m: name 'job2_earning' is not defined"
     ]
    }
   ],
   "source": [
    "job1_earning = 12734\n",
    "\n",
    "tax_rate = 0.265\n",
    "\n",
    "# Here I will calculate how much taxes I need to pay\n",
    "taxes = (job1_earning + job2_earning) \n",
    "\n",
    "# Report taxes to be paid\n",
    "print(\"I need to pay: \" + str(taxes))"
   ]
  },
  {
   "cell_type": "markdown",
   "metadata": {},
   "source": [
    "<font size=\"5\" color=\"#b21200\"  face=\"verdana\"> <B>All done!</B></font>\n",
    "\n",
    "In this notebook we learnt a few things:\n",
    "\n",
    "1. We have learnt one of the most important and used control flow stuctures of every programming language: **conditionals**. The if-then-else statements allow our code to execute different pieces depending on what is true.\n",
    "Conditionals, together with variables, allows us to write more abstract and generic computational solutions. We do not write a solution for just one special case (e.g, is the temperature 45 above the 30 threashold?) but for a family of possible problems (e.g., is the current temperature, stored in variable `temp`, above the 30 threashold?).\n",
    "\n",
    "2. We have learnt about **complex conditions**. Python provides many arithmetic (e.g., `==` and `<=`) and logical boolean (e.g., `and` and `not`) [operators](https://www.programiz.com/python-programming/operators), that can be used to write complex conditions. We will later see even more boolean operators. \n",
    "\n",
    "3. We have learnt how to **get input from the user**, via the `input(.)`. Together with the `print(.)` statement it provides interactivity with the user.\n",
    "\n",
    "4. Finally, we have also seen how we can **combine strings and numbers** with commas in `print` statements, thus not needing to concatenate strings and convert numbers to strings via `str(.)`.\n",
    "\n",
    "Now, so far we have dealt with variables containing one data. We have checked, for example, if a given number is even or the tens of a given number. But what if we want to check many numbers, say 20 numbers. Do we need to create 20 variables and corresponding code for each variable? That would hurt, woudln't it? Fortunately, no. We can do better and we will see that in our next notebook...\n",
    "\n",
    "![completed](imgs/completed.jpg)"
   ]
  },
  {
   "cell_type": "markdown",
   "metadata": {},
   "source": [
    "---------------------------\n",
    "Previous: [Hello World!](01.HelloWorld.ipynb) | [HOME](HOME.ipynb) | Next: [Lists-and-Loops](04.Lists-and-Loops.ipynb)"
   ]
  }
 ],
 "metadata": {
  "kernelspec": {
   "display_name": "Python 3",
   "language": "python",
   "name": "python3"
  },
  "language_info": {
   "codemirror_mode": {
    "name": "ipython",
    "version": 3
   },
   "file_extension": ".py",
   "mimetype": "text/x-python",
   "name": "python",
   "nbconvert_exporter": "python",
   "pygments_lexer": "ipython3",
   "version": "3.6.6"
  }
 },
 "nbformat": 4,
 "nbformat_minor": 2
}
