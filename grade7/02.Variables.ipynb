{
 "cells": [
  {
   "cell_type": "markdown",
   "metadata": {},
   "source": [
    "## Notebook 02: Abstraction via Variables\n",
    "------------------------------------\n",
    "\n"
   ]
  },
  {
   "cell_type": "markdown",
   "metadata": {},
   "source": [
    "<font size=\"5\" color=\"#b21200\"  face=\"verdana\"> <B>Intro to Variables</B></font>\n",
    "\n",
    "Consider this classic logical puzzle about a very bright woman:"
   ]
  },
  {
   "cell_type": "code",
   "execution_count": null,
   "metadata": {},
   "outputs": [],
   "source": [
    "print(\"Alice is 31 years old.\")\n",
    "print(\"Alice is single, outspoken, and very bright.\")\n",
    "print(\"Alice majored in philosophy.\")\n",
    "print(\"As a student, Alice was deeply concerned with issues of discrimination and social justice.\")\n",
    "print(\"Alice also participated in anti-nuclear demonstrations.\")"
   ]
  },
  {
   "cell_type": "markdown",
   "metadata": {},
   "source": [
    "The puzzle continues by asking, which is more probable?\n",
    "\n",
    "1. Alice is a bank teller.\n",
    "2. Alice is a bank teller and is active in the feminist movement.\n",
    "\n",
    "You can think about it for fun, and make your claim, but it really does not matter much for now. What matters is that we got the name wrong! It was NOT Alice but **Linda**! :-)\n",
    "\n",
    "### Exercise 1\n",
    "\n",
    "Can you print the number of changes you would have to do to the above program to refer to Linda rather than Alice? Add your code in line 2:"
   ]
  },
  {
   "cell_type": "code",
   "execution_count": null,
   "metadata": {},
   "outputs": [],
   "source": [
    "# Print number of changes to above program to fix it\n"
   ]
  },
  {
   "cell_type": "markdown",
   "metadata": {},
   "source": [
    "That would be a lot of work, wouldn't it? There has to be a better way... The fact is that we can **_abstract_** the name of the person, because those five statements could apply to any person. So, what about writting this instead:"
   ]
  },
  {
   "cell_type": "code",
   "execution_count": null,
   "metadata": {
    "scrolled": false
   },
   "outputs": [],
   "source": [
    "# Name of the person for the puzzle\n",
    "person_name = \"Alice\"\n",
    "\n",
    "# Description of the person\n",
    "print(person_name + \" is 31 years old.\")\n",
    "print(person_name + \" is single, outspoken, and very bright.\")\n",
    "print(person_name + \" majored in philosophy.\")\n",
    "print(\"As a student, \"+ person_name + \" was deeply concerned with issues of discrimination and social justice.\")\n",
    "print(person_name + \" also participated in anti-nuclear demonstrations.\")"
   ]
  },
  {
   "cell_type": "markdown",
   "metadata": {},
   "source": [
    "_Do you realize what happened above?_ Two new things are shown in the new code:\n",
    "\n",
    "1. The use of so-called **variables**, in this case, variable `person_name`.\n",
    "2. The **concatentation** of many strings by using `+` between strings. We will come back to this later...\n",
    "\n",
    "\n",
    "**Variables are nothing else than a place to \"store\" data or information**:\n",
    "\n",
    "* Think about a variable as a _box_ or _bucket_ that can contains information inside. The box/bucket has a name so we can refer to its content easily. Above, the variable name is `person_name`.\n",
    "* The statement to give a value to a variable is called [assignment](https://en.wikipedia.org/wiki/Assignment_(computer_science)), as done above lin line 2, in which variable with name `person_name` was assigned (i.e., set to value or given the value) String value `\"Alice\"`.\n",
    "    * Other programming languages may use different symbols for assignment, such as `:=`.\n",
    "* When a variable is used, we refer to its value, as done in the print statements above (lines 5-9).\n",
    "\n",
    "Variables is the first important complex concept one learns when engainging in Computational Thinking (and coding!). It is basically an _abstraction_. Above, in the print statements, we have abstracted who the particular person is for the puzzle, and just refer to it as `person_name` thus thinking about the puzzle in a higher conceptual level.\n",
    "\n",
    "The beauty of variables is that we can easily reference to them later on our code!\n",
    "\n",
    "### Exercise 2\n",
    "\n",
    "Now go back to the new version of the logical puzzle and fix it, make it refer to Linda. How many changes did you do? ;-)\n"
   ]
  },
  {
   "cell_type": "markdown",
   "metadata": {},
   "source": [
    "## Name conventions\n",
    "\n",
    "\n",
    "- Variables can only contain letters, numbers, and underscores. No strange symboles like @, & or *.\n",
    "- Variable names cannot start with a number.\n",
    "- Spaces are not allowed in variable names, so we use underscores instead of spaces. For example, use `person_name` instead of `person name`.\n",
    "- You cannot use any of the [Python keywords](http://docs.python.org/3/reference/lexical_analysis.html#keywords) as variable names.\n",
    "- Variable names should be descriptive, without being too long. For example `st_name` is better than just `name`, and `name_of_the_student`."
   ]
  },
  {
   "cell_type": "markdown",
   "metadata": {},
   "source": [
    "<font size=\"5\" color=\"#b21200\"  face=\"verdana\"> <B>Variable Re-assignment</B></font>\n",
    "\n",
    "Python allows you to write over assigned variable names, thus changing its value. We can also use the variables themselves when doing the re-assignment.\n",
    "\n",
    "### Exercise 3\n",
    "\n",
    "Add code in line 10 only so that the following is printed:\n",
    "\n",
    "```\n",
    "Hello World!\n",
    "2\n",
    "Goodbye World!\n",
    "3\n",
    "```\n",
    "\n",
    "TIP: You will need to reassign variable `message`."
   ]
  },
  {
   "cell_type": "code",
   "execution_count": null,
   "metadata": {},
   "outputs": [],
   "source": [
    "n = 2\n",
    "message = \"Hello World!\"\n",
    "print(message)\n",
    "print(n)\n",
    "\n",
    "# re-assign n to take the value of n plus 1!\n",
    "n = n + 1\n",
    "\n",
    "# Here change the value of variable message by assigning it the value \"Goodbye World!\"\n",
    "\n",
    "\n",
    "# Do note change this line\n",
    "print(message)\n",
    "print(n)\n"
   ]
  },
  {
   "cell_type": "markdown",
   "metadata": {},
   "source": [
    "<font size=\"5\" color=\"#b21200\"  face=\"verdana\"> <B>NameError</B></font>\n",
    "\n",
    "There is a typical error (\"bug\") when using variables. See if you can spot it:"
   ]
  },
  {
   "cell_type": "code",
   "execution_count": null,
   "metadata": {},
   "outputs": [],
   "source": [
    "message = \"This message is not printed because of an error\"\n",
    "print(mesage)"
   ]
  },
  {
   "cell_type": "markdown",
   "metadata": {},
   "source": [
    "We can see in the message that this error is a `NameError` (first line of error after dashes). \n",
    "\n",
    "Then we are given the file that caused the error, and a green arrow showing what line in that file caused the problem. Finally, we are given more specific info: \"name 'mesage' is not defined\".\n",
    "\n",
    "This is an example of how precise one has to be when writing algorithms and programs. Our algorithms must be totally unambiguous: _did you mispelled the variable \"message\" or did you forget to assign a value to variable \"mesage\"?_"
   ]
  },
  {
   "cell_type": "markdown",
   "metadata": {},
   "source": [
    "<font size=\"5\" color=\"#b21200\"  face=\"verdana\"> <B>How many people are at eating in your restaurant?</B></font>"
   ]
  },
  {
   "cell_type": "markdown",
   "metadata": {},
   "source": [
    "Let us first go back to the restaurant problem: _a restaurant has 15 tables to seat 4 people each. It can sit another 9 people at the bar. If the restaurant is only one third full, how many people are currently there?_\n",
    "\n",
    "![restaurant](imgs/menu-restaurant-vintage-table.jpg)\n",
    "\n",
    "Now, different restaurants will have different number of tables of different sizes, and different bar sizes. So, if we want to abstract our problem we would write:"
   ]
  },
  {
   "cell_type": "code",
   "execution_count": null,
   "metadata": {},
   "outputs": [],
   "source": [
    "# data about the restaurant space\n",
    "no_tables = 15\n",
    "people_per_table = 4\n",
    "people_at_bar = 9\n",
    "\n",
    "\n",
    "# we now implement the calculations to solve the problem\n",
    "restaurant_capacity = (no_tables * people_per_table) + people_at_bar # no of people at full capacity\n",
    "people_at_restaurant = restaurant_capacity // 3  # use floor division to get whole no of people\n",
    "\n",
    "# report to the user no of people\n",
    "print(\"There are currently\", people_at_restaurant, \"people in the restaurant\")"
   ]
  },
  {
   "cell_type": "markdown",
   "metadata": {},
   "source": [
    "There are many things to observe in the above program:\n",
    "\n",
    "* The problem has been **decomposed** by separating the data in variables (lines 1-4) from the the calulations required to solve the problem (lines 6 & 7). \n",
    "* The problem has been **abstracted** by writing the calculations (line 6 & 7) in terms of variables rather than fixed numbers. They would work no matter what the value of those variables are.  \n",
    "* Lines 6 & 7 show how **arithmetic expressions** can be used in the right hand of an assignment statement.\n",
    "* The names of the variales adhere to **naming convention**, and good practice: short but descriptive, and lowercase. \n",
    "* Note how the last print statement combines strings and variables containing numbers, using comma to separate the different data. One can print many data all separated with commas.\n",
    "\n",
    "**[QUESTION**] How is this so different than the program we wrote in the previous notebook? Why abstraction is important or useful? Think about it..."
   ]
  },
  {
   "cell_type": "markdown",
   "metadata": {},
   "source": [
    "### Exercise 4\n",
    "\n",
    "While in the above solutions we have abstracted the number of tables a restaurant has, the size of those tables, and the bar capacity, it has not abstracted how full the restaurant is now: _\"the restaurant is only one third full\"_. Improve the solution by abstracting that information. You need to create and assign a new variable (in line 5) and use it in line 9:"
   ]
  },
  {
   "cell_type": "code",
   "execution_count": null,
   "metadata": {},
   "outputs": [],
   "source": [
    "# data about the restaurant space\n",
    "no_tables = 15\n",
    "people_per_table = 4\n",
    "people_at_bar = 9\n",
    "\n",
    "\n",
    "# we now implement the calculations to solve the problem\n",
    "restaurant_capacity = (no_tables * people_per_table) + people_at_bar # no of people at full capacity\n",
    "people_at_restaurant = restaurant_capacity // 3  # use floor division to get whole no of people\n",
    "\n",
    "# report to the user no of people\n",
    "print(\"There are currently\", people_at_restaurant, \"people in the restaurant\")"
   ]
  },
  {
   "cell_type": "markdown",
   "metadata": {},
   "source": [
    "<font size=\"5\" color=\"#b21200\"  face=\"verdana\"> <B>Calculating your TV's price</B></font>\n",
    "\n",
    "**Remember the TV you want to buy:** This laptop has a recommended price of \\\\$2199. A store has a sale offering 30% off. If you could only spend \\\\$1500 on a new laptop, would you be able to buy this? To find out you must:\n",
    "\n",
    "1. Calculate and **print** the value of the discount. \n",
    "2. Substract that expression from the original price to find and **print** the final sale price of the item._\n",
    "\n",
    "![laptop](imgs/laptop-sale.png)\n",
    "\n",
    "### Exercise 5\n",
    "\n",
    "A friend started coding the solution, but he got very tired and got asleep, leaving the code incomplete and non-functional... Help your friend complete it before she wakes up!!"
   ]
  },
  {
   "cell_type": "code",
   "execution_count": null,
   "metadata": {},
   "outputs": [],
   "source": [
    "tv_rec_price = 2199\n",
    "\n",
    "\n",
    "# Calculate the discount\n",
    "discount = tv_rec_price * sale_offer/100\n",
    "\n",
    "\n",
    "# Now do the reporting\n",
    "print(\"DISCOUNT 30% FOR TV:\", discount)\n",
    "print(\"FINAL SALE PRICE:\", final_price)"
   ]
  },
  {
   "cell_type": "markdown",
   "metadata": {},
   "source": [
    "<font size=\"5\" color=\"#b21200\"  face=\"verdana\"> <B>Hiring a canoe</B></font>\n",
    "\n",
    "### Exercise 6\n",
    "\n",
    "The cost of hiring a canoe is \\\\$15 per hour plus and extra booking fee of \\$10. Complete the following partial code to find out:\n",
    "\n",
    "1. The total cost of hire if you book a canoe for 1 hour. \n",
    "2. The total cost of hire if you book a canoe for 3 hours.\n",
    "2. The total cost of hire if you book a canoe for `n` hours (you can pick some arbitrary number for it).\n",
    "\n",
    "![canoe](imgs/canoe.jpg)"
   ]
  },
  {
   "cell_type": "code",
   "execution_count": null,
   "metadata": {},
   "outputs": [],
   "source": [
    "# --------------- YOUR CHANGES BELOW THIS LINE ---------------\n",
    "cost_per_hr = 15\n",
    "booking_fee = 10\n",
    "\n",
    "\n",
    "\n",
    "\n",
    "# --------------- YOUR CHANGES ABOVE THIS LINE ---------------\n",
    "\n",
    "# next report the various costs\n",
    "print(\"The cost to hire a conoe fr 1 hour is:\", cost_1_hr)\n",
    "print(\"The cost to hire a conoe fr 3 hour is:\", cost_3_hr)\n",
    "print(\"The cost to hire a conoe for\", n, \"hours is:\", cost_n_hr)"
   ]
  },
  {
   "cell_type": "markdown",
   "metadata": {},
   "source": [
    "<font size=\"5\" color=\"#b21200\"  face=\"verdana\"> <B>Self-assignment and Swapping</B></font>\n",
    "\n",
    "Consider this program:"
   ]
  },
  {
   "cell_type": "code",
   "execution_count": null,
   "metadata": {},
   "outputs": [],
   "source": [
    "x = 10\n",
    "print(x)\n",
    "\n",
    "x = x + 5\n",
    "\n",
    "# what is the value of x here? try it!\n"
   ]
  },
  {
   "cell_type": "markdown",
   "metadata": {},
   "source": [
    "In the above code, variable `x` was assigned value 10 and it was then printed. Then, there is another assignment statement for variable `x` again, but now the right hand side of the assignment uses `x` itself?\n",
    "\n",
    "### Exercise 7\n",
    "\n",
    "What do you think should be the value of `x` after line 4? Find out by writing some program in line 7! Remember that assignment statements of the form `x = <Exp>` mean \"set variable `x` to the value of the expression `Exp`. "
   ]
  },
  {
   "cell_type": "markdown",
   "metadata": {},
   "source": [
    "### Exercise 8\n",
    "\n",
    "And, now the final challenge! \n",
    "\n",
    "In lots of cases in algorithms, we need to swap the value of two variables. Suppose you have two variables `x` and `y` with their values. Write some code to swap their values. So, at the end `x` should have the value that `y` had, and vice-versa. No value should be \"lost\" and you are free to use the help of other new variables :-)\n"
   ]
  },
  {
   "cell_type": "code",
   "execution_count": null,
   "metadata": {},
   "outputs": [],
   "source": [
    "# initial values for the variables x and y\n",
    "x = 5\n",
    "y = 100\n",
    "print(\"Value of x:\", x, \"  / Value of y: \", y)\n",
    "\n",
    "# --------------- YOUR CHANGES BELOW THIS LINE ---------------\n",
    "\n",
    "\n",
    "\n",
    "\n",
    "# --------------- YOUR CHANGES ABOVE THIS LINE ---------------\n",
    "\n",
    "print(\"New value of x: \" + str(x) + \"  / New value of y: \" + str(y))\n"
   ]
  },
  {
   "cell_type": "markdown",
   "metadata": {},
   "source": [
    "<font size=\"5\" color=\"#b21200\"  face=\"verdana\"> <B>All done!</B></font>\n",
    "\n",
    "Perfect, we have seen the notion of variables to \"store\" data/information and abstract it from the calculations themselves to solve the problem. With variables, our code is more \"general\" as the calculations to solve it are stated at a higher conceptual level (variable \"my_salary\" rather than \\\\$34560). \n",
    "\n",
    "Variables allow us for _shorter_ and more _robust_ algorithms, as we can re-utilize a variable over and over in our code. They also allow us to modify the solution for new problem cases easier: just change the variable values!\n",
    "\n",
    "So far we have seen \"simple\" data types: strings and numbers. What about maniulating and storing lots of them? How do we store 100 numbers in one shot, sort them, and check if one particular number is one of those 100 numbers? Next notebook... \n",
    "\n",
    "![completed](imgs/completed.jpg)"
   ]
  },
  {
   "cell_type": "markdown",
   "metadata": {},
   "source": [
    "---------------------------\n",
    "Previous: [Hello World!](01.HelloWorld.ipynb) | [HOME](HOME.ipynb) | Next: [Conditionals](03.Conditionals.ipynb)"
   ]
  }
 ],
 "metadata": {
  "kernelspec": {
   "display_name": "Python 3",
   "language": "python",
   "name": "python3"
  },
  "language_info": {
   "codemirror_mode": {
    "name": "ipython",
    "version": 3
   },
   "file_extension": ".py",
   "mimetype": "text/x-python",
   "name": "python",
   "nbconvert_exporter": "python",
   "pygments_lexer": "ipython3",
   "version": "3.6.7"
  }
 },
 "nbformat": 4,
 "nbformat_minor": 2
}
